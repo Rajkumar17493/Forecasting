{
 "cells": [
  {
   "cell_type": "markdown",
   "id": "87fde117",
   "metadata": {},
   "source": [
    "### Import Libraries"
   ]
  },
  {
   "cell_type": "code",
   "execution_count": 1,
   "id": "c873eab3",
   "metadata": {
    "scrolled": true
   },
   "outputs": [],
   "source": [
    "#import Libraries\n",
    "\n",
    "import pandas as pd\n",
    "import numpy as np\n",
    "import matplotlib.pyplot as plt\n",
    "import seaborn as sns\n",
    "import itertools\n",
    "import warnings\n",
    "warnings.filterwarnings('ignore')\n",
    "\n",
    "from sklearn.metrics import mean_squared_error as mse\n",
    "from statsmodels.tsa.arima_model import ARIMA"
   ]
  },
  {
   "cell_type": "markdown",
   "id": "7c97b97a",
   "metadata": {},
   "source": [
    "### Import Data"
   ]
  },
  {
   "cell_type": "code",
   "execution_count": 2,
   "id": "e14de956",
   "metadata": {},
   "outputs": [
    {
     "data": {
      "text/html": [
       "<div>\n",
       "<style scoped>\n",
       "    .dataframe tbody tr th:only-of-type {\n",
       "        vertical-align: middle;\n",
       "    }\n",
       "\n",
       "    .dataframe tbody tr th {\n",
       "        vertical-align: top;\n",
       "    }\n",
       "\n",
       "    .dataframe thead th {\n",
       "        text-align: right;\n",
       "    }\n",
       "</style>\n",
       "<table border=\"1\" class=\"dataframe\">\n",
       "  <thead>\n",
       "    <tr style=\"text-align: right;\">\n",
       "      <th></th>\n",
       "      <th>Water</th>\n",
       "    </tr>\n",
       "    <tr>\n",
       "      <th>Year</th>\n",
       "      <th></th>\n",
       "    </tr>\n",
       "  </thead>\n",
       "  <tbody>\n",
       "    <tr>\n",
       "      <th>1885-01-01</th>\n",
       "      <td>356</td>\n",
       "    </tr>\n",
       "    <tr>\n",
       "      <th>1886-01-01</th>\n",
       "      <td>386</td>\n",
       "    </tr>\n",
       "    <tr>\n",
       "      <th>1887-01-01</th>\n",
       "      <td>397</td>\n",
       "    </tr>\n",
       "    <tr>\n",
       "      <th>1888-01-01</th>\n",
       "      <td>397</td>\n",
       "    </tr>\n",
       "    <tr>\n",
       "      <th>1889-01-01</th>\n",
       "      <td>413</td>\n",
       "    </tr>\n",
       "    <tr>\n",
       "      <th>...</th>\n",
       "      <td>...</td>\n",
       "    </tr>\n",
       "    <tr>\n",
       "      <th>1959-01-01</th>\n",
       "      <td>594</td>\n",
       "    </tr>\n",
       "    <tr>\n",
       "      <th>1960-01-01</th>\n",
       "      <td>587</td>\n",
       "    </tr>\n",
       "    <tr>\n",
       "      <th>1961-01-01</th>\n",
       "      <td>587</td>\n",
       "    </tr>\n",
       "    <tr>\n",
       "      <th>1962-01-01</th>\n",
       "      <td>625</td>\n",
       "    </tr>\n",
       "    <tr>\n",
       "      <th>1963-01-01</th>\n",
       "      <td>613</td>\n",
       "    </tr>\n",
       "  </tbody>\n",
       "</table>\n",
       "<p>79 rows × 1 columns</p>\n",
       "</div>"
      ],
      "text/plain": [
       "            Water\n",
       "Year             \n",
       "1885-01-01    356\n",
       "1886-01-01    386\n",
       "1887-01-01    397\n",
       "1888-01-01    397\n",
       "1889-01-01    413\n",
       "...           ...\n",
       "1959-01-01    594\n",
       "1960-01-01    587\n",
       "1961-01-01    587\n",
       "1962-01-01    625\n",
       "1963-01-01    613\n",
       "\n",
       "[79 rows x 1 columns]"
      ]
     },
     "execution_count": 2,
     "metadata": {},
     "output_type": "execute_result"
    }
   ],
   "source": [
    "water_data=pd.read_csv('water.csv',index_col=0,parse_dates=True)\n",
    "water_data"
   ]
  },
  {
   "cell_type": "markdown",
   "id": "4f7c7faf",
   "metadata": {},
   "source": [
    "### Understanding the Data"
   ]
  },
  {
   "cell_type": "code",
   "execution_count": 3,
   "id": "e5bb8d00",
   "metadata": {},
   "outputs": [
    {
     "data": {
      "text/plain": [
       "(79, 1)"
      ]
     },
     "execution_count": 3,
     "metadata": {},
     "output_type": "execute_result"
    }
   ],
   "source": [
    "water_data.shape"
   ]
  },
  {
   "cell_type": "code",
   "execution_count": 4,
   "id": "6febe3e5",
   "metadata": {},
   "outputs": [
    {
     "data": {
      "text/plain": [
       "Water    0\n",
       "dtype: int64"
      ]
     },
     "execution_count": 4,
     "metadata": {},
     "output_type": "execute_result"
    }
   ],
   "source": [
    "water_data.isna().sum()"
   ]
  },
  {
   "cell_type": "code",
   "execution_count": 5,
   "id": "673bed0d",
   "metadata": {},
   "outputs": [
    {
     "data": {
      "text/plain": [
       "Water    int64\n",
       "dtype: object"
      ]
     },
     "execution_count": 5,
     "metadata": {},
     "output_type": "execute_result"
    }
   ],
   "source": [
    "water_data.dtypes"
   ]
  },
  {
   "cell_type": "markdown",
   "id": "64d92392",
   "metadata": {},
   "source": [
    "### Visualization"
   ]
  },
  {
   "cell_type": "code",
   "execution_count": 6,
   "id": "b9db8e21",
   "metadata": {},
   "outputs": [
    {
     "data": {
      "image/png": "[encoded data removed]",
      "text/plain": [
       "<Figure size 720x432 with 1 Axes>"
      ]
     },
     "metadata": {
      "needs_background": "light"
     },
     "output_type": "display_data"
    }
   ],
   "source": [
    "plt.figure(figsize=(10,6))\n",
    "plt.plot(water_data)\n",
    "plt.show()"
   ]
  },
  {
   "cell_type": "code",
   "execution_count": 7,
   "id": "92cb887d",
   "metadata": {},
   "outputs": [
    {
     "data": {
      "image/png": "[encoded data removed]",
      "text/plain": [
       "<Figure size 720x432 with 1 Axes>"
      ]
     },
     "metadata": {
      "needs_background": "light"
     },
     "output_type": "display_data"
    }
   ],
   "source": [
    "plt.figure(figsize=(10,6))\n",
    "sns.boxplot(water_data['Water'])\n",
    "plt.show()"
   ]
  },
  {
   "cell_type": "code",
   "execution_count": 8,
   "id": "eee821bb",
   "metadata": {},
   "outputs": [
    {
     "data": {
      "image/png": "[encoded data removed]",
      "text/plain": [
       "<Figure size 720x432 with 1 Axes>"
      ]
     },
     "metadata": {
      "needs_background": "light"
     },
     "output_type": "display_data"
    }
   ],
   "source": [
    "plt.figure(figsize=(10,6))\n",
    "sns.distplot(water_data['Water'])\n",
    "plt.show()"
   ]
  },
  {
   "cell_type": "markdown",
   "id": "2978149d",
   "metadata": {},
   "source": [
    "### Data Preparation - Persistent / Base Model"
   ]
  },
  {
   "cell_type": "code",
   "execution_count": 9,
   "id": "d8e20f46",
   "metadata": {},
   "outputs": [
    {
     "name": "stdout",
     "output_type": "stream",
     "text": [
      "Dataset 69, Validation 10\n"
     ]
    }
   ],
   "source": [
    "split_point=len(water_data)-10\n",
    "\n",
    "training_data=water_data[0:split_point]\n",
    "testing_data=water_data[split_point:]\n",
    "\n",
    "print(f'Dataset {len(training_data)}, Validation {len(testing_data)}')"
   ]
  },
  {
   "cell_type": "code",
   "execution_count": 10,
   "id": "fda986bc",
   "metadata": {},
   "outputs": [],
   "source": [
    "training_data.to_csv('dataset.csv',header=False)\n",
    "testing_data.to_csv('validation.csv',header=False)\n",
    "train_input=pd.read_csv('dataset.csv',header=None,index_col=0,parse_dates=True,squeeze=True)\n",
    "\n",
    "X = train_input.values\n",
    "X = X.astype('float32')\n",
    "train_size = int(len(X)*0.5)\n",
    "train,test = X[0:train_size],X[train_size:]"
   ]
  },
  {
   "cell_type": "code",
   "execution_count": 11,
   "id": "2ad05382",
   "metadata": {},
   "outputs": [
    {
     "name": "stdout",
     "output_type": "stream",
     "text": [
      "Observed 503.0, predicted 503.0\n",
      "Observed 503.0, predicted 503.0\n",
      "Observed 515.0, predicted 503.0\n",
      "Observed 522.0, predicted 515.0\n",
      "Observed 492.0, predicted 522.0\n",
      "Observed 503.0, predicted 492.0\n",
      "Observed 503.0, predicted 503.0\n",
      "Observed 450.0, predicted 503.0\n",
      "Observed 432.0, predicted 450.0\n",
      "Observed 432.0, predicted 432.0\n",
      "Observed 458.0, predicted 432.0\n",
      "Observed 462.0, predicted 458.0\n",
      "Observed 503.0, predicted 462.0\n",
      "Observed 488.0, predicted 503.0\n",
      "Observed 466.0, predicted 488.0\n",
      "Observed 492.0, predicted 466.0\n",
      "Observed 503.0, predicted 492.0\n",
      "Observed 515.0, predicted 503.0\n",
      "Observed 500.0, predicted 515.0\n",
      "Observed 522.0, predicted 500.0\n",
      "Observed 575.0, predicted 522.0\n",
      "Observed 583.0, predicted 575.0\n",
      "Observed 587.0, predicted 583.0\n",
      "Observed 628.0, predicted 587.0\n",
      "Observed 640.0, predicted 628.0\n",
      "Observed 609.0, predicted 640.0\n",
      "Observed 606.0, predicted 609.0\n",
      "Observed 632.0, predicted 606.0\n",
      "Observed 617.0, predicted 632.0\n",
      "Observed 613.0, predicted 617.0\n",
      "Observed 598.0, predicted 613.0\n",
      "Observed 575.0, predicted 598.0\n",
      "Observed 564.0, predicted 575.0\n",
      "Observed 549.0, predicted 564.0\n",
      "Observed 538.0, predicted 549.0\n",
      "Root Mean Squared Error : 21.975\n"
     ]
    }
   ],
   "source": [
    "predictions=list()\n",
    "history=[x for x in train]\n",
    "for i in range(0,len(test)):\n",
    "    yhat = history[-1]\n",
    "    predictions.append(yhat)\n",
    "    obs=test[i]\n",
    "    history.append(obs)\n",
    "    print(f\"Observed {obs}, predicted {yhat}\")\n",
    "rmse=np.sqrt(mse(test,predictions))\n",
    "print(\"Root Mean Squared Error : %.3f\" % rmse)"
   ]
  },
  {
   "cell_type": "markdown",
   "id": "4a36b19c",
   "metadata": {},
   "source": [
    "### ARIMA Model - Hyper Parameter"
   ]
  },
  {
   "cell_type": "markdown",
   "id": "4ea6318a",
   "metadata": {},
   "source": [
    "#### Evaluate Arima Model"
   ]
  },
  {
   "cell_type": "code",
   "execution_count": 12,
   "id": "4149501c",
   "metadata": {},
   "outputs": [],
   "source": [
    "#evaluate arima model for a given arima order (p,q,d) and evaluate RMSE\n",
    "def evaluate_arima_model(X,arima_order):\n",
    "#preparing training dataset\n",
    "    X=X.astype('float32')\n",
    "    train_size = int(len(X) * 0.5)\n",
    "    train,test = X[0:train_size], X[train_size:]\n",
    "    history = [i for i in train]\n",
    "#make predictions\n",
    "    predictions = list()\n",
    "    for t in range(0,len(test)):\n",
    "        model = ARIMA(endog=history,order=arima_order).fit(disp=0)\n",
    "        yhat = model.forecast()[0]\n",
    "        predictions.append(yhat)\n",
    "        history.append(test[t])\n",
    "#Calculate RMSE\n",
    "    RMSE = np.sqrt(mse(test, predictions))\n",
    "    return RMSE"
   ]
  },
  {
   "cell_type": "code",
   "execution_count": 13,
   "id": "9787645e",
   "metadata": {},
   "outputs": [],
   "source": [
    "train = pd.read_csv('dataset.csv', header=None, index_col=0, parse_dates=True, squeeze=True)\n",
    "X=train.values"
   ]
  },
  {
   "cell_type": "markdown",
   "id": "15024aa4",
   "metadata": {},
   "source": [
    "### Grid search / Evaluate Arima Order (p, q, d)"
   ]
  },
  {
   "cell_type": "code",
   "execution_count": 14,
   "id": "c999b1bb",
   "metadata": {},
   "outputs": [],
   "source": [
    "def evaluate_order(dataset, p_values, q_values, d_values):\n",
    "    dataset = dataset.astype('float32')\n",
    "    best_score, best_order = float('inf'), None\n",
    "    for p in p_values:\n",
    "        for q in q_values:\n",
    "            for d in d_values:\n",
    "                try:\n",
    "                    order = (p,q,d)\n",
    "                    rmse = evaluate_arima_model(train,order)\n",
    "                    print(f\"RMSE is {rmse} and Order is {order}\")\n",
    "                    if rmse < best_score:\n",
    "                        best_score,best_order = rmse,order\n",
    "                except:\n",
    "                    continue\n",
    "    print(f\"best score is {best_score} and best order is {best_order}\")"
   ]
  },
  {
   "cell_type": "code",
   "execution_count": 15,
   "id": "2cbf316a",
   "metadata": {},
   "outputs": [
    {
     "name": "stdout",
     "output_type": "stream",
     "text": [
      "RMSE is 76.75491713273671 and Order is (0, 0, 0)\n",
      "RMSE is 47.345937882743314 and Order is (0, 0, 1)\n",
      "RMSE is 36.048397307684276 and Order is (0, 0, 2)\n",
      "RMSE is 32.587271504233286 and Order is (0, 0, 3)\n",
      "RMSE is 22.311363342341636 and Order is (0, 1, 0)\n",
      "RMSE is 22.25807743307064 and Order is (0, 1, 1)\n",
      "RMSE is 28.43039363261121 and Order is (0, 1, 2)\n",
      "RMSE is 30.0543242818172 and Order is (0, 1, 3)\n",
      "RMSE is 29.334732391917857 and Order is (0, 2, 0)\n",
      "RMSE is 23.071921387211034 and Order is (0, 2, 1)\n",
      "RMSE is 22.954260410628596 and Order is (0, 2, 2)\n",
      "RMSE is 23.3745596528375 and Order is (0, 2, 3)\n",
      "RMSE is 23.957804470376274 and Order is (1, 0, 0)\n",
      "RMSE is 23.99808081068842 and Order is (1, 0, 1)\n",
      "RMSE is 25.411646722706667 and Order is (1, 0, 2)\n",
      "RMSE is 31.454189840305514 and Order is (1, 0, 3)\n",
      "RMSE is 22.269859725644316 and Order is (1, 1, 0)\n",
      "RMSE is 27.786455960068235 and Order is (1, 2, 0)\n",
      "RMSE is 22.97940549325985 and Order is (1, 2, 1)\n",
      "RMSE is 24.13091053761146 and Order is (2, 0, 0)\n",
      "RMSE is 24.13968068754003 and Order is (2, 0, 1)\n",
      "RMSE is 22.084025542299507 and Order is (2, 1, 0)\n",
      "RMSE is 25.615558000137135 and Order is (2, 2, 0)\n",
      "RMSE is 25.60726126628972 and Order is (2, 2, 3)\n",
      "RMSE is 24.183091129247813 and Order is (3, 0, 0)\n",
      "RMSE is 24.966526816655623 and Order is (3, 0, 1)\n",
      "RMSE is 25.060436258017788 and Order is (3, 1, 0)\n",
      "RMSE is 32.091970058602136 and Order is (3, 1, 1)\n",
      "RMSE is 26.125554330135888 and Order is (3, 2, 0)\n",
      "RMSE is 25.593338066314683 and Order is (3, 2, 1)\n",
      "best score is 22.084025542299507 and best order is (2, 1, 0)\n"
     ]
    }
   ],
   "source": [
    "p_values = range(0,4)\n",
    "q_values = range(0,4)\n",
    "d_values = range(0,4)\n",
    "import warnings\n",
    "warnings.filterwarnings('ignore')\n",
    "evaluate_order(train,p_values,q_values,d_values)"
   ]
  },
  {
   "cell_type": "markdown",
   "id": "b0a2599f",
   "metadata": {},
   "source": [
    "### Build Model Based on Optimized values"
   ]
  },
  {
   "cell_type": "code",
   "execution_count": 16,
   "id": "3e3130f5",
   "metadata": {},
   "outputs": [],
   "source": [
    "train = pd.read_csv('dataset.csv', header=None, index_col=0, parse_dates=True, squeeze=True)\n",
    "X=train.values\n",
    "X=X.astype('float32')"
   ]
  },
  {
   "cell_type": "code",
   "execution_count": 17,
   "id": "3f296681",
   "metadata": {},
   "outputs": [
    {
     "data": {
      "text/plain": [
       "array([541.91813222, 546.07387203, 548.68825128, 551.21037526,\n",
       "       553.88878788, 556.58364509, 559.26296585, 561.93989528,\n",
       "       564.61833601, 567.29709172])"
      ]
     },
     "execution_count": 17,
     "metadata": {},
     "output_type": "execute_result"
    }
   ],
   "source": [
    "model=ARIMA(X,order=(2,1,0))\n",
    "model_fit = model.fit()\n",
    "forecast=model_fit.forecast(steps=10)[0]\n",
    "forecast"
   ]
  },
  {
   "cell_type": "code",
   "execution_count": 18,
   "id": "1cf40467",
   "metadata": {},
   "outputs": [
    {
     "data": {
      "image/png": "[encoded data removed]",
      "text/plain": [
       "<Figure size 432x288 with 1 Axes>"
      ]
     },
     "metadata": {
      "needs_background": "light"
     },
     "output_type": "display_data"
    }
   ],
   "source": [
    "model_fit.plot_predict(1,79)\n",
    "plt.show()"
   ]
  },
  {
   "cell_type": "code",
   "execution_count": 19,
   "id": "deb56a66",
   "metadata": {},
   "outputs": [
    {
     "data": {
      "text/plain": [
       "0    568\n",
       "1    575\n",
       "2    579\n",
       "3    587\n",
       "4    602\n",
       "5    594\n",
       "6    587\n",
       "7    587\n",
       "8    625\n",
       "9    613\n",
       "Name: 1, dtype: int64"
      ]
     },
     "execution_count": 19,
     "metadata": {},
     "output_type": "execute_result"
    }
   ],
   "source": [
    "val = pd.read_csv('validation.csv',header=None)\n",
    "val[1]"
   ]
  },
  {
   "cell_type": "code",
   "execution_count": 20,
   "id": "ac498110",
   "metadata": {},
   "outputs": [
    {
     "data": {
      "text/plain": [
       "38.16203543589212"
      ]
     },
     "execution_count": 20,
     "metadata": {},
     "output_type": "execute_result"
    }
   ],
   "source": [
    "rmse_optimzed=np.sqrt(mse(val[1],forecast))\n",
    "rmse_optimzed"
   ]
  },
  {
   "cell_type": "markdown",
   "id": "2700a2b0",
   "metadata": {},
   "source": [
    "### Combine train and test data to build final model"
   ]
  },
  {
   "cell_type": "code",
   "execution_count": 21,
   "id": "52a95094",
   "metadata": {},
   "outputs": [
    {
     "data": {
      "text/plain": [
       "Year\n",
       "1885-01-01    356.0\n",
       "1886-01-01    386.0\n",
       "1887-01-01    397.0\n",
       "1888-01-01    397.0\n",
       "1889-01-01    413.0\n",
       "              ...  \n",
       "1959-01-01    594.0\n",
       "1960-01-01    587.0\n",
       "1961-01-01    587.0\n",
       "1962-01-01    625.0\n",
       "1963-01-01    613.0\n",
       "Name: Water, Length: 79, dtype: float32"
      ]
     },
     "execution_count": 21,
     "metadata": {},
     "output_type": "execute_result"
    }
   ],
   "source": [
    "water_full_data=pd.read_csv('water.csv',header=0,index_col=0,parse_dates=True)\n",
    "X=water_full_data['Water']\n",
    "X=X.astype('float32')\n",
    "X"
   ]
  },
  {
   "cell_type": "code",
   "execution_count": 22,
   "id": "cded5e54",
   "metadata": {},
   "outputs": [],
   "source": [
    "final_model = ARIMA(X,(2,1,0))\n",
    "final_model_fit = final_model.fit()"
   ]
  },
  {
   "cell_type": "code",
   "execution_count": 23,
   "id": "7ee420bc",
   "metadata": {},
   "outputs": [
    {
     "data": {
      "image/png": "[encoded data removed]",
      "text/plain": [
       "<Figure size 432x288 with 1 Axes>"
      ]
     },
     "metadata": {
      "needs_background": "light"
     },
     "output_type": "display_data"
    }
   ],
   "source": [
    "forecast=final_model_fit.forecast(steps=10)[0]\n",
    "final_model_fit.plot_predict(1,80)\n",
    "plt.show()"
   ]
  },
  {
   "cell_type": "code",
   "execution_count": 24,
   "id": "4c0b75fd",
   "metadata": {},
   "outputs": [
    {
     "data": {
      "text/plain": [
       "array([611.80226106, 616.60052463, 620.37844494, 623.44640745,\n",
       "       626.60600614, 629.84870402, 633.08381072, 636.30929433,\n",
       "       639.53531635, 642.76244149])"
      ]
     },
     "execution_count": 24,
     "metadata": {},
     "output_type": "execute_result"
    }
   ],
   "source": [
    "forecast"
   ]
  },
  {
   "cell_type": "markdown",
   "id": "39bf014c",
   "metadata": {},
   "source": [
    "### End !!!"
   ]
  }
 ],
 "metadata": {
  "kernelspec": {
   "display_name": "Python 3 (ipykernel)",
   "language": "python",
   "name": "python3"
  },
  "language_info": {
   "codemirror_mode": {
    "name": "ipython",
    "version": 3
   },
   "file_extension": ".py",
   "mimetype": "text/x-python",
   "name": "python",
   "nbconvert_exporter": "python",
   "pygments_lexer": "ipython3",
   "version": "3.9.7"
  }
 },
 "nbformat": 4,
 "nbformat_minor": 5
}
