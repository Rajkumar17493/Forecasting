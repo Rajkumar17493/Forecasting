{
 "cells": [
  {
   "cell_type": "markdown",
   "id": "a7d58ace",
   "metadata": {},
   "source": [
    "### Problem Statement\n",
    "\n",
    "Forecast the CocaCola prices data set. Prepare a document for each model explaining \n",
    "how many dummy variables you have created and RMSE value for each model. Finally which model you will use for \n",
    "Forecasting."
   ]
  },
  {
   "cell_type": "markdown",
   "id": "fe71f57e",
   "metadata": {},
   "source": [
    "### Import Libraries"
   ]
  },
  {
   "cell_type": "code",
   "execution_count": 1,
   "id": "66fa7f27",
   "metadata": {},
   "outputs": [],
   "source": [
    "import pandas as pd\n",
    "import numpy as np\n",
    "import seaborn as sns\n",
    "import matplotlib.pyplot as plt\n",
    "%matplotlib inline\n",
    "\n",
    "import statsmodels.formula.api as smf\n",
    "from sklearn.metrics import mean_squared_error\n",
    "\n",
    "from statsmodels.tsa.seasonal import seasonal_decompose\n",
    "from statsmodels.tsa.holtwinters import SimpleExpSmoothing,Holt,ExponentialSmoothing\n",
    "from statsmodels.tsa.arima_model import ARIMA\n",
    "\n",
    "import warnings\n",
    "warnings.filterwarnings('ignore')"
   ]
  },
  {
   "cell_type": "markdown",
   "id": "1a931d8e",
   "metadata": {},
   "source": [
    "### Import Data"
   ]
  },
  {
   "cell_type": "code",
   "execution_count": 2,
   "id": "78df0dac",
   "metadata": {
    "scrolled": true
   },
   "outputs": [
    {
     "data": {
      "text/html": [
       "<div>\n",
       "<style scoped>\n",
       "    .dataframe tbody tr th:only-of-type {\n",
       "        vertical-align: middle;\n",
       "    }\n",
       "\n",
       "    .dataframe tbody tr th {\n",
       "        vertical-align: top;\n",
       "    }\n",
       "\n",
       "    .dataframe thead th {\n",
       "        text-align: right;\n",
       "    }\n",
       "</style>\n",
       "<table border=\"1\" class=\"dataframe\">\n",
       "  <thead>\n",
       "    <tr style=\"text-align: right;\">\n",
       "      <th></th>\n",
       "      <th>Quarter</th>\n",
       "      <th>Sales</th>\n",
       "    </tr>\n",
       "  </thead>\n",
       "  <tbody>\n",
       "    <tr>\n",
       "      <th>37</th>\n",
       "      <td>Q2_95</td>\n",
       "      <td>4936.0</td>\n",
       "    </tr>\n",
       "    <tr>\n",
       "      <th>38</th>\n",
       "      <td>Q3_95</td>\n",
       "      <td>4895.0</td>\n",
       "    </tr>\n",
       "    <tr>\n",
       "      <th>39</th>\n",
       "      <td>Q4_95</td>\n",
       "      <td>4333.0</td>\n",
       "    </tr>\n",
       "    <tr>\n",
       "      <th>40</th>\n",
       "      <td>Q1_96</td>\n",
       "      <td>4194.0</td>\n",
       "    </tr>\n",
       "    <tr>\n",
       "      <th>41</th>\n",
       "      <td>Q2_96</td>\n",
       "      <td>5253.0</td>\n",
       "    </tr>\n",
       "  </tbody>\n",
       "</table>\n",
       "</div>"
      ],
      "text/plain": [
       "   Quarter   Sales\n",
       "37   Q2_95  4936.0\n",
       "38   Q3_95  4895.0\n",
       "39   Q4_95  4333.0\n",
       "40   Q1_96  4194.0\n",
       "41   Q2_96  5253.0"
      ]
     },
     "execution_count": 2,
     "metadata": {},
     "output_type": "execute_result"
    }
   ],
   "source": [
    "coca_cola=pd.read_excel('CocaCola_Sales_Rawdata.xlsx')\n",
    "coca_cola.tail()"
   ]
  },
  {
   "cell_type": "markdown",
   "id": "9bc8c68b",
   "metadata": {},
   "source": [
    "### Data Understanding"
   ]
  },
  {
   "cell_type": "code",
   "execution_count": 3,
   "id": "e2b77a3e",
   "metadata": {},
   "outputs": [
    {
     "data": {
      "text/plain": [
       "(42, 2)"
      ]
     },
     "execution_count": 3,
     "metadata": {},
     "output_type": "execute_result"
    }
   ],
   "source": [
    "coca_cola.shape"
   ]
  },
  {
   "cell_type": "code",
   "execution_count": 4,
   "id": "cf4ab3a6",
   "metadata": {},
   "outputs": [
    {
     "data": {
      "text/plain": [
       "Quarter    0\n",
       "Sales      0\n",
       "dtype: int64"
      ]
     },
     "execution_count": 4,
     "metadata": {},
     "output_type": "execute_result"
    }
   ],
   "source": [
    "coca_cola.isna().sum()"
   ]
  },
  {
   "cell_type": "code",
   "execution_count": 5,
   "id": "875e12ca",
   "metadata": {
    "scrolled": true
   },
   "outputs": [
    {
     "data": {
      "text/plain": [
       "Quarter     object\n",
       "Sales      float64\n",
       "dtype: object"
      ]
     },
     "execution_count": 5,
     "metadata": {},
     "output_type": "execute_result"
    }
   ],
   "source": [
    "coca_cola.dtypes"
   ]
  },
  {
   "cell_type": "code",
   "execution_count": 6,
   "id": "4e96f75d",
   "metadata": {},
   "outputs": [
    {
     "data": {
      "text/html": [
       "<div>\n",
       "<style scoped>\n",
       "    .dataframe tbody tr th:only-of-type {\n",
       "        vertical-align: middle;\n",
       "    }\n",
       "\n",
       "    .dataframe tbody tr th {\n",
       "        vertical-align: top;\n",
       "    }\n",
       "\n",
       "    .dataframe thead th {\n",
       "        text-align: right;\n",
       "    }\n",
       "</style>\n",
       "<table border=\"1\" class=\"dataframe\">\n",
       "  <thead>\n",
       "    <tr style=\"text-align: right;\">\n",
       "      <th></th>\n",
       "      <th>Quarter</th>\n",
       "      <th>Sales</th>\n",
       "    </tr>\n",
       "  </thead>\n",
       "  <tbody>\n",
       "  </tbody>\n",
       "</table>\n",
       "</div>"
      ],
      "text/plain": [
       "Empty DataFrame\n",
       "Columns: [Quarter, Sales]\n",
       "Index: []"
      ]
     },
     "execution_count": 6,
     "metadata": {},
     "output_type": "execute_result"
    }
   ],
   "source": [
    "coca_cola[coca_cola.duplicated()]"
   ]
  },
  {
   "cell_type": "markdown",
   "id": "b251b4ac",
   "metadata": {},
   "source": [
    "### Data Preparation"
   ]
  },
  {
   "cell_type": "code",
   "execution_count": 7,
   "id": "4efe451a",
   "metadata": {},
   "outputs": [
    {
     "data": {
      "text/html": [
       "<div>\n",
       "<style scoped>\n",
       "    .dataframe tbody tr th:only-of-type {\n",
       "        vertical-align: middle;\n",
       "    }\n",
       "\n",
       "    .dataframe tbody tr th {\n",
       "        vertical-align: top;\n",
       "    }\n",
       "\n",
       "    .dataframe thead th {\n",
       "        text-align: right;\n",
       "    }\n",
       "</style>\n",
       "<table border=\"1\" class=\"dataframe\">\n",
       "  <thead>\n",
       "    <tr style=\"text-align: right;\">\n",
       "      <th></th>\n",
       "      <th>Quarter</th>\n",
       "      <th>Sales</th>\n",
       "    </tr>\n",
       "  </thead>\n",
       "  <tbody>\n",
       "    <tr>\n",
       "      <th>0</th>\n",
       "      <td>Q1_86</td>\n",
       "      <td>1734.827000</td>\n",
       "    </tr>\n",
       "    <tr>\n",
       "      <th>1</th>\n",
       "      <td>Q2_86</td>\n",
       "      <td>2244.960999</td>\n",
       "    </tr>\n",
       "    <tr>\n",
       "      <th>2</th>\n",
       "      <td>Q3_86</td>\n",
       "      <td>2533.804993</td>\n",
       "    </tr>\n",
       "    <tr>\n",
       "      <th>3</th>\n",
       "      <td>Q4_86</td>\n",
       "      <td>2154.962997</td>\n",
       "    </tr>\n",
       "    <tr>\n",
       "      <th>4</th>\n",
       "      <td>Q1_87</td>\n",
       "      <td>1547.818996</td>\n",
       "    </tr>\n",
       "  </tbody>\n",
       "</table>\n",
       "</div>"
      ],
      "text/plain": [
       "  Quarter        Sales\n",
       "0   Q1_86  1734.827000\n",
       "1   Q2_86  2244.960999\n",
       "2   Q3_86  2533.804993\n",
       "3   Q4_86  2154.962997\n",
       "4   Q1_87  1547.818996"
      ]
     },
     "execution_count": 7,
     "metadata": {},
     "output_type": "execute_result"
    }
   ],
   "source": [
    "coca_cola.head()"
   ]
  },
  {
   "cell_type": "code",
   "execution_count": 8,
   "id": "cf52e66d",
   "metadata": {},
   "outputs": [
    {
     "data": {
      "text/html": [
       "<div>\n",
       "<style scoped>\n",
       "    .dataframe tbody tr th:only-of-type {\n",
       "        vertical-align: middle;\n",
       "    }\n",
       "\n",
       "    .dataframe tbody tr th {\n",
       "        vertical-align: top;\n",
       "    }\n",
       "\n",
       "    .dataframe thead th {\n",
       "        text-align: right;\n",
       "    }\n",
       "</style>\n",
       "<table border=\"1\" class=\"dataframe\">\n",
       "  <thead>\n",
       "    <tr style=\"text-align: right;\">\n",
       "      <th></th>\n",
       "      <th>Quarter</th>\n",
       "      <th>Sales</th>\n",
       "      <th>date</th>\n",
       "    </tr>\n",
       "  </thead>\n",
       "  <tbody>\n",
       "    <tr>\n",
       "      <th>0</th>\n",
       "      <td>Q1_86</td>\n",
       "      <td>1734.827000</td>\n",
       "      <td>1986-01-01</td>\n",
       "    </tr>\n",
       "    <tr>\n",
       "      <th>1</th>\n",
       "      <td>Q2_86</td>\n",
       "      <td>2244.960999</td>\n",
       "      <td>1986-04-01</td>\n",
       "    </tr>\n",
       "    <tr>\n",
       "      <th>2</th>\n",
       "      <td>Q3_86</td>\n",
       "      <td>2533.804993</td>\n",
       "      <td>1986-07-01</td>\n",
       "    </tr>\n",
       "    <tr>\n",
       "      <th>3</th>\n",
       "      <td>Q4_86</td>\n",
       "      <td>2154.962997</td>\n",
       "      <td>1986-10-01</td>\n",
       "    </tr>\n",
       "    <tr>\n",
       "      <th>4</th>\n",
       "      <td>Q1_87</td>\n",
       "      <td>1547.818996</td>\n",
       "      <td>1987-01-01</td>\n",
       "    </tr>\n",
       "  </tbody>\n",
       "</table>\n",
       "</div>"
      ],
      "text/plain": [
       "  Quarter        Sales       date\n",
       "0   Q1_86  1734.827000 1986-01-01\n",
       "1   Q2_86  2244.960999 1986-04-01\n",
       "2   Q3_86  2533.804993 1986-07-01\n",
       "3   Q4_86  2154.962997 1986-10-01\n",
       "4   Q1_87  1547.818996 1987-01-01"
      ]
     },
     "execution_count": 8,
     "metadata": {},
     "output_type": "execute_result"
    }
   ],
   "source": [
    "coca_cola['date']=pd.to_datetime(['19'+x[3:5]+'-'+x[:2] for x in coca_cola['Quarter']])\n",
    "coca_cola.head()"
   ]
  },
  {
   "cell_type": "code",
   "execution_count": 9,
   "id": "4f4b35e1",
   "metadata": {},
   "outputs": [
    {
     "data": {
      "text/html": [
       "<div>\n",
       "<style scoped>\n",
       "    .dataframe tbody tr th:only-of-type {\n",
       "        vertical-align: middle;\n",
       "    }\n",
       "\n",
       "    .dataframe tbody tr th {\n",
       "        vertical-align: top;\n",
       "    }\n",
       "\n",
       "    .dataframe thead th {\n",
       "        text-align: right;\n",
       "    }\n",
       "</style>\n",
       "<table border=\"1\" class=\"dataframe\">\n",
       "  <thead>\n",
       "    <tr style=\"text-align: right;\">\n",
       "      <th></th>\n",
       "      <th>Quarter</th>\n",
       "      <th>Sales</th>\n",
       "      <th>date</th>\n",
       "      <th>year</th>\n",
       "      <th>month</th>\n",
       "    </tr>\n",
       "  </thead>\n",
       "  <tbody>\n",
       "    <tr>\n",
       "      <th>0</th>\n",
       "      <td>Q1_86</td>\n",
       "      <td>1734.827000</td>\n",
       "      <td>1986-01-01</td>\n",
       "      <td>1986</td>\n",
       "      <td>Jan</td>\n",
       "    </tr>\n",
       "    <tr>\n",
       "      <th>1</th>\n",
       "      <td>Q2_86</td>\n",
       "      <td>2244.960999</td>\n",
       "      <td>1986-04-01</td>\n",
       "      <td>1986</td>\n",
       "      <td>Apr</td>\n",
       "    </tr>\n",
       "    <tr>\n",
       "      <th>2</th>\n",
       "      <td>Q3_86</td>\n",
       "      <td>2533.804993</td>\n",
       "      <td>1986-07-01</td>\n",
       "      <td>1986</td>\n",
       "      <td>Jul</td>\n",
       "    </tr>\n",
       "    <tr>\n",
       "      <th>3</th>\n",
       "      <td>Q4_86</td>\n",
       "      <td>2154.962997</td>\n",
       "      <td>1986-10-01</td>\n",
       "      <td>1986</td>\n",
       "      <td>Oct</td>\n",
       "    </tr>\n",
       "    <tr>\n",
       "      <th>4</th>\n",
       "      <td>Q1_87</td>\n",
       "      <td>1547.818996</td>\n",
       "      <td>1987-01-01</td>\n",
       "      <td>1987</td>\n",
       "      <td>Jan</td>\n",
       "    </tr>\n",
       "  </tbody>\n",
       "</table>\n",
       "</div>"
      ],
      "text/plain": [
       "  Quarter        Sales       date  year month\n",
       "0   Q1_86  1734.827000 1986-01-01  1986   Jan\n",
       "1   Q2_86  2244.960999 1986-04-01  1986   Apr\n",
       "2   Q3_86  2533.804993 1986-07-01  1986   Jul\n",
       "3   Q4_86  2154.962997 1986-10-01  1986   Oct\n",
       "4   Q1_87  1547.818996 1987-01-01  1987   Jan"
      ]
     },
     "execution_count": 9,
     "metadata": {},
     "output_type": "execute_result"
    }
   ],
   "source": [
    "coca_cola['year']=coca_cola['date'].dt.strftime('%Y')\n",
    "coca_cola['month']=coca_cola['date'].dt.strftime('%b')\n",
    "coca_cola.head()"
   ]
  },
  {
   "cell_type": "markdown",
   "id": "77ab4262",
   "metadata": {},
   "source": [
    "### Data Visualization"
   ]
  },
  {
   "cell_type": "code",
   "execution_count": 10,
   "id": "ec643953",
   "metadata": {},
   "outputs": [
    {
     "data": {
      "image/png": "[encoded data removed]",
      "text/plain": [
       "<Figure size 1080x432 with 1 Axes>"
      ]
     },
     "metadata": {
      "needs_background": "light"
     },
     "output_type": "display_data"
    }
   ],
   "source": [
    "plt.figure(figsize=(15,6))\n",
    "fig=sns.scatterplot(coca_cola.Quarter,coca_cola.Sales)\n",
    "plt.title('Scatter Plot - Quarter Vs Sales')\n",
    "fig.set_xticklabels(rotation=90,labels=coca_cola.Quarter)\n",
    "plt.show()"
   ]
  },
  {
   "cell_type": "code",
   "execution_count": 11,
   "id": "04c321aa",
   "metadata": {},
   "outputs": [
    {
     "data": {
      "image/png": "[encoded data removed]",
      "text/plain": [
       "<Figure size 1080x432 with 1 Axes>"
      ]
     },
     "metadata": {
      "needs_background": "light"
     },
     "output_type": "display_data"
    }
   ],
   "source": [
    "plt.figure(figsize=(15,6))\n",
    "fig=sns.lineplot(coca_cola.Quarter,coca_cola.Sales)\n",
    "fig.set_xticklabels(rotation=90,labels=coca_cola.Quarter)\n",
    "plt.title('Line Plot - Quarter Vs Sales')\n",
    "plt.show()"
   ]
  },
  {
   "cell_type": "code",
   "execution_count": 12,
   "id": "97f36301",
   "metadata": {},
   "outputs": [
    {
     "data": {
      "image/png": "[encoded data removed]",
      "text/plain": [
       "<Figure size 720x432 with 1 Axes>"
      ]
     },
     "metadata": {
      "needs_background": "light"
     },
     "output_type": "display_data"
    }
   ],
   "source": [
    "coca_cola.Sales.plot(figsize=(10,6))\n",
    "plt.title('Line Plot - Sales Distribution')\n",
    "plt.show()"
   ]
  },
  {
   "cell_type": "code",
   "execution_count": 13,
   "id": "97bf09d2",
   "metadata": {},
   "outputs": [
    {
     "data": {
      "image/png": "[encoded data removed]",
      "text/plain": [
       "<Figure size 720x432 with 1 Axes>"
      ]
     },
     "metadata": {
      "needs_background": "light"
     },
     "output_type": "display_data"
    }
   ],
   "source": [
    "plt.figure(figsize=(10,6))\n",
    "sns.lineplot(coca_cola.year,coca_cola.Sales)\n",
    "plt.title('Line Plot - year Vs Sales')\n",
    "plt.show()"
   ]
  },
  {
   "cell_type": "code",
   "execution_count": 14,
   "id": "c1c3eb0a",
   "metadata": {},
   "outputs": [
    {
     "data": {
      "image/png": "[encoded data removed]",
      "text/plain": [
       "<Figure size 720x432 with 1 Axes>"
      ]
     },
     "metadata": {
      "needs_background": "light"
     },
     "output_type": "display_data"
    }
   ],
   "source": [
    "plt.figure(figsize=(10,6))\n",
    "sns.lineplot(coca_cola.month,coca_cola.Sales)\n",
    "plt.title('Line Plot - Month Vs Sales')\n",
    "plt.show()"
   ]
  },
  {
   "cell_type": "code",
   "execution_count": 15,
   "id": "bcf30ec1",
   "metadata": {},
   "outputs": [
    {
     "data": {
      "image/png": "[encoded data removed]",
      "text/plain": [
       "<Figure size 720x432 with 1 Axes>"
      ]
     },
     "metadata": {
      "needs_background": "light"
     },
     "output_type": "display_data"
    }
   ],
   "source": [
    "plt.figure(figsize=(10,6))\n",
    "sns.boxplot(coca_cola.year,coca_cola.Sales)\n",
    "plt.title('Year-wise Sales Distribution')\n",
    "plt.show()"
   ]
  },
  {
   "cell_type": "code",
   "execution_count": 16,
   "id": "6edfe4ac",
   "metadata": {},
   "outputs": [
    {
     "data": {
      "image/png": "[encoded data removed]",
      "text/plain": [
       "<Figure size 720x432 with 1 Axes>"
      ]
     },
     "metadata": {
      "needs_background": "light"
     },
     "output_type": "display_data"
    }
   ],
   "source": [
    "plt.figure(figsize=(10,6))\n",
    "sns.boxplot(coca_cola.month,coca_cola.Sales)\n",
    "plt.title('Month-wise Sales Distribution')\n",
    "plt.show()"
   ]
  },
  {
   "cell_type": "code",
   "execution_count": 17,
   "id": "9b0535bf",
   "metadata": {},
   "outputs": [
    {
     "data": {
      "text/html": [
       "<div>\n",
       "<style scoped>\n",
       "    .dataframe tbody tr th:only-of-type {\n",
       "        vertical-align: middle;\n",
       "    }\n",
       "\n",
       "    .dataframe tbody tr th {\n",
       "        vertical-align: top;\n",
       "    }\n",
       "\n",
       "    .dataframe thead th {\n",
       "        text-align: right;\n",
       "    }\n",
       "</style>\n",
       "<table border=\"1\" class=\"dataframe\">\n",
       "  <thead>\n",
       "    <tr style=\"text-align: right;\">\n",
       "      <th>year</th>\n",
       "      <th>1986</th>\n",
       "      <th>1987</th>\n",
       "      <th>1988</th>\n",
       "      <th>1989</th>\n",
       "      <th>1990</th>\n",
       "      <th>1991</th>\n",
       "      <th>1992</th>\n",
       "      <th>1993</th>\n",
       "      <th>1994</th>\n",
       "      <th>1995</th>\n",
       "      <th>1996</th>\n",
       "    </tr>\n",
       "    <tr>\n",
       "      <th>month</th>\n",
       "      <th></th>\n",
       "      <th></th>\n",
       "      <th></th>\n",
       "      <th></th>\n",
       "      <th></th>\n",
       "      <th></th>\n",
       "      <th></th>\n",
       "      <th></th>\n",
       "      <th></th>\n",
       "      <th></th>\n",
       "      <th></th>\n",
       "    </tr>\n",
       "  </thead>\n",
       "  <tbody>\n",
       "    <tr>\n",
       "      <th>Apr</th>\n",
       "      <td>2245.0</td>\n",
       "      <td>2104.0</td>\n",
       "      <td>2314.0</td>\n",
       "      <td>2331.0</td>\n",
       "      <td>2739.0</td>\n",
       "      <td>3040.0</td>\n",
       "      <td>3550.0</td>\n",
       "      <td>3899.0</td>\n",
       "      <td>4342.0</td>\n",
       "      <td>4936.0</td>\n",
       "      <td>5253.0</td>\n",
       "    </tr>\n",
       "    <tr>\n",
       "      <th>Jan</th>\n",
       "      <td>1735.0</td>\n",
       "      <td>1548.0</td>\n",
       "      <td>1869.0</td>\n",
       "      <td>1911.0</td>\n",
       "      <td>2148.0</td>\n",
       "      <td>2481.0</td>\n",
       "      <td>2772.0</td>\n",
       "      <td>3056.0</td>\n",
       "      <td>3352.0</td>\n",
       "      <td>3854.0</td>\n",
       "      <td>4194.0</td>\n",
       "    </tr>\n",
       "    <tr>\n",
       "      <th>Jul</th>\n",
       "      <td>2534.0</td>\n",
       "      <td>2014.0</td>\n",
       "      <td>2128.0</td>\n",
       "      <td>2207.0</td>\n",
       "      <td>2793.0</td>\n",
       "      <td>3172.0</td>\n",
       "      <td>3508.0</td>\n",
       "      <td>3629.0</td>\n",
       "      <td>4461.0</td>\n",
       "      <td>4895.0</td>\n",
       "      <td>NaN</td>\n",
       "    </tr>\n",
       "    <tr>\n",
       "      <th>Oct</th>\n",
       "      <td>2155.0</td>\n",
       "      <td>1992.0</td>\n",
       "      <td>2027.0</td>\n",
       "      <td>2174.0</td>\n",
       "      <td>2556.0</td>\n",
       "      <td>2879.0</td>\n",
       "      <td>3244.0</td>\n",
       "      <td>3373.0</td>\n",
       "      <td>4017.0</td>\n",
       "      <td>4333.0</td>\n",
       "      <td>NaN</td>\n",
       "    </tr>\n",
       "  </tbody>\n",
       "</table>\n",
       "</div>"
      ],
      "text/plain": [
       "year     1986    1987    1988    1989    1990    1991    1992    1993    1994  \\\n",
       "month                                                                           \n",
       "Apr    2245.0  2104.0  2314.0  2331.0  2739.0  3040.0  3550.0  3899.0  4342.0   \n",
       "Jan    1735.0  1548.0  1869.0  1911.0  2148.0  2481.0  2772.0  3056.0  3352.0   \n",
       "Jul    2534.0  2014.0  2128.0  2207.0  2793.0  3172.0  3508.0  3629.0  4461.0   \n",
       "Oct    2155.0  1992.0  2027.0  2174.0  2556.0  2879.0  3244.0  3373.0  4017.0   \n",
       "\n",
       "year     1995    1996  \n",
       "month                  \n",
       "Apr    4936.0  5253.0  \n",
       "Jan    3854.0  4194.0  \n",
       "Jul    4895.0     NaN  \n",
       "Oct    4333.0     NaN  "
      ]
     },
     "execution_count": 17,
     "metadata": {},
     "output_type": "execute_result"
    }
   ],
   "source": [
    "monthwise=pd.pivot_table(data=coca_cola,values='Sales',index='month',columns='year').round()\n",
    "monthwise"
   ]
  },
  {
   "cell_type": "code",
   "execution_count": 18,
   "id": "c3caa106",
   "metadata": {},
   "outputs": [
    {
     "data": {
      "image/png": "[encoded data removed]",
      "text/plain": [
       "<Figure size 720x432 with 2 Axes>"
      ]
     },
     "metadata": {
      "needs_background": "light"
     },
     "output_type": "display_data"
    }
   ],
   "source": [
    "plt.figure(figsize=(10,6))\n",
    "sns.heatmap(monthwise,annot=True,fmt='g')\n",
    "plt.show()"
   ]
  },
  {
   "cell_type": "markdown",
   "id": "ff57a59e",
   "metadata": {},
   "source": [
    "### Data Preparation - Part 2."
   ]
  },
  {
   "cell_type": "code",
   "execution_count": 19,
   "id": "e488799c",
   "metadata": {},
   "outputs": [],
   "source": [
    "t=np.arange(1,coca_cola.shape[0]+1)\n",
    "t_square=t*t\n",
    "log_sales=np.log(coca_cola['Sales'])\n",
    "dummies=pd.get_dummies(coca_cola['month'])"
   ]
  },
  {
   "cell_type": "code",
   "execution_count": 20,
   "id": "e0216250",
   "metadata": {},
   "outputs": [],
   "source": [
    "coca_cola['t']=pd.Series(t)\n",
    "coca_cola['t_square']=pd.Series(t_square)\n",
    "coca_cola['log_sales']=pd.Series(log_sales)\n",
    "coca_cola=coca_cola.join(dummies)"
   ]
  },
  {
   "cell_type": "code",
   "execution_count": 21,
   "id": "eb70ce15",
   "metadata": {},
   "outputs": [
    {
     "data": {
      "text/html": [
       "<div>\n",
       "<style scoped>\n",
       "    .dataframe tbody tr th:only-of-type {\n",
       "        vertical-align: middle;\n",
       "    }\n",
       "\n",
       "    .dataframe tbody tr th {\n",
       "        vertical-align: top;\n",
       "    }\n",
       "\n",
       "    .dataframe thead th {\n",
       "        text-align: right;\n",
       "    }\n",
       "</style>\n",
       "<table border=\"1\" class=\"dataframe\">\n",
       "  <thead>\n",
       "    <tr style=\"text-align: right;\">\n",
       "      <th></th>\n",
       "      <th>Quarter</th>\n",
       "      <th>Sales</th>\n",
       "      <th>date</th>\n",
       "      <th>year</th>\n",
       "      <th>month</th>\n",
       "      <th>t</th>\n",
       "      <th>t_square</th>\n",
       "      <th>log_sales</th>\n",
       "      <th>Apr</th>\n",
       "      <th>Jan</th>\n",
       "      <th>Jul</th>\n",
       "      <th>Oct</th>\n",
       "    </tr>\n",
       "  </thead>\n",
       "  <tbody>\n",
       "    <tr>\n",
       "      <th>37</th>\n",
       "      <td>Q2_95</td>\n",
       "      <td>4936.0</td>\n",
       "      <td>1995-04-01</td>\n",
       "      <td>1995</td>\n",
       "      <td>Apr</td>\n",
       "      <td>38</td>\n",
       "      <td>1444</td>\n",
       "      <td>8.504311</td>\n",
       "      <td>1</td>\n",
       "      <td>0</td>\n",
       "      <td>0</td>\n",
       "      <td>0</td>\n",
       "    </tr>\n",
       "    <tr>\n",
       "      <th>38</th>\n",
       "      <td>Q3_95</td>\n",
       "      <td>4895.0</td>\n",
       "      <td>1995-07-01</td>\n",
       "      <td>1995</td>\n",
       "      <td>Jul</td>\n",
       "      <td>39</td>\n",
       "      <td>1521</td>\n",
       "      <td>8.495970</td>\n",
       "      <td>0</td>\n",
       "      <td>0</td>\n",
       "      <td>1</td>\n",
       "      <td>0</td>\n",
       "    </tr>\n",
       "    <tr>\n",
       "      <th>39</th>\n",
       "      <td>Q4_95</td>\n",
       "      <td>4333.0</td>\n",
       "      <td>1995-10-01</td>\n",
       "      <td>1995</td>\n",
       "      <td>Oct</td>\n",
       "      <td>40</td>\n",
       "      <td>1600</td>\n",
       "      <td>8.374015</td>\n",
       "      <td>0</td>\n",
       "      <td>0</td>\n",
       "      <td>0</td>\n",
       "      <td>1</td>\n",
       "    </tr>\n",
       "    <tr>\n",
       "      <th>40</th>\n",
       "      <td>Q1_96</td>\n",
       "      <td>4194.0</td>\n",
       "      <td>1996-01-01</td>\n",
       "      <td>1996</td>\n",
       "      <td>Jan</td>\n",
       "      <td>41</td>\n",
       "      <td>1681</td>\n",
       "      <td>8.341410</td>\n",
       "      <td>0</td>\n",
       "      <td>1</td>\n",
       "      <td>0</td>\n",
       "      <td>0</td>\n",
       "    </tr>\n",
       "    <tr>\n",
       "      <th>41</th>\n",
       "      <td>Q2_96</td>\n",
       "      <td>5253.0</td>\n",
       "      <td>1996-04-01</td>\n",
       "      <td>1996</td>\n",
       "      <td>Apr</td>\n",
       "      <td>42</td>\n",
       "      <td>1764</td>\n",
       "      <td>8.566555</td>\n",
       "      <td>1</td>\n",
       "      <td>0</td>\n",
       "      <td>0</td>\n",
       "      <td>0</td>\n",
       "    </tr>\n",
       "  </tbody>\n",
       "</table>\n",
       "</div>"
      ],
      "text/plain": [
       "   Quarter   Sales       date  year month   t  t_square  log_sales  Apr  Jan  \\\n",
       "37   Q2_95  4936.0 1995-04-01  1995   Apr  38      1444   8.504311    1    0   \n",
       "38   Q3_95  4895.0 1995-07-01  1995   Jul  39      1521   8.495970    0    0   \n",
       "39   Q4_95  4333.0 1995-10-01  1995   Oct  40      1600   8.374015    0    0   \n",
       "40   Q1_96  4194.0 1996-01-01  1996   Jan  41      1681   8.341410    0    1   \n",
       "41   Q2_96  5253.0 1996-04-01  1996   Apr  42      1764   8.566555    1    0   \n",
       "\n",
       "    Jul  Oct  \n",
       "37    0    0  \n",
       "38    1    0  \n",
       "39    0    1  \n",
       "40    0    0  \n",
       "41    0    0  "
      ]
     },
     "execution_count": 21,
     "metadata": {},
     "output_type": "execute_result"
    }
   ],
   "source": [
    "coca_cola.tail()"
   ]
  },
  {
   "cell_type": "markdown",
   "id": "e683986a",
   "metadata": {},
   "source": [
    "## 1. Model Driven Forecasting Technique"
   ]
  },
  {
   "cell_type": "markdown",
   "id": "2f9a6d39",
   "metadata": {},
   "source": [
    "### Model Building"
   ]
  },
  {
   "cell_type": "code",
   "execution_count": 22,
   "id": "1dc97825",
   "metadata": {},
   "outputs": [
    {
     "data": {
      "text/plain": [
       "((30, 12), (12, 12))"
      ]
     },
     "execution_count": 22,
     "metadata": {},
     "output_type": "execute_result"
    }
   ],
   "source": [
    "training_data=coca_cola.head(coca_cola.shape[0]-12)\n",
    "testing_data=coca_cola.tail(12)\n",
    "training_data.shape,testing_data.shape"
   ]
  },
  {
   "cell_type": "markdown",
   "id": "767d7413",
   "metadata": {},
   "source": [
    "### Model Training || Model Prediction || Model Evaluation"
   ]
  },
  {
   "cell_type": "markdown",
   "id": "ca3927d0",
   "metadata": {},
   "source": [
    "#### Linear Model"
   ]
  },
  {
   "cell_type": "code",
   "execution_count": 23,
   "id": "8f53352b",
   "metadata": {},
   "outputs": [
    {
     "data": {
      "text/plain": [
       "714.014"
      ]
     },
     "execution_count": 23,
     "metadata": {},
     "output_type": "execute_result"
    }
   ],
   "source": [
    "linear_model = smf.ols(formula='Sales~t',data=training_data).fit()\n",
    "\n",
    "pred_linear=linear_model.predict(testing_data)\n",
    "\n",
    "linear_rmse=np.round(mean_squared_error(testing_data['Sales'],pred_linear,squared=False),3)\n",
    "linear_rmse"
   ]
  },
  {
   "cell_type": "markdown",
   "id": "d23b7e74",
   "metadata": {},
   "source": [
    "#### Exponential Model"
   ]
  },
  {
   "cell_type": "code",
   "execution_count": 24,
   "id": "d4fd19a0",
   "metadata": {},
   "outputs": [
    {
     "data": {
      "text/plain": [
       "552.282"
      ]
     },
     "execution_count": 24,
     "metadata": {},
     "output_type": "execute_result"
    }
   ],
   "source": [
    "exponential_model = smf.ols(formula='log_sales~t',data=training_data).fit()\n",
    "\n",
    "pred_exponential=exponential_model.predict(testing_data)\n",
    "\n",
    "exponential_rmse=np.round(mean_squared_error(testing_data['Sales'],np.exp(pred_exponential),squared=False),3)\n",
    "exponential_rmse"
   ]
  },
  {
   "cell_type": "markdown",
   "id": "15b5bff6",
   "metadata": {},
   "source": [
    "#### Quadratic Model"
   ]
  },
  {
   "cell_type": "code",
   "execution_count": 25,
   "id": "0214dc7d",
   "metadata": {},
   "outputs": [
    {
     "data": {
      "text/plain": [
       "646.272"
      ]
     },
     "execution_count": 25,
     "metadata": {},
     "output_type": "execute_result"
    }
   ],
   "source": [
    "quadratic_model = smf.ols(formula='Sales~t+t_square',data=training_data).fit()\n",
    "\n",
    "pred_quadratic=quadratic_model.predict(testing_data)\n",
    "\n",
    "quadratic_rmse=np.round(mean_squared_error(testing_data['Sales'],pred_quadratic,squared=False),3)\n",
    "quadratic_rmse"
   ]
  },
  {
   "cell_type": "markdown",
   "id": "7920d30f",
   "metadata": {},
   "source": [
    "#### Additive Seasonality Model"
   ]
  },
  {
   "cell_type": "code",
   "execution_count": 26,
   "id": "9cdf9840",
   "metadata": {},
   "outputs": [
    {
     "data": {
      "text/plain": [
       "1778.007"
      ]
     },
     "execution_count": 26,
     "metadata": {},
     "output_type": "execute_result"
    }
   ],
   "source": [
    "additive_model = smf.ols(formula='Sales~Jan+Apr+Jul+Oct',data=training_data).fit()\n",
    "\n",
    "pred_additive=additive_model.predict(testing_data)\n",
    "\n",
    "additive_rmse=np.round(mean_squared_error(testing_data['Sales'],pred_additive,squared=False),3)\n",
    "additive_rmse"
   ]
  },
  {
   "cell_type": "markdown",
   "id": "b83e60f2",
   "metadata": {},
   "source": [
    "#### Additive Seasonality with Quadratic Trend Model"
   ]
  },
  {
   "cell_type": "code",
   "execution_count": 27,
   "id": "2c2a034f",
   "metadata": {},
   "outputs": [
    {
     "data": {
      "text/plain": [
       "586.053"
      ]
     },
     "execution_count": 27,
     "metadata": {},
     "output_type": "execute_result"
    }
   ],
   "source": [
    "additive_quad_model = smf.ols(formula='Sales~t+t_square+Jan+Apr+Jul+Oct',data=training_data).fit()\n",
    "\n",
    "pred_additive_quad=additive_quad_model.predict(testing_data)\n",
    "\n",
    "additive_quad_rmse=np.round(mean_squared_error(testing_data['Sales'],pred_additive_quad,squared=False),3)\n",
    "additive_quad_rmse"
   ]
  },
  {
   "cell_type": "markdown",
   "id": "4b8c95c5",
   "metadata": {},
   "source": [
    "#### Multiplicative Model"
   ]
  },
  {
   "cell_type": "code",
   "execution_count": 28,
   "id": "c0572e7a",
   "metadata": {},
   "outputs": [
    {
     "data": {
      "text/plain": [
       "1828.924"
      ]
     },
     "execution_count": 28,
     "metadata": {},
     "output_type": "execute_result"
    }
   ],
   "source": [
    "multiplicative_model = smf.ols(formula='log_sales~Jan+Apr+Jul+Oct',data=training_data).fit()\n",
    "\n",
    "pred_multiplicative=multiplicative_model.predict(testing_data)\n",
    "\n",
    "multiplicative_rmse=np.round(mean_squared_error(testing_data['Sales'],np.exp(pred_multiplicative),squared=False),3)\n",
    "multiplicative_rmse"
   ]
  },
  {
   "cell_type": "markdown",
   "id": "18ab1977",
   "metadata": {},
   "source": [
    "### Compare the Results"
   ]
  },
  {
   "cell_type": "code",
   "execution_count": 29,
   "id": "ff2bf87d",
   "metadata": {},
   "outputs": [
    {
     "data": {
      "text/html": [
       "<div>\n",
       "<style scoped>\n",
       "    .dataframe tbody tr th:only-of-type {\n",
       "        vertical-align: middle;\n",
       "    }\n",
       "\n",
       "    .dataframe tbody tr th {\n",
       "        vertical-align: top;\n",
       "    }\n",
       "\n",
       "    .dataframe thead th {\n",
       "        text-align: right;\n",
       "    }\n",
       "</style>\n",
       "<table border=\"1\" class=\"dataframe\">\n",
       "  <thead>\n",
       "    <tr style=\"text-align: right;\">\n",
       "      <th></th>\n",
       "      <th>MODEL</th>\n",
       "      <th>RMSE</th>\n",
       "    </tr>\n",
       "  </thead>\n",
       "  <tbody>\n",
       "    <tr>\n",
       "      <th>1</th>\n",
       "      <td>Exponential</td>\n",
       "      <td>552.282</td>\n",
       "    </tr>\n",
       "    <tr>\n",
       "      <th>4</th>\n",
       "      <td>Additive with Quadrative</td>\n",
       "      <td>586.053</td>\n",
       "    </tr>\n",
       "    <tr>\n",
       "      <th>2</th>\n",
       "      <td>Quadrative</td>\n",
       "      <td>646.272</td>\n",
       "    </tr>\n",
       "    <tr>\n",
       "      <th>0</th>\n",
       "      <td>Linear</td>\n",
       "      <td>714.014</td>\n",
       "    </tr>\n",
       "    <tr>\n",
       "      <th>3</th>\n",
       "      <td>Additive</td>\n",
       "      <td>1778.007</td>\n",
       "    </tr>\n",
       "    <tr>\n",
       "      <th>5</th>\n",
       "      <td>Multiplicative</td>\n",
       "      <td>1828.924</td>\n",
       "    </tr>\n",
       "  </tbody>\n",
       "</table>\n",
       "</div>"
      ],
      "text/plain": [
       "                      MODEL      RMSE\n",
       "1               Exponential   552.282\n",
       "4  Additive with Quadrative   586.053\n",
       "2                Quadrative   646.272\n",
       "0                    Linear   714.014\n",
       "3                  Additive  1778.007\n",
       "5            Multiplicative  1828.924"
      ]
     },
     "execution_count": 29,
     "metadata": {},
     "output_type": "execute_result"
    }
   ],
   "source": [
    "Model_Driven_Results = pd.DataFrame(\n",
    "    data={\"MODEL\":pd.Series(['Linear','Exponential','Quadrative','Additive','Additive with Quadrative','Multiplicative']),\n",
    "          \"RMSE\":pd.Series([linear_rmse,exponential_rmse,quadratic_rmse,additive_rmse,additive_quad_rmse,multiplicative_rmse])})\n",
    "Model_Driven_Results.sort_values('RMSE')"
   ]
  },
  {
   "cell_type": "markdown",
   "id": "05301c0d",
   "metadata": {},
   "source": [
    "#### Since Exponential Model gives straight lines, we will consider next model. ie, Additive with Quadrative from Model Driven Techniques"
   ]
  },
  {
   "cell_type": "markdown",
   "id": "65f1fe77",
   "metadata": {},
   "source": [
    "### Build model for Complete Dataset"
   ]
  },
  {
   "cell_type": "code",
   "execution_count": 30,
   "id": "d092d733",
   "metadata": {},
   "outputs": [
    {
     "data": {
      "text/html": [
       "<div>\n",
       "<style scoped>\n",
       "    .dataframe tbody tr th:only-of-type {\n",
       "        vertical-align: middle;\n",
       "    }\n",
       "\n",
       "    .dataframe tbody tr th {\n",
       "        vertical-align: top;\n",
       "    }\n",
       "\n",
       "    .dataframe thead th {\n",
       "        text-align: right;\n",
       "    }\n",
       "</style>\n",
       "<table border=\"1\" class=\"dataframe\">\n",
       "  <thead>\n",
       "    <tr style=\"text-align: right;\">\n",
       "      <th></th>\n",
       "      <th>date</th>\n",
       "      <th>t</th>\n",
       "      <th>t_square</th>\n",
       "      <th>Jan</th>\n",
       "      <th>Apr</th>\n",
       "      <th>Jul</th>\n",
       "      <th>Oct</th>\n",
       "    </tr>\n",
       "  </thead>\n",
       "  <tbody>\n",
       "    <tr>\n",
       "      <th>0</th>\n",
       "      <td>1996-07-01</td>\n",
       "      <td>43</td>\n",
       "      <td>1849</td>\n",
       "      <td>0</td>\n",
       "      <td>0</td>\n",
       "      <td>1</td>\n",
       "      <td>0</td>\n",
       "    </tr>\n",
       "    <tr>\n",
       "      <th>1</th>\n",
       "      <td>1996-10-01</td>\n",
       "      <td>44</td>\n",
       "      <td>1936</td>\n",
       "      <td>0</td>\n",
       "      <td>0</td>\n",
       "      <td>0</td>\n",
       "      <td>1</td>\n",
       "    </tr>\n",
       "    <tr>\n",
       "      <th>2</th>\n",
       "      <td>1997-01-01</td>\n",
       "      <td>45</td>\n",
       "      <td>2025</td>\n",
       "      <td>1</td>\n",
       "      <td>0</td>\n",
       "      <td>0</td>\n",
       "      <td>0</td>\n",
       "    </tr>\n",
       "    <tr>\n",
       "      <th>3</th>\n",
       "      <td>1997-04-01</td>\n",
       "      <td>46</td>\n",
       "      <td>2116</td>\n",
       "      <td>0</td>\n",
       "      <td>1</td>\n",
       "      <td>0</td>\n",
       "      <td>0</td>\n",
       "    </tr>\n",
       "    <tr>\n",
       "      <th>4</th>\n",
       "      <td>1997-07-01</td>\n",
       "      <td>47</td>\n",
       "      <td>2209</td>\n",
       "      <td>0</td>\n",
       "      <td>0</td>\n",
       "      <td>1</td>\n",
       "      <td>0</td>\n",
       "    </tr>\n",
       "    <tr>\n",
       "      <th>5</th>\n",
       "      <td>1997-10-01</td>\n",
       "      <td>48</td>\n",
       "      <td>2304</td>\n",
       "      <td>0</td>\n",
       "      <td>0</td>\n",
       "      <td>0</td>\n",
       "      <td>1</td>\n",
       "    </tr>\n",
       "  </tbody>\n",
       "</table>\n",
       "</div>"
      ],
      "text/plain": [
       "        date   t  t_square  Jan  Apr  Jul  Oct\n",
       "0 1996-07-01  43      1849    0    0    1    0\n",
       "1 1996-10-01  44      1936    0    0    0    1\n",
       "2 1997-01-01  45      2025    1    0    0    0\n",
       "3 1997-04-01  46      2116    0    1    0    0\n",
       "4 1997-07-01  47      2209    0    0    1    0\n",
       "5 1997-10-01  48      2304    0    0    0    1"
      ]
     },
     "execution_count": 30,
     "metadata": {},
     "output_type": "execute_result"
    }
   ],
   "source": [
    "coca_cola_test=pd.read_excel('coca_cola_test.xlsx')\n",
    "coca_cola_test"
   ]
  },
  {
   "cell_type": "code",
   "execution_count": 31,
   "id": "dd05ef5e",
   "metadata": {},
   "outputs": [
    {
     "data": {
      "text/html": [
       "<div>\n",
       "<style scoped>\n",
       "    .dataframe tbody tr th:only-of-type {\n",
       "        vertical-align: middle;\n",
       "    }\n",
       "\n",
       "    .dataframe tbody tr th {\n",
       "        vertical-align: top;\n",
       "    }\n",
       "\n",
       "    .dataframe thead th {\n",
       "        text-align: right;\n",
       "    }\n",
       "</style>\n",
       "<table border=\"1\" class=\"dataframe\">\n",
       "  <thead>\n",
       "    <tr style=\"text-align: right;\">\n",
       "      <th></th>\n",
       "      <th>date</th>\n",
       "      <th>t</th>\n",
       "      <th>t_square</th>\n",
       "      <th>Jan</th>\n",
       "      <th>Apr</th>\n",
       "      <th>Jul</th>\n",
       "      <th>Oct</th>\n",
       "      <th>Predicted</th>\n",
       "    </tr>\n",
       "  </thead>\n",
       "  <tbody>\n",
       "    <tr>\n",
       "      <th>0</th>\n",
       "      <td>1996-07-01</td>\n",
       "      <td>43</td>\n",
       "      <td>1849</td>\n",
       "      <td>0</td>\n",
       "      <td>0</td>\n",
       "      <td>1</td>\n",
       "      <td>0</td>\n",
       "      <td>5319.754557</td>\n",
       "    </tr>\n",
       "    <tr>\n",
       "      <th>1</th>\n",
       "      <td>1996-10-01</td>\n",
       "      <td>44</td>\n",
       "      <td>1936</td>\n",
       "      <td>0</td>\n",
       "      <td>0</td>\n",
       "      <td>0</td>\n",
       "      <td>1</td>\n",
       "      <td>5137.955882</td>\n",
       "    </tr>\n",
       "    <tr>\n",
       "      <th>2</th>\n",
       "      <td>1997-01-01</td>\n",
       "      <td>45</td>\n",
       "      <td>2025</td>\n",
       "      <td>1</td>\n",
       "      <td>0</td>\n",
       "      <td>0</td>\n",
       "      <td>0</td>\n",
       "      <td>5069.668337</td>\n",
       "    </tr>\n",
       "    <tr>\n",
       "      <th>3</th>\n",
       "      <td>1997-04-01</td>\n",
       "      <td>46</td>\n",
       "      <td>2116</td>\n",
       "      <td>0</td>\n",
       "      <td>1</td>\n",
       "      <td>0</td>\n",
       "      <td>0</td>\n",
       "      <td>5866.186600</td>\n",
       "    </tr>\n",
       "    <tr>\n",
       "      <th>4</th>\n",
       "      <td>1997-07-01</td>\n",
       "      <td>47</td>\n",
       "      <td>2209</td>\n",
       "      <td>0</td>\n",
       "      <td>0</td>\n",
       "      <td>1</td>\n",
       "      <td>0</td>\n",
       "      <td>5942.178733</td>\n",
       "    </tr>\n",
       "    <tr>\n",
       "      <th>5</th>\n",
       "      <td>1997-10-01</td>\n",
       "      <td>48</td>\n",
       "      <td>2304</td>\n",
       "      <td>0</td>\n",
       "      <td>0</td>\n",
       "      <td>0</td>\n",
       "      <td>1</td>\n",
       "      <td>5774.444481</td>\n",
       "    </tr>\n",
       "  </tbody>\n",
       "</table>\n",
       "</div>"
      ],
      "text/plain": [
       "        date   t  t_square  Jan  Apr  Jul  Oct    Predicted\n",
       "0 1996-07-01  43      1849    0    0    1    0  5319.754557\n",
       "1 1996-10-01  44      1936    0    0    0    1  5137.955882\n",
       "2 1997-01-01  45      2025    1    0    0    0  5069.668337\n",
       "3 1997-04-01  46      2116    0    1    0    0  5866.186600\n",
       "4 1997-07-01  47      2209    0    0    1    0  5942.178733\n",
       "5 1997-10-01  48      2304    0    0    0    1  5774.444481"
      ]
     },
     "execution_count": 31,
     "metadata": {},
     "output_type": "execute_result"
    }
   ],
   "source": [
    "final_model = smf.ols(formula='Sales~t+t_square+Jan+Apr+Jul+Oct',data=coca_cola).fit()\n",
    "pred_final = final_model.predict(coca_cola_test)\n",
    "coca_cola_test['Predicted']=pred_final\n",
    "coca_cola_test"
   ]
  },
  {
   "cell_type": "code",
   "execution_count": 32,
   "id": "798a3dc6",
   "metadata": {},
   "outputs": [
    {
     "data": {
      "text/html": [
       "<div>\n",
       "<style scoped>\n",
       "    .dataframe tbody tr th:only-of-type {\n",
       "        vertical-align: middle;\n",
       "    }\n",
       "\n",
       "    .dataframe tbody tr th {\n",
       "        vertical-align: top;\n",
       "    }\n",
       "\n",
       "    .dataframe thead th {\n",
       "        text-align: right;\n",
       "    }\n",
       "</style>\n",
       "<table border=\"1\" class=\"dataframe\">\n",
       "  <thead>\n",
       "    <tr style=\"text-align: right;\">\n",
       "      <th></th>\n",
       "      <th>Quarter</th>\n",
       "      <th>Sales</th>\n",
       "      <th>date</th>\n",
       "      <th>year</th>\n",
       "      <th>month</th>\n",
       "      <th>t</th>\n",
       "      <th>t_square</th>\n",
       "      <th>log_sales</th>\n",
       "      <th>Apr</th>\n",
       "      <th>Jan</th>\n",
       "      <th>Jul</th>\n",
       "      <th>Oct</th>\n",
       "      <th>Predicted</th>\n",
       "    </tr>\n",
       "  </thead>\n",
       "  <tbody>\n",
       "    <tr>\n",
       "      <th>0</th>\n",
       "      <td>Q1_86</td>\n",
       "      <td>1734.827000</td>\n",
       "      <td>1986-01-01</td>\n",
       "      <td>1986</td>\n",
       "      <td>Jan</td>\n",
       "      <td>1</td>\n",
       "      <td>1</td>\n",
       "      <td>7.458663</td>\n",
       "      <td>0</td>\n",
       "      <td>1</td>\n",
       "      <td>0</td>\n",
       "      <td>0</td>\n",
       "      <td>NaN</td>\n",
       "    </tr>\n",
       "    <tr>\n",
       "      <th>1</th>\n",
       "      <td>Q2_86</td>\n",
       "      <td>2244.960999</td>\n",
       "      <td>1986-04-01</td>\n",
       "      <td>1986</td>\n",
       "      <td>Apr</td>\n",
       "      <td>2</td>\n",
       "      <td>4</td>\n",
       "      <td>7.716443</td>\n",
       "      <td>1</td>\n",
       "      <td>0</td>\n",
       "      <td>0</td>\n",
       "      <td>0</td>\n",
       "      <td>NaN</td>\n",
       "    </tr>\n",
       "    <tr>\n",
       "      <th>2</th>\n",
       "      <td>Q3_86</td>\n",
       "      <td>2533.804993</td>\n",
       "      <td>1986-07-01</td>\n",
       "      <td>1986</td>\n",
       "      <td>Jul</td>\n",
       "      <td>3</td>\n",
       "      <td>9</td>\n",
       "      <td>7.837477</td>\n",
       "      <td>0</td>\n",
       "      <td>0</td>\n",
       "      <td>1</td>\n",
       "      <td>0</td>\n",
       "      <td>NaN</td>\n",
       "    </tr>\n",
       "    <tr>\n",
       "      <th>3</th>\n",
       "      <td>Q4_86</td>\n",
       "      <td>2154.962997</td>\n",
       "      <td>1986-10-01</td>\n",
       "      <td>1986</td>\n",
       "      <td>Oct</td>\n",
       "      <td>4</td>\n",
       "      <td>16</td>\n",
       "      <td>7.675529</td>\n",
       "      <td>0</td>\n",
       "      <td>0</td>\n",
       "      <td>0</td>\n",
       "      <td>1</td>\n",
       "      <td>NaN</td>\n",
       "    </tr>\n",
       "    <tr>\n",
       "      <th>4</th>\n",
       "      <td>Q1_87</td>\n",
       "      <td>1547.818996</td>\n",
       "      <td>1987-01-01</td>\n",
       "      <td>1987</td>\n",
       "      <td>Jan</td>\n",
       "      <td>5</td>\n",
       "      <td>25</td>\n",
       "      <td>7.344602</td>\n",
       "      <td>0</td>\n",
       "      <td>1</td>\n",
       "      <td>0</td>\n",
       "      <td>0</td>\n",
       "      <td>NaN</td>\n",
       "    </tr>\n",
       "    <tr>\n",
       "      <th>5</th>\n",
       "      <td>Q2_87</td>\n",
       "      <td>2104.411995</td>\n",
       "      <td>1987-04-01</td>\n",
       "      <td>1987</td>\n",
       "      <td>Apr</td>\n",
       "      <td>6</td>\n",
       "      <td>36</td>\n",
       "      <td>7.651791</td>\n",
       "      <td>1</td>\n",
       "      <td>0</td>\n",
       "      <td>0</td>\n",
       "      <td>0</td>\n",
       "      <td>NaN</td>\n",
       "    </tr>\n",
       "    <tr>\n",
       "      <th>6</th>\n",
       "      <td>Q3_87</td>\n",
       "      <td>2014.362999</td>\n",
       "      <td>1987-07-01</td>\n",
       "      <td>1987</td>\n",
       "      <td>Jul</td>\n",
       "      <td>7</td>\n",
       "      <td>49</td>\n",
       "      <td>7.608058</td>\n",
       "      <td>0</td>\n",
       "      <td>0</td>\n",
       "      <td>1</td>\n",
       "      <td>0</td>\n",
       "      <td>NaN</td>\n",
       "    </tr>\n",
       "    <tr>\n",
       "      <th>7</th>\n",
       "      <td>Q4_87</td>\n",
       "      <td>1991.746998</td>\n",
       "      <td>1987-10-01</td>\n",
       "      <td>1987</td>\n",
       "      <td>Oct</td>\n",
       "      <td>8</td>\n",
       "      <td>64</td>\n",
       "      <td>7.596767</td>\n",
       "      <td>0</td>\n",
       "      <td>0</td>\n",
       "      <td>0</td>\n",
       "      <td>1</td>\n",
       "      <td>NaN</td>\n",
       "    </tr>\n",
       "    <tr>\n",
       "      <th>8</th>\n",
       "      <td>Q1_88</td>\n",
       "      <td>1869.049999</td>\n",
       "      <td>1988-01-01</td>\n",
       "      <td>1988</td>\n",
       "      <td>Jan</td>\n",
       "      <td>9</td>\n",
       "      <td>81</td>\n",
       "      <td>7.533186</td>\n",
       "      <td>0</td>\n",
       "      <td>1</td>\n",
       "      <td>0</td>\n",
       "      <td>0</td>\n",
       "      <td>NaN</td>\n",
       "    </tr>\n",
       "    <tr>\n",
       "      <th>9</th>\n",
       "      <td>Q2_88</td>\n",
       "      <td>2313.631996</td>\n",
       "      <td>1988-04-01</td>\n",
       "      <td>1988</td>\n",
       "      <td>Apr</td>\n",
       "      <td>10</td>\n",
       "      <td>100</td>\n",
       "      <td>7.746574</td>\n",
       "      <td>1</td>\n",
       "      <td>0</td>\n",
       "      <td>0</td>\n",
       "      <td>0</td>\n",
       "      <td>NaN</td>\n",
       "    </tr>\n",
       "    <tr>\n",
       "      <th>10</th>\n",
       "      <td>Q3_88</td>\n",
       "      <td>2128.320000</td>\n",
       "      <td>1988-07-01</td>\n",
       "      <td>1988</td>\n",
       "      <td>Jul</td>\n",
       "      <td>11</td>\n",
       "      <td>121</td>\n",
       "      <td>7.663088</td>\n",
       "      <td>0</td>\n",
       "      <td>0</td>\n",
       "      <td>1</td>\n",
       "      <td>0</td>\n",
       "      <td>NaN</td>\n",
       "    </tr>\n",
       "    <tr>\n",
       "      <th>11</th>\n",
       "      <td>Q4_88</td>\n",
       "      <td>2026.828999</td>\n",
       "      <td>1988-10-01</td>\n",
       "      <td>1988</td>\n",
       "      <td>Oct</td>\n",
       "      <td>12</td>\n",
       "      <td>144</td>\n",
       "      <td>7.614228</td>\n",
       "      <td>0</td>\n",
       "      <td>0</td>\n",
       "      <td>0</td>\n",
       "      <td>1</td>\n",
       "      <td>NaN</td>\n",
       "    </tr>\n",
       "    <tr>\n",
       "      <th>12</th>\n",
       "      <td>Q1_89</td>\n",
       "      <td>1910.603996</td>\n",
       "      <td>1989-01-01</td>\n",
       "      <td>1989</td>\n",
       "      <td>Jan</td>\n",
       "      <td>13</td>\n",
       "      <td>169</td>\n",
       "      <td>7.555175</td>\n",
       "      <td>0</td>\n",
       "      <td>1</td>\n",
       "      <td>0</td>\n",
       "      <td>0</td>\n",
       "      <td>NaN</td>\n",
       "    </tr>\n",
       "    <tr>\n",
       "      <th>13</th>\n",
       "      <td>Q2_89</td>\n",
       "      <td>2331.164993</td>\n",
       "      <td>1989-04-01</td>\n",
       "      <td>1989</td>\n",
       "      <td>Apr</td>\n",
       "      <td>14</td>\n",
       "      <td>196</td>\n",
       "      <td>7.754123</td>\n",
       "      <td>1</td>\n",
       "      <td>0</td>\n",
       "      <td>0</td>\n",
       "      <td>0</td>\n",
       "      <td>NaN</td>\n",
       "    </tr>\n",
       "    <tr>\n",
       "      <th>14</th>\n",
       "      <td>Q3_89</td>\n",
       "      <td>2206.549995</td>\n",
       "      <td>1989-07-01</td>\n",
       "      <td>1989</td>\n",
       "      <td>Jul</td>\n",
       "      <td>15</td>\n",
       "      <td>225</td>\n",
       "      <td>7.699185</td>\n",
       "      <td>0</td>\n",
       "      <td>0</td>\n",
       "      <td>1</td>\n",
       "      <td>0</td>\n",
       "      <td>NaN</td>\n",
       "    </tr>\n",
       "    <tr>\n",
       "      <th>15</th>\n",
       "      <td>Q4_89</td>\n",
       "      <td>2173.967995</td>\n",
       "      <td>1989-10-01</td>\n",
       "      <td>1989</td>\n",
       "      <td>Oct</td>\n",
       "      <td>16</td>\n",
       "      <td>256</td>\n",
       "      <td>7.684309</td>\n",
       "      <td>0</td>\n",
       "      <td>0</td>\n",
       "      <td>0</td>\n",
       "      <td>1</td>\n",
       "      <td>NaN</td>\n",
       "    </tr>\n",
       "    <tr>\n",
       "      <th>16</th>\n",
       "      <td>Q1_90</td>\n",
       "      <td>2148.278000</td>\n",
       "      <td>1990-01-01</td>\n",
       "      <td>1990</td>\n",
       "      <td>Jan</td>\n",
       "      <td>17</td>\n",
       "      <td>289</td>\n",
       "      <td>7.672422</td>\n",
       "      <td>0</td>\n",
       "      <td>1</td>\n",
       "      <td>0</td>\n",
       "      <td>0</td>\n",
       "      <td>NaN</td>\n",
       "    </tr>\n",
       "    <tr>\n",
       "      <th>17</th>\n",
       "      <td>Q2_90</td>\n",
       "      <td>2739.307999</td>\n",
       "      <td>1990-04-01</td>\n",
       "      <td>1990</td>\n",
       "      <td>Apr</td>\n",
       "      <td>18</td>\n",
       "      <td>324</td>\n",
       "      <td>7.915461</td>\n",
       "      <td>1</td>\n",
       "      <td>0</td>\n",
       "      <td>0</td>\n",
       "      <td>0</td>\n",
       "      <td>NaN</td>\n",
       "    </tr>\n",
       "    <tr>\n",
       "      <th>18</th>\n",
       "      <td>Q3_90</td>\n",
       "      <td>2792.753998</td>\n",
       "      <td>1990-07-01</td>\n",
       "      <td>1990</td>\n",
       "      <td>Jul</td>\n",
       "      <td>19</td>\n",
       "      <td>361</td>\n",
       "      <td>7.934783</td>\n",
       "      <td>0</td>\n",
       "      <td>0</td>\n",
       "      <td>1</td>\n",
       "      <td>0</td>\n",
       "      <td>NaN</td>\n",
       "    </tr>\n",
       "    <tr>\n",
       "      <th>19</th>\n",
       "      <td>Q4_90</td>\n",
       "      <td>2556.009995</td>\n",
       "      <td>1990-10-01</td>\n",
       "      <td>1990</td>\n",
       "      <td>Oct</td>\n",
       "      <td>20</td>\n",
       "      <td>400</td>\n",
       "      <td>7.846203</td>\n",
       "      <td>0</td>\n",
       "      <td>0</td>\n",
       "      <td>0</td>\n",
       "      <td>1</td>\n",
       "      <td>NaN</td>\n",
       "    </tr>\n",
       "    <tr>\n",
       "      <th>20</th>\n",
       "      <td>Q1_91</td>\n",
       "      <td>2480.973999</td>\n",
       "      <td>1991-01-01</td>\n",
       "      <td>1991</td>\n",
       "      <td>Jan</td>\n",
       "      <td>21</td>\n",
       "      <td>441</td>\n",
       "      <td>7.816407</td>\n",
       "      <td>0</td>\n",
       "      <td>1</td>\n",
       "      <td>0</td>\n",
       "      <td>0</td>\n",
       "      <td>NaN</td>\n",
       "    </tr>\n",
       "    <tr>\n",
       "      <th>21</th>\n",
       "      <td>Q2_91</td>\n",
       "      <td>3039.522995</td>\n",
       "      <td>1991-04-01</td>\n",
       "      <td>1991</td>\n",
       "      <td>Apr</td>\n",
       "      <td>22</td>\n",
       "      <td>484</td>\n",
       "      <td>8.019456</td>\n",
       "      <td>1</td>\n",
       "      <td>0</td>\n",
       "      <td>0</td>\n",
       "      <td>0</td>\n",
       "      <td>NaN</td>\n",
       "    </tr>\n",
       "    <tr>\n",
       "      <th>22</th>\n",
       "      <td>Q3_91</td>\n",
       "      <td>3172.115997</td>\n",
       "      <td>1991-07-01</td>\n",
       "      <td>1991</td>\n",
       "      <td>Jul</td>\n",
       "      <td>23</td>\n",
       "      <td>529</td>\n",
       "      <td>8.062154</td>\n",
       "      <td>0</td>\n",
       "      <td>0</td>\n",
       "      <td>1</td>\n",
       "      <td>0</td>\n",
       "      <td>NaN</td>\n",
       "    </tr>\n",
       "    <tr>\n",
       "      <th>23</th>\n",
       "      <td>Q4_91</td>\n",
       "      <td>2879.000999</td>\n",
       "      <td>1991-10-01</td>\n",
       "      <td>1991</td>\n",
       "      <td>Oct</td>\n",
       "      <td>24</td>\n",
       "      <td>576</td>\n",
       "      <td>7.965199</td>\n",
       "      <td>0</td>\n",
       "      <td>0</td>\n",
       "      <td>0</td>\n",
       "      <td>1</td>\n",
       "      <td>NaN</td>\n",
       "    </tr>\n",
       "    <tr>\n",
       "      <th>24</th>\n",
       "      <td>Q1_92</td>\n",
       "      <td>2772.000000</td>\n",
       "      <td>1992-01-01</td>\n",
       "      <td>1992</td>\n",
       "      <td>Jan</td>\n",
       "      <td>25</td>\n",
       "      <td>625</td>\n",
       "      <td>7.927324</td>\n",
       "      <td>0</td>\n",
       "      <td>1</td>\n",
       "      <td>0</td>\n",
       "      <td>0</td>\n",
       "      <td>NaN</td>\n",
       "    </tr>\n",
       "    <tr>\n",
       "      <th>25</th>\n",
       "      <td>Q2_92</td>\n",
       "      <td>3550.000000</td>\n",
       "      <td>1992-04-01</td>\n",
       "      <td>1992</td>\n",
       "      <td>Apr</td>\n",
       "      <td>26</td>\n",
       "      <td>676</td>\n",
       "      <td>8.174703</td>\n",
       "      <td>1</td>\n",
       "      <td>0</td>\n",
       "      <td>0</td>\n",
       "      <td>0</td>\n",
       "      <td>NaN</td>\n",
       "    </tr>\n",
       "    <tr>\n",
       "      <th>26</th>\n",
       "      <td>Q3_92</td>\n",
       "      <td>3508.000000</td>\n",
       "      <td>1992-07-01</td>\n",
       "      <td>1992</td>\n",
       "      <td>Jul</td>\n",
       "      <td>27</td>\n",
       "      <td>729</td>\n",
       "      <td>8.162801</td>\n",
       "      <td>0</td>\n",
       "      <td>0</td>\n",
       "      <td>1</td>\n",
       "      <td>0</td>\n",
       "      <td>NaN</td>\n",
       "    </tr>\n",
       "    <tr>\n",
       "      <th>27</th>\n",
       "      <td>Q4_92</td>\n",
       "      <td>3243.859993</td>\n",
       "      <td>1992-10-01</td>\n",
       "      <td>1992</td>\n",
       "      <td>Oct</td>\n",
       "      <td>28</td>\n",
       "      <td>784</td>\n",
       "      <td>8.084519</td>\n",
       "      <td>0</td>\n",
       "      <td>0</td>\n",
       "      <td>0</td>\n",
       "      <td>1</td>\n",
       "      <td>NaN</td>\n",
       "    </tr>\n",
       "    <tr>\n",
       "      <th>28</th>\n",
       "      <td>Q1_93</td>\n",
       "      <td>3056.000000</td>\n",
       "      <td>1993-01-01</td>\n",
       "      <td>1993</td>\n",
       "      <td>Jan</td>\n",
       "      <td>29</td>\n",
       "      <td>841</td>\n",
       "      <td>8.024862</td>\n",
       "      <td>0</td>\n",
       "      <td>1</td>\n",
       "      <td>0</td>\n",
       "      <td>0</td>\n",
       "      <td>NaN</td>\n",
       "    </tr>\n",
       "    <tr>\n",
       "      <th>29</th>\n",
       "      <td>Q2_93</td>\n",
       "      <td>3899.000000</td>\n",
       "      <td>1993-04-01</td>\n",
       "      <td>1993</td>\n",
       "      <td>Apr</td>\n",
       "      <td>30</td>\n",
       "      <td>900</td>\n",
       "      <td>8.268475</td>\n",
       "      <td>1</td>\n",
       "      <td>0</td>\n",
       "      <td>0</td>\n",
       "      <td>0</td>\n",
       "      <td>NaN</td>\n",
       "    </tr>\n",
       "    <tr>\n",
       "      <th>30</th>\n",
       "      <td>Q3_93</td>\n",
       "      <td>3629.000000</td>\n",
       "      <td>1993-07-01</td>\n",
       "      <td>1993</td>\n",
       "      <td>Jul</td>\n",
       "      <td>31</td>\n",
       "      <td>961</td>\n",
       "      <td>8.196712</td>\n",
       "      <td>0</td>\n",
       "      <td>0</td>\n",
       "      <td>1</td>\n",
       "      <td>0</td>\n",
       "      <td>NaN</td>\n",
       "    </tr>\n",
       "    <tr>\n",
       "      <th>31</th>\n",
       "      <td>Q4_93</td>\n",
       "      <td>3373.000000</td>\n",
       "      <td>1993-10-01</td>\n",
       "      <td>1993</td>\n",
       "      <td>Oct</td>\n",
       "      <td>32</td>\n",
       "      <td>1024</td>\n",
       "      <td>8.123558</td>\n",
       "      <td>0</td>\n",
       "      <td>0</td>\n",
       "      <td>0</td>\n",
       "      <td>1</td>\n",
       "      <td>NaN</td>\n",
       "    </tr>\n",
       "    <tr>\n",
       "      <th>32</th>\n",
       "      <td>Q1_94</td>\n",
       "      <td>3352.000000</td>\n",
       "      <td>1994-01-01</td>\n",
       "      <td>1994</td>\n",
       "      <td>Jan</td>\n",
       "      <td>33</td>\n",
       "      <td>1089</td>\n",
       "      <td>8.117312</td>\n",
       "      <td>0</td>\n",
       "      <td>1</td>\n",
       "      <td>0</td>\n",
       "      <td>0</td>\n",
       "      <td>NaN</td>\n",
       "    </tr>\n",
       "    <tr>\n",
       "      <th>33</th>\n",
       "      <td>Q2_94</td>\n",
       "      <td>4342.000000</td>\n",
       "      <td>1994-04-01</td>\n",
       "      <td>1994</td>\n",
       "      <td>Apr</td>\n",
       "      <td>34</td>\n",
       "      <td>1156</td>\n",
       "      <td>8.376090</td>\n",
       "      <td>1</td>\n",
       "      <td>0</td>\n",
       "      <td>0</td>\n",
       "      <td>0</td>\n",
       "      <td>NaN</td>\n",
       "    </tr>\n",
       "    <tr>\n",
       "      <th>34</th>\n",
       "      <td>Q3_94</td>\n",
       "      <td>4461.000000</td>\n",
       "      <td>1994-07-01</td>\n",
       "      <td>1994</td>\n",
       "      <td>Jul</td>\n",
       "      <td>35</td>\n",
       "      <td>1225</td>\n",
       "      <td>8.403128</td>\n",
       "      <td>0</td>\n",
       "      <td>0</td>\n",
       "      <td>1</td>\n",
       "      <td>0</td>\n",
       "      <td>NaN</td>\n",
       "    </tr>\n",
       "    <tr>\n",
       "      <th>35</th>\n",
       "      <td>Q4_94</td>\n",
       "      <td>4017.000000</td>\n",
       "      <td>1994-10-01</td>\n",
       "      <td>1994</td>\n",
       "      <td>Oct</td>\n",
       "      <td>36</td>\n",
       "      <td>1296</td>\n",
       "      <td>8.298291</td>\n",
       "      <td>0</td>\n",
       "      <td>0</td>\n",
       "      <td>0</td>\n",
       "      <td>1</td>\n",
       "      <td>NaN</td>\n",
       "    </tr>\n",
       "    <tr>\n",
       "      <th>36</th>\n",
       "      <td>Q1_95</td>\n",
       "      <td>3854.000000</td>\n",
       "      <td>1995-01-01</td>\n",
       "      <td>1995</td>\n",
       "      <td>Jan</td>\n",
       "      <td>37</td>\n",
       "      <td>1369</td>\n",
       "      <td>8.256867</td>\n",
       "      <td>0</td>\n",
       "      <td>1</td>\n",
       "      <td>0</td>\n",
       "      <td>0</td>\n",
       "      <td>NaN</td>\n",
       "    </tr>\n",
       "    <tr>\n",
       "      <th>37</th>\n",
       "      <td>Q2_95</td>\n",
       "      <td>4936.000000</td>\n",
       "      <td>1995-04-01</td>\n",
       "      <td>1995</td>\n",
       "      <td>Apr</td>\n",
       "      <td>38</td>\n",
       "      <td>1444</td>\n",
       "      <td>8.504311</td>\n",
       "      <td>1</td>\n",
       "      <td>0</td>\n",
       "      <td>0</td>\n",
       "      <td>0</td>\n",
       "      <td>NaN</td>\n",
       "    </tr>\n",
       "    <tr>\n",
       "      <th>38</th>\n",
       "      <td>Q3_95</td>\n",
       "      <td>4895.000000</td>\n",
       "      <td>1995-07-01</td>\n",
       "      <td>1995</td>\n",
       "      <td>Jul</td>\n",
       "      <td>39</td>\n",
       "      <td>1521</td>\n",
       "      <td>8.495970</td>\n",
       "      <td>0</td>\n",
       "      <td>0</td>\n",
       "      <td>1</td>\n",
       "      <td>0</td>\n",
       "      <td>NaN</td>\n",
       "    </tr>\n",
       "    <tr>\n",
       "      <th>39</th>\n",
       "      <td>Q4_95</td>\n",
       "      <td>4333.000000</td>\n",
       "      <td>1995-10-01</td>\n",
       "      <td>1995</td>\n",
       "      <td>Oct</td>\n",
       "      <td>40</td>\n",
       "      <td>1600</td>\n",
       "      <td>8.374015</td>\n",
       "      <td>0</td>\n",
       "      <td>0</td>\n",
       "      <td>0</td>\n",
       "      <td>1</td>\n",
       "      <td>NaN</td>\n",
       "    </tr>\n",
       "    <tr>\n",
       "      <th>40</th>\n",
       "      <td>Q1_96</td>\n",
       "      <td>4194.000000</td>\n",
       "      <td>1996-01-01</td>\n",
       "      <td>1996</td>\n",
       "      <td>Jan</td>\n",
       "      <td>41</td>\n",
       "      <td>1681</td>\n",
       "      <td>8.341410</td>\n",
       "      <td>0</td>\n",
       "      <td>1</td>\n",
       "      <td>0</td>\n",
       "      <td>0</td>\n",
       "      <td>NaN</td>\n",
       "    </tr>\n",
       "    <tr>\n",
       "      <th>41</th>\n",
       "      <td>Q2_96</td>\n",
       "      <td>5253.000000</td>\n",
       "      <td>1996-04-01</td>\n",
       "      <td>1996</td>\n",
       "      <td>Apr</td>\n",
       "      <td>42</td>\n",
       "      <td>1764</td>\n",
       "      <td>8.566555</td>\n",
       "      <td>1</td>\n",
       "      <td>0</td>\n",
       "      <td>0</td>\n",
       "      <td>0</td>\n",
       "      <td>NaN</td>\n",
       "    </tr>\n",
       "    <tr>\n",
       "      <th>0</th>\n",
       "      <td>NaN</td>\n",
       "      <td>NaN</td>\n",
       "      <td>1996-07-01</td>\n",
       "      <td>NaN</td>\n",
       "      <td>NaN</td>\n",
       "      <td>43</td>\n",
       "      <td>1849</td>\n",
       "      <td>NaN</td>\n",
       "      <td>0</td>\n",
       "      <td>0</td>\n",
       "      <td>1</td>\n",
       "      <td>0</td>\n",
       "      <td>5319.754557</td>\n",
       "    </tr>\n",
       "    <tr>\n",
       "      <th>1</th>\n",
       "      <td>NaN</td>\n",
       "      <td>NaN</td>\n",
       "      <td>1996-10-01</td>\n",
       "      <td>NaN</td>\n",
       "      <td>NaN</td>\n",
       "      <td>44</td>\n",
       "      <td>1936</td>\n",
       "      <td>NaN</td>\n",
       "      <td>0</td>\n",
       "      <td>0</td>\n",
       "      <td>0</td>\n",
       "      <td>1</td>\n",
       "      <td>5137.955882</td>\n",
       "    </tr>\n",
       "    <tr>\n",
       "      <th>2</th>\n",
       "      <td>NaN</td>\n",
       "      <td>NaN</td>\n",
       "      <td>1997-01-01</td>\n",
       "      <td>NaN</td>\n",
       "      <td>NaN</td>\n",
       "      <td>45</td>\n",
       "      <td>2025</td>\n",
       "      <td>NaN</td>\n",
       "      <td>0</td>\n",
       "      <td>1</td>\n",
       "      <td>0</td>\n",
       "      <td>0</td>\n",
       "      <td>5069.668337</td>\n",
       "    </tr>\n",
       "    <tr>\n",
       "      <th>3</th>\n",
       "      <td>NaN</td>\n",
       "      <td>NaN</td>\n",
       "      <td>1997-04-01</td>\n",
       "      <td>NaN</td>\n",
       "      <td>NaN</td>\n",
       "      <td>46</td>\n",
       "      <td>2116</td>\n",
       "      <td>NaN</td>\n",
       "      <td>1</td>\n",
       "      <td>0</td>\n",
       "      <td>0</td>\n",
       "      <td>0</td>\n",
       "      <td>5866.186600</td>\n",
       "    </tr>\n",
       "    <tr>\n",
       "      <th>4</th>\n",
       "      <td>NaN</td>\n",
       "      <td>NaN</td>\n",
       "      <td>1997-07-01</td>\n",
       "      <td>NaN</td>\n",
       "      <td>NaN</td>\n",
       "      <td>47</td>\n",
       "      <td>2209</td>\n",
       "      <td>NaN</td>\n",
       "      <td>0</td>\n",
       "      <td>0</td>\n",
       "      <td>1</td>\n",
       "      <td>0</td>\n",
       "      <td>5942.178733</td>\n",
       "    </tr>\n",
       "    <tr>\n",
       "      <th>5</th>\n",
       "      <td>NaN</td>\n",
       "      <td>NaN</td>\n",
       "      <td>1997-10-01</td>\n",
       "      <td>NaN</td>\n",
       "      <td>NaN</td>\n",
       "      <td>48</td>\n",
       "      <td>2304</td>\n",
       "      <td>NaN</td>\n",
       "      <td>0</td>\n",
       "      <td>0</td>\n",
       "      <td>0</td>\n",
       "      <td>1</td>\n",
       "      <td>5774.444481</td>\n",
       "    </tr>\n",
       "  </tbody>\n",
       "</table>\n",
       "</div>"
      ],
      "text/plain": [
       "   Quarter        Sales       date  year month   t  t_square  log_sales  Apr  \\\n",
       "0    Q1_86  1734.827000 1986-01-01  1986   Jan   1         1   7.458663    0   \n",
       "1    Q2_86  2244.960999 1986-04-01  1986   Apr   2         4   7.716443    1   \n",
       "2    Q3_86  2533.804993 1986-07-01  1986   Jul   3         9   7.837477    0   \n",
       "3    Q4_86  2154.962997 1986-10-01  1986   Oct   4        16   7.675529    0   \n",
       "4    Q1_87  1547.818996 1987-01-01  1987   Jan   5        25   7.344602    0   \n",
       "5    Q2_87  2104.411995 1987-04-01  1987   Apr   6        36   7.651791    1   \n",
       "6    Q3_87  2014.362999 1987-07-01  1987   Jul   7        49   7.608058    0   \n",
       "7    Q4_87  1991.746998 1987-10-01  1987   Oct   8        64   7.596767    0   \n",
       "8    Q1_88  1869.049999 1988-01-01  1988   Jan   9        81   7.533186    0   \n",
       "9    Q2_88  2313.631996 1988-04-01  1988   Apr  10       100   7.746574    1   \n",
       "10   Q3_88  2128.320000 1988-07-01  1988   Jul  11       121   7.663088    0   \n",
       "11   Q4_88  2026.828999 1988-10-01  1988   Oct  12       144   7.614228    0   \n",
       "12   Q1_89  1910.603996 1989-01-01  1989   Jan  13       169   7.555175    0   \n",
       "13   Q2_89  2331.164993 1989-04-01  1989   Apr  14       196   7.754123    1   \n",
       "14   Q3_89  2206.549995 1989-07-01  1989   Jul  15       225   7.699185    0   \n",
       "15   Q4_89  2173.967995 1989-10-01  1989   Oct  16       256   7.684309    0   \n",
       "16   Q1_90  2148.278000 1990-01-01  1990   Jan  17       289   7.672422    0   \n",
       "17   Q2_90  2739.307999 1990-04-01  1990   Apr  18       324   7.915461    1   \n",
       "18   Q3_90  2792.753998 1990-07-01  1990   Jul  19       361   7.934783    0   \n",
       "19   Q4_90  2556.009995 1990-10-01  1990   Oct  20       400   7.846203    0   \n",
       "20   Q1_91  2480.973999 1991-01-01  1991   Jan  21       441   7.816407    0   \n",
       "21   Q2_91  3039.522995 1991-04-01  1991   Apr  22       484   8.019456    1   \n",
       "22   Q3_91  3172.115997 1991-07-01  1991   Jul  23       529   8.062154    0   \n",
       "23   Q4_91  2879.000999 1991-10-01  1991   Oct  24       576   7.965199    0   \n",
       "24   Q1_92  2772.000000 1992-01-01  1992   Jan  25       625   7.927324    0   \n",
       "25   Q2_92  3550.000000 1992-04-01  1992   Apr  26       676   8.174703    1   \n",
       "26   Q3_92  3508.000000 1992-07-01  1992   Jul  27       729   8.162801    0   \n",
       "27   Q4_92  3243.859993 1992-10-01  1992   Oct  28       784   8.084519    0   \n",
       "28   Q1_93  3056.000000 1993-01-01  1993   Jan  29       841   8.024862    0   \n",
       "29   Q2_93  3899.000000 1993-04-01  1993   Apr  30       900   8.268475    1   \n",
       "30   Q3_93  3629.000000 1993-07-01  1993   Jul  31       961   8.196712    0   \n",
       "31   Q4_93  3373.000000 1993-10-01  1993   Oct  32      1024   8.123558    0   \n",
       "32   Q1_94  3352.000000 1994-01-01  1994   Jan  33      1089   8.117312    0   \n",
       "33   Q2_94  4342.000000 1994-04-01  1994   Apr  34      1156   8.376090    1   \n",
       "34   Q3_94  4461.000000 1994-07-01  1994   Jul  35      1225   8.403128    0   \n",
       "35   Q4_94  4017.000000 1994-10-01  1994   Oct  36      1296   8.298291    0   \n",
       "36   Q1_95  3854.000000 1995-01-01  1995   Jan  37      1369   8.256867    0   \n",
       "37   Q2_95  4936.000000 1995-04-01  1995   Apr  38      1444   8.504311    1   \n",
       "38   Q3_95  4895.000000 1995-07-01  1995   Jul  39      1521   8.495970    0   \n",
       "39   Q4_95  4333.000000 1995-10-01  1995   Oct  40      1600   8.374015    0   \n",
       "40   Q1_96  4194.000000 1996-01-01  1996   Jan  41      1681   8.341410    0   \n",
       "41   Q2_96  5253.000000 1996-04-01  1996   Apr  42      1764   8.566555    1   \n",
       "0      NaN          NaN 1996-07-01   NaN   NaN  43      1849        NaN    0   \n",
       "1      NaN          NaN 1996-10-01   NaN   NaN  44      1936        NaN    0   \n",
       "2      NaN          NaN 1997-01-01   NaN   NaN  45      2025        NaN    0   \n",
       "3      NaN          NaN 1997-04-01   NaN   NaN  46      2116        NaN    1   \n",
       "4      NaN          NaN 1997-07-01   NaN   NaN  47      2209        NaN    0   \n",
       "5      NaN          NaN 1997-10-01   NaN   NaN  48      2304        NaN    0   \n",
       "\n",
       "    Jan  Jul  Oct    Predicted  \n",
       "0     1    0    0          NaN  \n",
       "1     0    0    0          NaN  \n",
       "2     0    1    0          NaN  \n",
       "3     0    0    1          NaN  \n",
       "4     1    0    0          NaN  \n",
       "5     0    0    0          NaN  \n",
       "6     0    1    0          NaN  \n",
       "7     0    0    1          NaN  \n",
       "8     1    0    0          NaN  \n",
       "9     0    0    0          NaN  \n",
       "10    0    1    0          NaN  \n",
       "11    0    0    1          NaN  \n",
       "12    1    0    0          NaN  \n",
       "13    0    0    0          NaN  \n",
       "14    0    1    0          NaN  \n",
       "15    0    0    1          NaN  \n",
       "16    1    0    0          NaN  \n",
       "17    0    0    0          NaN  \n",
       "18    0    1    0          NaN  \n",
       "19    0    0    1          NaN  \n",
       "20    1    0    0          NaN  \n",
       "21    0    0    0          NaN  \n",
       "22    0    1    0          NaN  \n",
       "23    0    0    1          NaN  \n",
       "24    1    0    0          NaN  \n",
       "25    0    0    0          NaN  \n",
       "26    0    1    0          NaN  \n",
       "27    0    0    1          NaN  \n",
       "28    1    0    0          NaN  \n",
       "29    0    0    0          NaN  \n",
       "30    0    1    0          NaN  \n",
       "31    0    0    1          NaN  \n",
       "32    1    0    0          NaN  \n",
       "33    0    0    0          NaN  \n",
       "34    0    1    0          NaN  \n",
       "35    0    0    1          NaN  \n",
       "36    1    0    0          NaN  \n",
       "37    0    0    0          NaN  \n",
       "38    0    1    0          NaN  \n",
       "39    0    0    1          NaN  \n",
       "40    1    0    0          NaN  \n",
       "41    0    0    0          NaN  \n",
       "0     0    1    0  5319.754557  \n",
       "1     0    0    1  5137.955882  \n",
       "2     1    0    0  5069.668337  \n",
       "3     0    0    0  5866.186600  \n",
       "4     0    1    0  5942.178733  \n",
       "5     0    0    1  5774.444481  "
      ]
     },
     "execution_count": 32,
     "metadata": {},
     "output_type": "execute_result"
    }
   ],
   "source": [
    "full_data=pd.concat([coca_cola,coca_cola_test])\n",
    "full_data"
   ]
  },
  {
   "cell_type": "code",
   "execution_count": 33,
   "id": "714ab596",
   "metadata": {},
   "outputs": [
    {
     "data": {
      "image/png": "[encoded data removed]",
      "text/plain": [
       "<Figure size 432x288 with 1 Axes>"
      ]
     },
     "metadata": {
      "needs_background": "light"
     },
     "output_type": "display_data"
    }
   ],
   "source": [
    "full_data['Sales'].plot()\n",
    "plt.show()"
   ]
  },
  {
   "cell_type": "code",
   "execution_count": 34,
   "id": "9b93eb1c",
   "metadata": {},
   "outputs": [
    {
     "data": {
      "image/png": "[encoded data removed]",
      "text/plain": [
       "<Figure size 432x288 with 1 Axes>"
      ]
     },
     "metadata": {
      "needs_background": "light"
     },
     "output_type": "display_data"
    }
   ],
   "source": [
    "full_data['Predicted'].plot()\n",
    "plt.show()"
   ]
  },
  {
   "cell_type": "code",
   "execution_count": 35,
   "id": "d83edd17",
   "metadata": {},
   "outputs": [
    {
     "data": {
      "text/plain": [
       "<AxesSubplot:>"
      ]
     },
     "execution_count": 35,
     "metadata": {},
     "output_type": "execute_result"
    },
    {
     "data": {
      "image/png": "[encoded data removed]",
      "text/plain": [
       "<Figure size 432x288 with 1 Axes>"
      ]
     },
     "metadata": {
      "needs_background": "light"
     },
     "output_type": "display_data"
    }
   ],
   "source": [
    "full_data[['Sales','Predicted']].reset_index(drop=True).plot()"
   ]
  },
  {
   "cell_type": "markdown",
   "id": "477fe5ae",
   "metadata": {},
   "source": [
    "## 2. Data Driven Forecasting Techniques"
   ]
  },
  {
   "cell_type": "code",
   "execution_count": 36,
   "id": "bed662e2",
   "metadata": {},
   "outputs": [
    {
     "data": {
      "image/png": "[encoded data removed]",
      "text/plain": [
       "<Figure size 720x432 with 4 Axes>"
      ]
     },
     "metadata": {
      "needs_background": "light"
     },
     "output_type": "display_data"
    }
   ],
   "source": [
    "seasonal_de_compose=seasonal_decompose(coca_cola['Sales'],period=4)\n",
    "fig=seasonal_de_compose.plot()\n",
    "fig.set_size_inches(10,6)\n",
    "plt.show()"
   ]
  },
  {
   "cell_type": "markdown",
   "id": "0db1c6ea",
   "metadata": {},
   "source": [
    "### Set 1 :"
   ]
  },
  {
   "cell_type": "markdown",
   "id": "3422a539",
   "metadata": {},
   "source": [
    "### Simple Average Model"
   ]
  },
  {
   "cell_type": "code",
   "execution_count": 37,
   "id": "ffb9392f",
   "metadata": {},
   "outputs": [
    {
     "data": {
      "text/html": [
       "<div>\n",
       "<style scoped>\n",
       "    .dataframe tbody tr th:only-of-type {\n",
       "        vertical-align: middle;\n",
       "    }\n",
       "\n",
       "    .dataframe tbody tr th {\n",
       "        vertical-align: top;\n",
       "    }\n",
       "\n",
       "    .dataframe thead th {\n",
       "        text-align: right;\n",
       "    }\n",
       "</style>\n",
       "<table border=\"1\" class=\"dataframe\">\n",
       "  <thead>\n",
       "    <tr style=\"text-align: right;\">\n",
       "      <th></th>\n",
       "      <th>Quarter</th>\n",
       "      <th>Sales</th>\n",
       "      <th>date</th>\n",
       "      <th>year</th>\n",
       "      <th>month</th>\n",
       "      <th>t</th>\n",
       "      <th>t_square</th>\n",
       "      <th>log_sales</th>\n",
       "      <th>Apr</th>\n",
       "      <th>Jan</th>\n",
       "      <th>Jul</th>\n",
       "      <th>Oct</th>\n",
       "      <th>Simple_Average</th>\n",
       "    </tr>\n",
       "  </thead>\n",
       "  <tbody>\n",
       "    <tr>\n",
       "      <th>0</th>\n",
       "      <td>Q1_86</td>\n",
       "      <td>1734.827000</td>\n",
       "      <td>1986-01-01</td>\n",
       "      <td>1986</td>\n",
       "      <td>Jan</td>\n",
       "      <td>1</td>\n",
       "      <td>1</td>\n",
       "      <td>7.458663</td>\n",
       "      <td>0</td>\n",
       "      <td>1</td>\n",
       "      <td>0</td>\n",
       "      <td>0</td>\n",
       "      <td>NaN</td>\n",
       "    </tr>\n",
       "    <tr>\n",
       "      <th>1</th>\n",
       "      <td>Q2_86</td>\n",
       "      <td>2244.960999</td>\n",
       "      <td>1986-04-01</td>\n",
       "      <td>1986</td>\n",
       "      <td>Apr</td>\n",
       "      <td>2</td>\n",
       "      <td>4</td>\n",
       "      <td>7.716443</td>\n",
       "      <td>1</td>\n",
       "      <td>0</td>\n",
       "      <td>0</td>\n",
       "      <td>0</td>\n",
       "      <td>1735.0</td>\n",
       "    </tr>\n",
       "    <tr>\n",
       "      <th>2</th>\n",
       "      <td>Q3_86</td>\n",
       "      <td>2533.804993</td>\n",
       "      <td>1986-07-01</td>\n",
       "      <td>1986</td>\n",
       "      <td>Jul</td>\n",
       "      <td>3</td>\n",
       "      <td>9</td>\n",
       "      <td>7.837477</td>\n",
       "      <td>0</td>\n",
       "      <td>0</td>\n",
       "      <td>1</td>\n",
       "      <td>0</td>\n",
       "      <td>1990.0</td>\n",
       "    </tr>\n",
       "    <tr>\n",
       "      <th>3</th>\n",
       "      <td>Q4_86</td>\n",
       "      <td>2154.962997</td>\n",
       "      <td>1986-10-01</td>\n",
       "      <td>1986</td>\n",
       "      <td>Oct</td>\n",
       "      <td>4</td>\n",
       "      <td>16</td>\n",
       "      <td>7.675529</td>\n",
       "      <td>0</td>\n",
       "      <td>0</td>\n",
       "      <td>0</td>\n",
       "      <td>1</td>\n",
       "      <td>2171.0</td>\n",
       "    </tr>\n",
       "    <tr>\n",
       "      <th>4</th>\n",
       "      <td>Q1_87</td>\n",
       "      <td>1547.818996</td>\n",
       "      <td>1987-01-01</td>\n",
       "      <td>1987</td>\n",
       "      <td>Jan</td>\n",
       "      <td>5</td>\n",
       "      <td>25</td>\n",
       "      <td>7.344602</td>\n",
       "      <td>0</td>\n",
       "      <td>1</td>\n",
       "      <td>0</td>\n",
       "      <td>0</td>\n",
       "      <td>2167.0</td>\n",
       "    </tr>\n",
       "  </tbody>\n",
       "</table>\n",
       "</div>"
      ],
      "text/plain": [
       "  Quarter        Sales       date  year month  t  t_square  log_sales  Apr  \\\n",
       "0   Q1_86  1734.827000 1986-01-01  1986   Jan  1         1   7.458663    0   \n",
       "1   Q2_86  2244.960999 1986-04-01  1986   Apr  2         4   7.716443    1   \n",
       "2   Q3_86  2533.804993 1986-07-01  1986   Jul  3         9   7.837477    0   \n",
       "3   Q4_86  2154.962997 1986-10-01  1986   Oct  4        16   7.675529    0   \n",
       "4   Q1_87  1547.818996 1987-01-01  1987   Jan  5        25   7.344602    0   \n",
       "\n",
       "   Jan  Jul  Oct  Simple_Average  \n",
       "0    1    0    0             NaN  \n",
       "1    0    0    0          1735.0  \n",
       "2    0    1    0          1990.0  \n",
       "3    0    0    1          2171.0  \n",
       "4    1    0    0          2167.0  "
      ]
     },
     "execution_count": 37,
     "metadata": {},
     "output_type": "execute_result"
    }
   ],
   "source": [
    "coca_cola['Simple_Average']=pd.Series()\n",
    "for i in range (0,coca_cola.shape[0]):\n",
    "    avg=np.round(np.mean(coca_cola['Sales'][:i]))\n",
    "    coca_cola['Simple_Average'].at[i]=avg\n",
    "coca_cola.head()"
   ]
  },
  {
   "cell_type": "code",
   "execution_count": 38,
   "id": "094418a4",
   "metadata": {},
   "outputs": [
    {
     "data": {
      "text/html": [
       "<div>\n",
       "<style scoped>\n",
       "    .dataframe tbody tr th:only-of-type {\n",
       "        vertical-align: middle;\n",
       "    }\n",
       "\n",
       "    .dataframe tbody tr th {\n",
       "        vertical-align: top;\n",
       "    }\n",
       "\n",
       "    .dataframe thead th {\n",
       "        text-align: right;\n",
       "    }\n",
       "</style>\n",
       "<table border=\"1\" class=\"dataframe\">\n",
       "  <thead>\n",
       "    <tr style=\"text-align: right;\">\n",
       "      <th></th>\n",
       "      <th>Quarter</th>\n",
       "      <th>Sales</th>\n",
       "      <th>date</th>\n",
       "      <th>year</th>\n",
       "      <th>month</th>\n",
       "      <th>t</th>\n",
       "      <th>t_square</th>\n",
       "      <th>log_sales</th>\n",
       "      <th>Apr</th>\n",
       "      <th>Jan</th>\n",
       "      <th>Jul</th>\n",
       "      <th>Oct</th>\n",
       "      <th>Simple_Average</th>\n",
       "    </tr>\n",
       "  </thead>\n",
       "  <tbody>\n",
       "    <tr>\n",
       "      <th>0</th>\n",
       "      <td>Q1_86</td>\n",
       "      <td>1734.827000</td>\n",
       "      <td>1986-01-01</td>\n",
       "      <td>1986</td>\n",
       "      <td>Jan</td>\n",
       "      <td>1</td>\n",
       "      <td>1</td>\n",
       "      <td>7.458663</td>\n",
       "      <td>0</td>\n",
       "      <td>1</td>\n",
       "      <td>0</td>\n",
       "      <td>0</td>\n",
       "      <td>0.0</td>\n",
       "    </tr>\n",
       "    <tr>\n",
       "      <th>1</th>\n",
       "      <td>Q2_86</td>\n",
       "      <td>2244.960999</td>\n",
       "      <td>1986-04-01</td>\n",
       "      <td>1986</td>\n",
       "      <td>Apr</td>\n",
       "      <td>2</td>\n",
       "      <td>4</td>\n",
       "      <td>7.716443</td>\n",
       "      <td>1</td>\n",
       "      <td>0</td>\n",
       "      <td>0</td>\n",
       "      <td>0</td>\n",
       "      <td>1735.0</td>\n",
       "    </tr>\n",
       "    <tr>\n",
       "      <th>2</th>\n",
       "      <td>Q3_86</td>\n",
       "      <td>2533.804993</td>\n",
       "      <td>1986-07-01</td>\n",
       "      <td>1986</td>\n",
       "      <td>Jul</td>\n",
       "      <td>3</td>\n",
       "      <td>9</td>\n",
       "      <td>7.837477</td>\n",
       "      <td>0</td>\n",
       "      <td>0</td>\n",
       "      <td>1</td>\n",
       "      <td>0</td>\n",
       "      <td>1990.0</td>\n",
       "    </tr>\n",
       "    <tr>\n",
       "      <th>3</th>\n",
       "      <td>Q4_86</td>\n",
       "      <td>2154.962997</td>\n",
       "      <td>1986-10-01</td>\n",
       "      <td>1986</td>\n",
       "      <td>Oct</td>\n",
       "      <td>4</td>\n",
       "      <td>16</td>\n",
       "      <td>7.675529</td>\n",
       "      <td>0</td>\n",
       "      <td>0</td>\n",
       "      <td>0</td>\n",
       "      <td>1</td>\n",
       "      <td>2171.0</td>\n",
       "    </tr>\n",
       "    <tr>\n",
       "      <th>4</th>\n",
       "      <td>Q1_87</td>\n",
       "      <td>1547.818996</td>\n",
       "      <td>1987-01-01</td>\n",
       "      <td>1987</td>\n",
       "      <td>Jan</td>\n",
       "      <td>5</td>\n",
       "      <td>25</td>\n",
       "      <td>7.344602</td>\n",
       "      <td>0</td>\n",
       "      <td>1</td>\n",
       "      <td>0</td>\n",
       "      <td>0</td>\n",
       "      <td>2167.0</td>\n",
       "    </tr>\n",
       "  </tbody>\n",
       "</table>\n",
       "</div>"
      ],
      "text/plain": [
       "  Quarter        Sales       date  year month  t  t_square  log_sales  Apr  \\\n",
       "0   Q1_86  1734.827000 1986-01-01  1986   Jan  1         1   7.458663    0   \n",
       "1   Q2_86  2244.960999 1986-04-01  1986   Apr  2         4   7.716443    1   \n",
       "2   Q3_86  2533.804993 1986-07-01  1986   Jul  3         9   7.837477    0   \n",
       "3   Q4_86  2154.962997 1986-10-01  1986   Oct  4        16   7.675529    0   \n",
       "4   Q1_87  1547.818996 1987-01-01  1987   Jan  5        25   7.344602    0   \n",
       "\n",
       "   Jan  Jul  Oct  Simple_Average  \n",
       "0    1    0    0             0.0  \n",
       "1    0    0    0          1735.0  \n",
       "2    0    1    0          1990.0  \n",
       "3    0    0    1          2171.0  \n",
       "4    1    0    0          2167.0  "
      ]
     },
     "execution_count": 38,
     "metadata": {},
     "output_type": "execute_result"
    }
   ],
   "source": [
    "coca_cola=coca_cola.fillna(0)\n",
    "coca_cola.head()"
   ]
  },
  {
   "cell_type": "code",
   "execution_count": 39,
   "id": "684393a8",
   "metadata": {},
   "outputs": [
    {
     "data": {
      "text/plain": [
       "1020.358"
      ]
     },
     "execution_count": 39,
     "metadata": {},
     "output_type": "execute_result"
    }
   ],
   "source": [
    "rmse_avg=np.round(mean_squared_error(coca_cola.Sales,coca_cola.Simple_Average,squared=False),3)\n",
    "rmse_avg"
   ]
  },
  {
   "cell_type": "markdown",
   "id": "334f2226",
   "metadata": {},
   "source": [
    "### Moving Average Model"
   ]
  },
  {
   "cell_type": "code",
   "execution_count": 40,
   "id": "1ff4d6d0",
   "metadata": {},
   "outputs": [
    {
     "data": {
      "image/png": "[encoded data removed]",
      "text/plain": [
       "<Figure size 1008x432 with 1 Axes>"
      ]
     },
     "metadata": {
      "needs_background": "light"
     },
     "output_type": "display_data"
    }
   ],
   "source": [
    "#Plotting Moving average model\n",
    "\n",
    "plt.figure(figsize=(14,6))\n",
    "coca_cola['Sales'].plot(label='org')\n",
    "for i in range(2,19,4):\n",
    "    coca_cola['Sales'].rolling(i).mean().plot(label=str(i))\n",
    "plt.legend(loc='lower right',fontsize =15)\n",
    "plt.xticks(np.arange(0,50,10))\n",
    "plt.show()"
   ]
  },
  {
   "cell_type": "code",
   "execution_count": 41,
   "id": "c6170c20",
   "metadata": {},
   "outputs": [],
   "source": [
    "coca_cola['Moving_Average']=coca_cola['Sales'].rolling(3).mean().round()"
   ]
  },
  {
   "cell_type": "code",
   "execution_count": 42,
   "id": "9dbee6df",
   "metadata": {},
   "outputs": [
    {
     "data": {
      "text/html": [
       "<div>\n",
       "<style scoped>\n",
       "    .dataframe tbody tr th:only-of-type {\n",
       "        vertical-align: middle;\n",
       "    }\n",
       "\n",
       "    .dataframe tbody tr th {\n",
       "        vertical-align: top;\n",
       "    }\n",
       "\n",
       "    .dataframe thead th {\n",
       "        text-align: right;\n",
       "    }\n",
       "</style>\n",
       "<table border=\"1\" class=\"dataframe\">\n",
       "  <thead>\n",
       "    <tr style=\"text-align: right;\">\n",
       "      <th></th>\n",
       "      <th>Quarter</th>\n",
       "      <th>Sales</th>\n",
       "      <th>date</th>\n",
       "      <th>year</th>\n",
       "      <th>month</th>\n",
       "      <th>t</th>\n",
       "      <th>t_square</th>\n",
       "      <th>log_sales</th>\n",
       "      <th>Apr</th>\n",
       "      <th>Jan</th>\n",
       "      <th>Jul</th>\n",
       "      <th>Oct</th>\n",
       "      <th>Simple_Average</th>\n",
       "      <th>Moving_Average</th>\n",
       "    </tr>\n",
       "  </thead>\n",
       "  <tbody>\n",
       "    <tr>\n",
       "      <th>0</th>\n",
       "      <td>Q1_86</td>\n",
       "      <td>1734.827000</td>\n",
       "      <td>1986-01-01</td>\n",
       "      <td>1986</td>\n",
       "      <td>Jan</td>\n",
       "      <td>1</td>\n",
       "      <td>1</td>\n",
       "      <td>7.458663</td>\n",
       "      <td>0</td>\n",
       "      <td>1</td>\n",
       "      <td>0</td>\n",
       "      <td>0</td>\n",
       "      <td>0.0</td>\n",
       "      <td>0.0</td>\n",
       "    </tr>\n",
       "    <tr>\n",
       "      <th>1</th>\n",
       "      <td>Q2_86</td>\n",
       "      <td>2244.960999</td>\n",
       "      <td>1986-04-01</td>\n",
       "      <td>1986</td>\n",
       "      <td>Apr</td>\n",
       "      <td>2</td>\n",
       "      <td>4</td>\n",
       "      <td>7.716443</td>\n",
       "      <td>1</td>\n",
       "      <td>0</td>\n",
       "      <td>0</td>\n",
       "      <td>0</td>\n",
       "      <td>1735.0</td>\n",
       "      <td>0.0</td>\n",
       "    </tr>\n",
       "    <tr>\n",
       "      <th>2</th>\n",
       "      <td>Q3_86</td>\n",
       "      <td>2533.804993</td>\n",
       "      <td>1986-07-01</td>\n",
       "      <td>1986</td>\n",
       "      <td>Jul</td>\n",
       "      <td>3</td>\n",
       "      <td>9</td>\n",
       "      <td>7.837477</td>\n",
       "      <td>0</td>\n",
       "      <td>0</td>\n",
       "      <td>1</td>\n",
       "      <td>0</td>\n",
       "      <td>1990.0</td>\n",
       "      <td>2171.0</td>\n",
       "    </tr>\n",
       "    <tr>\n",
       "      <th>3</th>\n",
       "      <td>Q4_86</td>\n",
       "      <td>2154.962997</td>\n",
       "      <td>1986-10-01</td>\n",
       "      <td>1986</td>\n",
       "      <td>Oct</td>\n",
       "      <td>4</td>\n",
       "      <td>16</td>\n",
       "      <td>7.675529</td>\n",
       "      <td>0</td>\n",
       "      <td>0</td>\n",
       "      <td>0</td>\n",
       "      <td>1</td>\n",
       "      <td>2171.0</td>\n",
       "      <td>2311.0</td>\n",
       "    </tr>\n",
       "    <tr>\n",
       "      <th>4</th>\n",
       "      <td>Q1_87</td>\n",
       "      <td>1547.818996</td>\n",
       "      <td>1987-01-01</td>\n",
       "      <td>1987</td>\n",
       "      <td>Jan</td>\n",
       "      <td>5</td>\n",
       "      <td>25</td>\n",
       "      <td>7.344602</td>\n",
       "      <td>0</td>\n",
       "      <td>1</td>\n",
       "      <td>0</td>\n",
       "      <td>0</td>\n",
       "      <td>2167.0</td>\n",
       "      <td>2079.0</td>\n",
       "    </tr>\n",
       "  </tbody>\n",
       "</table>\n",
       "</div>"
      ],
      "text/plain": [
       "  Quarter        Sales       date  year month  t  t_square  log_sales  Apr  \\\n",
       "0   Q1_86  1734.827000 1986-01-01  1986   Jan  1         1   7.458663    0   \n",
       "1   Q2_86  2244.960999 1986-04-01  1986   Apr  2         4   7.716443    1   \n",
       "2   Q3_86  2533.804993 1986-07-01  1986   Jul  3         9   7.837477    0   \n",
       "3   Q4_86  2154.962997 1986-10-01  1986   Oct  4        16   7.675529    0   \n",
       "4   Q1_87  1547.818996 1987-01-01  1987   Jan  5        25   7.344602    0   \n",
       "\n",
       "   Jan  Jul  Oct  Simple_Average  Moving_Average  \n",
       "0    1    0    0             0.0             0.0  \n",
       "1    0    0    0          1735.0             0.0  \n",
       "2    0    1    0          1990.0          2171.0  \n",
       "3    0    0    1          2171.0          2311.0  \n",
       "4    1    0    0          2167.0          2079.0  "
      ]
     },
     "execution_count": 42,
     "metadata": {},
     "output_type": "execute_result"
    }
   ],
   "source": [
    "coca_cola=coca_cola.fillna(0)\n",
    "coca_cola.head()"
   ]
  },
  {
   "cell_type": "code",
   "execution_count": 43,
   "id": "46b1921e",
   "metadata": {},
   "outputs": [
    {
     "data": {
      "text/plain": [
       "530.946"
      ]
     },
     "execution_count": 43,
     "metadata": {},
     "output_type": "execute_result"
    }
   ],
   "source": [
    "rmse_moving_avg=np.round(mean_squared_error(coca_cola.Sales,coca_cola.Moving_Average,squared=False),3)\n",
    "rmse_moving_avg"
   ]
  },
  {
   "cell_type": "markdown",
   "id": "1416b044",
   "metadata": {},
   "source": [
    "### Weighted Moving Average Model"
   ]
  },
  {
   "cell_type": "code",
   "execution_count": 44,
   "id": "4b7688c5",
   "metadata": {},
   "outputs": [],
   "source": [
    "weights=[0.2,0.3,0.5]\n",
    "sum_weights=np.sum(weights)"
   ]
  },
  {
   "cell_type": "code",
   "execution_count": 45,
   "id": "4fbeebad",
   "metadata": {},
   "outputs": [],
   "source": [
    "coca_cola['Weighted_Moving_Average']=coca_cola['Sales'].rolling(3).apply(lambda x : np.sum(x*weights)/sum_weights,).round()"
   ]
  },
  {
   "cell_type": "code",
   "execution_count": 46,
   "id": "4c01452e",
   "metadata": {},
   "outputs": [
    {
     "data": {
      "text/html": [
       "<div>\n",
       "<style scoped>\n",
       "    .dataframe tbody tr th:only-of-type {\n",
       "        vertical-align: middle;\n",
       "    }\n",
       "\n",
       "    .dataframe tbody tr th {\n",
       "        vertical-align: top;\n",
       "    }\n",
       "\n",
       "    .dataframe thead th {\n",
       "        text-align: right;\n",
       "    }\n",
       "</style>\n",
       "<table border=\"1\" class=\"dataframe\">\n",
       "  <thead>\n",
       "    <tr style=\"text-align: right;\">\n",
       "      <th></th>\n",
       "      <th>Quarter</th>\n",
       "      <th>Sales</th>\n",
       "      <th>date</th>\n",
       "      <th>year</th>\n",
       "      <th>month</th>\n",
       "      <th>t</th>\n",
       "      <th>t_square</th>\n",
       "      <th>log_sales</th>\n",
       "      <th>Apr</th>\n",
       "      <th>Jan</th>\n",
       "      <th>Jul</th>\n",
       "      <th>Oct</th>\n",
       "      <th>Simple_Average</th>\n",
       "      <th>Moving_Average</th>\n",
       "      <th>Weighted_Moving_Average</th>\n",
       "    </tr>\n",
       "  </thead>\n",
       "  <tbody>\n",
       "    <tr>\n",
       "      <th>0</th>\n",
       "      <td>Q1_86</td>\n",
       "      <td>1734.827000</td>\n",
       "      <td>1986-01-01</td>\n",
       "      <td>1986</td>\n",
       "      <td>Jan</td>\n",
       "      <td>1</td>\n",
       "      <td>1</td>\n",
       "      <td>7.458663</td>\n",
       "      <td>0</td>\n",
       "      <td>1</td>\n",
       "      <td>0</td>\n",
       "      <td>0</td>\n",
       "      <td>0.0</td>\n",
       "      <td>0.0</td>\n",
       "      <td>0.0</td>\n",
       "    </tr>\n",
       "    <tr>\n",
       "      <th>1</th>\n",
       "      <td>Q2_86</td>\n",
       "      <td>2244.960999</td>\n",
       "      <td>1986-04-01</td>\n",
       "      <td>1986</td>\n",
       "      <td>Apr</td>\n",
       "      <td>2</td>\n",
       "      <td>4</td>\n",
       "      <td>7.716443</td>\n",
       "      <td>1</td>\n",
       "      <td>0</td>\n",
       "      <td>0</td>\n",
       "      <td>0</td>\n",
       "      <td>1735.0</td>\n",
       "      <td>0.0</td>\n",
       "      <td>0.0</td>\n",
       "    </tr>\n",
       "    <tr>\n",
       "      <th>2</th>\n",
       "      <td>Q3_86</td>\n",
       "      <td>2533.804993</td>\n",
       "      <td>1986-07-01</td>\n",
       "      <td>1986</td>\n",
       "      <td>Jul</td>\n",
       "      <td>3</td>\n",
       "      <td>9</td>\n",
       "      <td>7.837477</td>\n",
       "      <td>0</td>\n",
       "      <td>0</td>\n",
       "      <td>1</td>\n",
       "      <td>0</td>\n",
       "      <td>1990.0</td>\n",
       "      <td>2171.0</td>\n",
       "      <td>2287.0</td>\n",
       "    </tr>\n",
       "    <tr>\n",
       "      <th>3</th>\n",
       "      <td>Q4_86</td>\n",
       "      <td>2154.962997</td>\n",
       "      <td>1986-10-01</td>\n",
       "      <td>1986</td>\n",
       "      <td>Oct</td>\n",
       "      <td>4</td>\n",
       "      <td>16</td>\n",
       "      <td>7.675529</td>\n",
       "      <td>0</td>\n",
       "      <td>0</td>\n",
       "      <td>0</td>\n",
       "      <td>1</td>\n",
       "      <td>2171.0</td>\n",
       "      <td>2311.0</td>\n",
       "      <td>2287.0</td>\n",
       "    </tr>\n",
       "    <tr>\n",
       "      <th>4</th>\n",
       "      <td>Q1_87</td>\n",
       "      <td>1547.818996</td>\n",
       "      <td>1987-01-01</td>\n",
       "      <td>1987</td>\n",
       "      <td>Jan</td>\n",
       "      <td>5</td>\n",
       "      <td>25</td>\n",
       "      <td>7.344602</td>\n",
       "      <td>0</td>\n",
       "      <td>1</td>\n",
       "      <td>0</td>\n",
       "      <td>0</td>\n",
       "      <td>2167.0</td>\n",
       "      <td>2079.0</td>\n",
       "      <td>1927.0</td>\n",
       "    </tr>\n",
       "  </tbody>\n",
       "</table>\n",
       "</div>"
      ],
      "text/plain": [
       "  Quarter        Sales       date  year month  t  t_square  log_sales  Apr  \\\n",
       "0   Q1_86  1734.827000 1986-01-01  1986   Jan  1         1   7.458663    0   \n",
       "1   Q2_86  2244.960999 1986-04-01  1986   Apr  2         4   7.716443    1   \n",
       "2   Q3_86  2533.804993 1986-07-01  1986   Jul  3         9   7.837477    0   \n",
       "3   Q4_86  2154.962997 1986-10-01  1986   Oct  4        16   7.675529    0   \n",
       "4   Q1_87  1547.818996 1987-01-01  1987   Jan  5        25   7.344602    0   \n",
       "\n",
       "   Jan  Jul  Oct  Simple_Average  Moving_Average  Weighted_Moving_Average  \n",
       "0    1    0    0             0.0             0.0                      0.0  \n",
       "1    0    0    0          1735.0             0.0                      0.0  \n",
       "2    0    1    0          1990.0          2171.0                   2287.0  \n",
       "3    0    0    1          2171.0          2311.0                   2287.0  \n",
       "4    1    0    0          2167.0          2079.0                   1927.0  "
      ]
     },
     "execution_count": 46,
     "metadata": {},
     "output_type": "execute_result"
    }
   ],
   "source": [
    "coca_cola=coca_cola.fillna(0)\n",
    "coca_cola.head()"
   ]
  },
  {
   "cell_type": "code",
   "execution_count": 47,
   "id": "e89c967c",
   "metadata": {},
   "outputs": [
    {
     "data": {
      "text/plain": [
       "489.651"
      ]
     },
     "execution_count": 47,
     "metadata": {},
     "output_type": "execute_result"
    }
   ],
   "source": [
    "rmse_weighted_moving_avg=np.round(mean_squared_error(coca_cola.Sales,coca_cola.Weighted_Moving_Average,squared=False),3)\n",
    "rmse_weighted_moving_avg"
   ]
  },
  {
   "cell_type": "markdown",
   "id": "37b241ec",
   "metadata": {},
   "source": [
    "#### Simple Average, Moving average, Weighted Moving average calculation done for finding least RMSE, which is Weighted Moving Average amonth these three."
   ]
  },
  {
   "cell_type": "markdown",
   "id": "dc3d1ba6",
   "metadata": {},
   "source": [
    "### Set - 2"
   ]
  },
  {
   "cell_type": "markdown",
   "id": "d0e06582",
   "metadata": {},
   "source": [
    "### Simple Exponential Smoothing Technique"
   ]
  },
  {
   "cell_type": "code",
   "execution_count": 48,
   "id": "b13a99f9",
   "metadata": {},
   "outputs": [
    {
     "data": {
      "text/plain": [
       "1153.703"
      ]
     },
     "execution_count": 48,
     "metadata": {},
     "output_type": "execute_result"
    }
   ],
   "source": [
    "ses=SimpleExpSmoothing(endog=training_data['Sales']).fit(smoothing_level=0.2)\n",
    "\n",
    "pred_ses = ses.predict(start =testing_data.index[0],end=testing_data.index[-1])\n",
    "\n",
    "rmse_ses=np.round(mean_squared_error(testing_data['Sales'],pred_ses,squared=False),3)\n",
    "rmse_ses"
   ]
  },
  {
   "cell_type": "markdown",
   "id": "39ca6f4e",
   "metadata": {},
   "source": [
    "### Holts Technique"
   ]
  },
  {
   "cell_type": "code",
   "execution_count": 49,
   "id": "3fa14321",
   "metadata": {},
   "outputs": [
    {
     "data": {
      "text/plain": [
       "559.52"
      ]
     },
     "execution_count": 49,
     "metadata": {},
     "output_type": "execute_result"
    }
   ],
   "source": [
    "holt=Holt(endog=training_data['Sales']).fit(smoothing_level=0.8,smoothing_slope=0.2)\n",
    "\n",
    "pred_holt = holt.predict(start =testing_data.index[0],end=testing_data.index[-1])\n",
    "\n",
    "rmse_holt=np.round(mean_squared_error(testing_data['Sales'],pred_holt,squared=False),3)\n",
    "rmse_holt"
   ]
  },
  {
   "cell_type": "markdown",
   "id": "75380582",
   "metadata": {},
   "source": [
    "### Winter's Exponential Technique - Additive Seasonality and Additive Trend"
   ]
  },
  {
   "cell_type": "code",
   "execution_count": 50,
   "id": "644f46da",
   "metadata": {},
   "outputs": [
    {
     "data": {
      "text/plain": [
       "417.141"
      ]
     },
     "execution_count": 50,
     "metadata": {},
     "output_type": "execute_result"
    }
   ],
   "source": [
    "winter_add_add=ExponentialSmoothing(endog=training_data['Sales'],seasonal='add',trend='add',seasonal_periods=12).fit()\n",
    "\n",
    "pred_winter_add_add = winter_add_add.predict(start =testing_data.index[0],end=testing_data.index[-1])\n",
    "\n",
    "rmse_winter_add_add=np.round(mean_squared_error(testing_data['Sales'],pred_winter_add_add,squared=False),3)\n",
    "rmse_winter_add_add"
   ]
  },
  {
   "cell_type": "markdown",
   "id": "c287c5d4",
   "metadata": {},
   "source": [
    "### Winter's Exponential Technique - Multiplicative Seasonality and Additive Trend"
   ]
  },
  {
   "cell_type": "code",
   "execution_count": 51,
   "id": "3fefb3a0",
   "metadata": {},
   "outputs": [
    {
     "data": {
      "text/plain": [
       "212.666"
      ]
     },
     "execution_count": 51,
     "metadata": {},
     "output_type": "execute_result"
    }
   ],
   "source": [
    "winter_mul_add=ExponentialSmoothing(endog=training_data['Sales'],seasonal='mul',trend='add',seasonal_periods=12).fit()\n",
    "\n",
    "pred_winter_mul_add = winter_mul_add.predict(start =testing_data.index[0],end=testing_data.index[-1])\n",
    "\n",
    "rmse_winter_mul_add=np.round(mean_squared_error(testing_data['Sales'],pred_winter_mul_add,squared=False),3)\n",
    "rmse_winter_mul_add"
   ]
  },
  {
   "cell_type": "markdown",
   "id": "3a388087",
   "metadata": {},
   "source": [
    "### Compare the Results"
   ]
  },
  {
   "cell_type": "code",
   "execution_count": 52,
   "id": "e048c9c6",
   "metadata": {},
   "outputs": [
    {
     "data": {
      "text/html": [
       "<div>\n",
       "<style scoped>\n",
       "    .dataframe tbody tr th:only-of-type {\n",
       "        vertical-align: middle;\n",
       "    }\n",
       "\n",
       "    .dataframe tbody tr th {\n",
       "        vertical-align: top;\n",
       "    }\n",
       "\n",
       "    .dataframe thead th {\n",
       "        text-align: right;\n",
       "    }\n",
       "</style>\n",
       "<table border=\"1\" class=\"dataframe\">\n",
       "  <thead>\n",
       "    <tr style=\"text-align: right;\">\n",
       "      <th></th>\n",
       "      <th>MODEL</th>\n",
       "      <th>RMSE</th>\n",
       "    </tr>\n",
       "  </thead>\n",
       "  <tbody>\n",
       "    <tr>\n",
       "      <th>3</th>\n",
       "      <td>Winters Exponential Technique - Multiplicative Seasonality and Additive Trend</td>\n",
       "      <td>212.666</td>\n",
       "    </tr>\n",
       "    <tr>\n",
       "      <th>2</th>\n",
       "      <td>Winters Exponential Technique - Additive Seasonality and Additive Trend</td>\n",
       "      <td>417.141</td>\n",
       "    </tr>\n",
       "    <tr>\n",
       "      <th>1</th>\n",
       "      <td>Holts</td>\n",
       "      <td>559.520</td>\n",
       "    </tr>\n",
       "    <tr>\n",
       "      <th>0</th>\n",
       "      <td>Simple Exponential Smoothing</td>\n",
       "      <td>1153.703</td>\n",
       "    </tr>\n",
       "  </tbody>\n",
       "</table>\n",
       "</div>"
      ],
      "text/plain": [
       "                                                                           MODEL  \\\n",
       "3  Winters Exponential Technique - Multiplicative Seasonality and Additive Trend   \n",
       "2        Winters Exponential Technique - Additive Seasonality and Additive Trend   \n",
       "1                                                                          Holts   \n",
       "0                                                   Simple Exponential Smoothing   \n",
       "\n",
       "       RMSE  \n",
       "3   212.666  \n",
       "2   417.141  \n",
       "1   559.520  \n",
       "0  1153.703  "
      ]
     },
     "execution_count": 52,
     "metadata": {},
     "output_type": "execute_result"
    }
   ],
   "source": [
    "pd.set_option('display.max_colwidth',None)\n",
    "Data_Driven_Results = pd.DataFrame(\n",
    "    data={\"MODEL\":pd.Series(['Simple Exponential Smoothing','Holts','Winters Exponential Technique - Additive Seasonality and Additive Trend','Winters Exponential Technique - Multiplicative Seasonality and Additive Trend']),\n",
    "          \"RMSE\":pd.Series([rmse_ses,rmse_holt,rmse_winter_add_add,rmse_winter_mul_add])})\n",
    "Data_Driven_Results.sort_values('RMSE')"
   ]
  },
  {
   "cell_type": "markdown",
   "id": "a020038b",
   "metadata": {},
   "source": [
    "#### From Data Driven Models, We can see that Winters Exponential Technique with Multiplicative Seasonality and Additive Treend has least RMSE"
   ]
  },
  {
   "cell_type": "markdown",
   "id": "565ef713",
   "metadata": {},
   "source": [
    "### Build model for Complete Dataset"
   ]
  },
  {
   "cell_type": "code",
   "execution_count": 53,
   "id": "a205d394",
   "metadata": {},
   "outputs": [
    {
     "data": {
      "text/plain": [
       "42    5216.190079\n",
       "43    4663.475300\n",
       "44    4502.472863\n",
       "45    5731.036391\n",
       "46    5613.076244\n",
       "47    5011.683296\n",
       "dtype: float64"
      ]
     },
     "execution_count": 53,
     "metadata": {},
     "output_type": "execute_result"
    }
   ],
   "source": [
    "winter_mul_add_final=ExponentialSmoothing(endog=coca_cola['Sales'],seasonal='mul',trend='add',seasonal_periods=4).fit()\n",
    "\n",
    "winter_mul_add_final.forecast(6)"
   ]
  },
  {
   "cell_type": "markdown",
   "id": "732052f3",
   "metadata": {},
   "source": [
    "## 3. ARIMA"
   ]
  },
  {
   "cell_type": "markdown",
   "id": "6e7aa3ee",
   "metadata": {},
   "source": [
    "### Evaluate Arima Model"
   ]
  },
  {
   "cell_type": "code",
   "execution_count": 54,
   "id": "73e4ef25",
   "metadata": {},
   "outputs": [],
   "source": [
    "def evaluate_arima_model(X,arima_order):\n",
    "    train_size=int(len(X)*0.5)\n",
    "    train,test = X[0:train_size],X[train_size:]\n",
    "    history = [i for i in train]\n",
    "    predictions = list()\n",
    "    for t in range(0,len(test)):\n",
    "        model = ARIMA(endog =history,order = arima_order).fit(disp=0)\n",
    "        yhat  = model.forecast()[0]\n",
    "        predictions.append(yhat)\n",
    "        history.append(test[t])\n",
    "    RMSE = mean_squared_error(test, predictions,squared=False)\n",
    "    return RMSE"
   ]
  },
  {
   "cell_type": "markdown",
   "id": "41201803",
   "metadata": {},
   "source": [
    "### Grid Search for ARIMA Order"
   ]
  },
  {
   "cell_type": "code",
   "execution_count": 55,
   "id": "cec17572",
   "metadata": {},
   "outputs": [],
   "source": [
    "def evaluate_order(dataset, p_values, q_values, d_values):\n",
    "    dataset = dataset.astype('float32')\n",
    "    best_score,best_order = float('inf'),None\n",
    "    for p in p_values:\n",
    "        for q in q_values:\n",
    "            for d in d_values:\n",
    "                try:\n",
    "                    order = (p,q,d)\n",
    "                    rmse = evaluate_arima_model(dataset,order)\n",
    "                    print(f\"RMSE is {rmse} and Order is {order}\")\n",
    "                    if rmse < best_score:\n",
    "                        best_score,best_order = rmse,order\n",
    "                except:\n",
    "                    continue\n",
    "    print(f\"Best Score is {best_score} and Best Order is {best_order}\")         "
   ]
  },
  {
   "cell_type": "code",
   "execution_count": 56,
   "id": "e60911a5",
   "metadata": {},
   "outputs": [
    {
     "data": {
      "text/plain": [
       "((38,), (4,))"
      ]
     },
     "execution_count": 56,
     "metadata": {},
     "output_type": "execute_result"
    }
   ],
   "source": [
    "data = coca_cola.iloc[:,1]\n",
    "data = data.values\n",
    "train_size=int(len(data)-4)\n",
    "train_data,test_data = data[0:train_size],data[train_size:]\n",
    "train_data.shape,test_data.shape"
   ]
  },
  {
   "cell_type": "code",
   "execution_count": 57,
   "id": "883e912a",
   "metadata": {},
   "outputs": [
    {
     "name": "stdout",
     "output_type": "stream",
     "text": [
      "RMSE is 1150.9663502733831 and Order is (0, 0, 0)\n",
      "RMSE is 820.7838430725903 and Order is (0, 0, 1)\n",
      "RMSE is 495.8444028029956 and Order is (0, 0, 2)\n",
      "RMSE is 654.7613972908835 and Order is (0, 0, 3)\n",
      "RMSE is 479.6469758883936 and Order is (0, 1, 0)\n",
      "RMSE is 454.9745829596855 and Order is (0, 1, 1)\n",
      "RMSE is 428.85001617986035 and Order is (0, 1, 2)\n",
      "RMSE is 395.40945009263595 and Order is (0, 1, 3)\n",
      "RMSE is 681.1780084411721 and Order is (0, 2, 0)\n",
      "RMSE is 498.4336254268276 and Order is (0, 2, 1)\n",
      "RMSE is 445.70560507503143 and Order is (0, 2, 2)\n",
      "RMSE is 430.40924150144485 and Order is (0, 2, 3)\n",
      "RMSE is 540.0408053624047 and Order is (1, 0, 0)\n",
      "RMSE is 478.4642781072046 and Order is (1, 1, 0)\n",
      "RMSE is 690.2466973371651 and Order is (1, 2, 0)\n",
      "RMSE is 553.6719015301569 and Order is (2, 0, 0)\n",
      "RMSE is 359.13230220979494 and Order is (2, 1, 0)\n",
      "RMSE is 348.83973112563166 and Order is (2, 1, 1)\n",
      "RMSE is 589.1994320968996 and Order is (2, 2, 0)\n",
      "RMSE is 443.6200418767692 and Order is (3, 0, 0)\n",
      "RMSE is 268.5020667368097 and Order is (3, 1, 0)\n",
      "RMSE is 190.7566193042017 and Order is (3, 2, 0)\n",
      "Best Score is 190.7566193042017 and Best Order is (3, 2, 0)\n"
     ]
    }
   ],
   "source": [
    "p_values = range(0,4)\n",
    "q_values = range(0,4)\n",
    "d_values = range(0,4)\n",
    "warnings.filterwarnings('ignore')\n",
    "evaluate_order(train_data,p_values, q_values, d_values)"
   ]
  },
  {
   "cell_type": "markdown",
   "id": "5adfa3b5",
   "metadata": {},
   "source": [
    "### Build Model based on Optimum Arima Order"
   ]
  },
  {
   "cell_type": "code",
   "execution_count": 58,
   "id": "43fcd824",
   "metadata": {},
   "outputs": [],
   "source": [
    "model_final = ARIMA(train_data,(3, 2, 0)).fit()"
   ]
  },
  {
   "cell_type": "code",
   "execution_count": 59,
   "id": "5df6bb5a",
   "metadata": {},
   "outputs": [
    {
     "data": {
      "text/plain": [
       "array([5080., 4657., 4568., 5624.])"
      ]
     },
     "execution_count": 59,
     "metadata": {},
     "output_type": "execute_result"
    }
   ],
   "source": [
    "forecast=model_final.forecast(4)[0].round()\n",
    "forecast"
   ]
  },
  {
   "cell_type": "code",
   "execution_count": 60,
   "id": "55f48fda",
   "metadata": {},
   "outputs": [
    {
     "data": {
      "text/plain": [
       "array([4895., 4333., 4194., 5253.])"
      ]
     },
     "execution_count": 60,
     "metadata": {},
     "output_type": "execute_result"
    }
   ],
   "source": [
    "test_data"
   ]
  },
  {
   "cell_type": "code",
   "execution_count": 61,
   "id": "01b33ab1",
   "metadata": {},
   "outputs": [
    {
     "data": {
      "image/png": "[encoded data removed]",
      "text/plain": [
       "<Figure size 720x432 with 1 Axes>"
      ]
     },
     "metadata": {
      "needs_background": "light"
     },
     "output_type": "display_data"
    }
   ],
   "source": [
    "fig=model_final.plot_predict()\n",
    "fig.set_size_inches(10,6)\n",
    "plt.show()"
   ]
  },
  {
   "cell_type": "code",
   "execution_count": 62,
   "id": "2d171de3",
   "metadata": {},
   "outputs": [
    {
     "data": {
      "text/plain": [
       "323.0"
      ]
     },
     "execution_count": 62,
     "metadata": {},
     "output_type": "execute_result"
    }
   ],
   "source": [
    "RMSE_Optimum = np.round(mean_squared_error(test_data,forecast,squared=False))\n",
    "RMSE_Optimum"
   ]
  },
  {
   "cell_type": "markdown",
   "id": "aa571b8c",
   "metadata": {},
   "source": [
    "#### RMSE by ARIMA Model is 323"
   ]
  },
  {
   "cell_type": "markdown",
   "id": "f4899fe6",
   "metadata": {},
   "source": [
    "### Evaluate for complete dataset"
   ]
  },
  {
   "cell_type": "code",
   "execution_count": 63,
   "id": "0eb73d7f",
   "metadata": {},
   "outputs": [],
   "source": [
    "model_final_full_dataset = ARIMA(data,(3, 2, 0)).fit()"
   ]
  },
  {
   "cell_type": "code",
   "execution_count": 64,
   "id": "6a8248f8",
   "metadata": {},
   "outputs": [
    {
     "data": {
      "text/plain": [
       "array([5208., 4658., 4597., 5622.])"
      ]
     },
     "execution_count": 64,
     "metadata": {},
     "output_type": "execute_result"
    }
   ],
   "source": [
    "forecast=model_final_full_dataset.forecast(4)[0].round()\n",
    "forecast"
   ]
  },
  {
   "cell_type": "code",
   "execution_count": 65,
   "id": "60744dcd",
   "metadata": {},
   "outputs": [
    {
     "data": {
      "image/png": "[encoded data removed]",
      "text/plain": [
       "<Figure size 720x432 with 1 Axes>"
      ]
     },
     "metadata": {
      "needs_background": "light"
     },
     "output_type": "display_data"
    }
   ],
   "source": [
    "fig=model_final_full_dataset.plot_predict(2,46)\n",
    "fig.set_size_inches(10,6)\n",
    "plt.show()"
   ]
  },
  {
   "cell_type": "markdown",
   "id": "13ec191a",
   "metadata": {},
   "source": [
    "### Comparing to all Models, we can observe that Winters Exponential Technique - Multiplicative Seasonality and Additive Trend Model gives Least RMSE value, followed by ARIMA Model with order (3, 2, 0)"
   ]
  },
  {
   "cell_type": "markdown",
   "id": "ed0deeb5",
   "metadata": {},
   "source": [
    "### End !!!"
   ]
  }
 ],
 "metadata": {
  "kernelspec": {
   "display_name": "Python 3 (ipykernel)",
   "language": "python",
   "name": "python3"
  },
  "language_info": {
   "codemirror_mode": {
    "name": "ipython",
    "version": 3
   },
   "file_extension": ".py",
   "mimetype": "text/x-python",
   "name": "python",
   "nbconvert_exporter": "python",
   "pygments_lexer": "ipython3",
   "version": "3.9.7"
  }
 },
 "nbformat": 4,
 "nbformat_minor": 5
}
