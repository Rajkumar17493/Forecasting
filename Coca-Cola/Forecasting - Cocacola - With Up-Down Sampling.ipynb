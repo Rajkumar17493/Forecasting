{
 "cells": [
  {
   "cell_type": "markdown",
   "id": "a7d58ace",
   "metadata": {},
   "source": [
    "### Problem Statement\n",
    "\n",
    "Forecast the CocaCola prices data set. Prepare a document for each model explaining \n",
    "how many dummy variables you have created and RMSE value for each model. Finally which model you will use for \n",
    "Forecasting."
   ]
  },
  {
   "cell_type": "markdown",
   "id": "fe71f57e",
   "metadata": {},
   "source": [
    "### Import Libraries"
   ]
  },
  {
   "cell_type": "code",
   "execution_count": 1,
   "id": "66fa7f27",
   "metadata": {},
   "outputs": [],
   "source": [
    "import pandas as pd\n",
    "import numpy as np\n",
    "import seaborn as sns\n",
    "import matplotlib.pyplot as plt\n",
    "%matplotlib inline\n",
    "\n",
    "import statsmodels.formula.api as smf\n",
    "from sklearn.metrics import mean_squared_error\n",
    "\n",
    "from statsmodels.tsa.seasonal import seasonal_decompose\n",
    "from statsmodels.tsa.holtwinters import SimpleExpSmoothing,Holt,ExponentialSmoothing\n",
    "from statsmodels.tsa.arima_model import ARIMA\n",
    "\n",
    "import warnings\n",
    "warnings.filterwarnings('ignore')"
   ]
  },
  {
   "cell_type": "markdown",
   "id": "1a931d8e",
   "metadata": {},
   "source": [
    "### Import Data"
   ]
  },
  {
   "cell_type": "code",
   "execution_count": 2,
   "id": "78df0dac",
   "metadata": {
    "scrolled": true
   },
   "outputs": [
    {
     "data": {
      "text/html": [
       "<div>\n",
       "<style scoped>\n",
       "    .dataframe tbody tr th:only-of-type {\n",
       "        vertical-align: middle;\n",
       "    }\n",
       "\n",
       "    .dataframe tbody tr th {\n",
       "        vertical-align: top;\n",
       "    }\n",
       "\n",
       "    .dataframe thead th {\n",
       "        text-align: right;\n",
       "    }\n",
       "</style>\n",
       "<table border=\"1\" class=\"dataframe\">\n",
       "  <thead>\n",
       "    <tr style=\"text-align: right;\">\n",
       "      <th></th>\n",
       "      <th>Quarter</th>\n",
       "      <th>Sales</th>\n",
       "    </tr>\n",
       "  </thead>\n",
       "  <tbody>\n",
       "    <tr>\n",
       "      <th>37</th>\n",
       "      <td>Q2_95</td>\n",
       "      <td>4936.0</td>\n",
       "    </tr>\n",
       "    <tr>\n",
       "      <th>38</th>\n",
       "      <td>Q3_95</td>\n",
       "      <td>4895.0</td>\n",
       "    </tr>\n",
       "    <tr>\n",
       "      <th>39</th>\n",
       "      <td>Q4_95</td>\n",
       "      <td>4333.0</td>\n",
       "    </tr>\n",
       "    <tr>\n",
       "      <th>40</th>\n",
       "      <td>Q1_96</td>\n",
       "      <td>4194.0</td>\n",
       "    </tr>\n",
       "    <tr>\n",
       "      <th>41</th>\n",
       "      <td>Q2_96</td>\n",
       "      <td>5253.0</td>\n",
       "    </tr>\n",
       "  </tbody>\n",
       "</table>\n",
       "</div>"
      ],
      "text/plain": [
       "   Quarter   Sales\n",
       "37   Q2_95  4936.0\n",
       "38   Q3_95  4895.0\n",
       "39   Q4_95  4333.0\n",
       "40   Q1_96  4194.0\n",
       "41   Q2_96  5253.0"
      ]
     },
     "execution_count": 2,
     "metadata": {},
     "output_type": "execute_result"
    }
   ],
   "source": [
    "coca_cola=pd.read_excel('CocaCola_Sales_Rawdata.xlsx')\n",
    "coca_cola.tail()"
   ]
  },
  {
   "cell_type": "markdown",
   "id": "9bc8c68b",
   "metadata": {},
   "source": [
    "### Data Understanding"
   ]
  },
  {
   "cell_type": "code",
   "execution_count": 3,
   "id": "e2b77a3e",
   "metadata": {},
   "outputs": [
    {
     "data": {
      "text/plain": [
       "(42, 2)"
      ]
     },
     "execution_count": 3,
     "metadata": {},
     "output_type": "execute_result"
    }
   ],
   "source": [
    "coca_cola.shape"
   ]
  },
  {
   "cell_type": "code",
   "execution_count": 4,
   "id": "cf4ab3a6",
   "metadata": {},
   "outputs": [
    {
     "data": {
      "text/plain": [
       "Quarter    0\n",
       "Sales      0\n",
       "dtype: int64"
      ]
     },
     "execution_count": 4,
     "metadata": {},
     "output_type": "execute_result"
    }
   ],
   "source": [
    "coca_cola.isna().sum()"
   ]
  },
  {
   "cell_type": "code",
   "execution_count": 5,
   "id": "875e12ca",
   "metadata": {
    "scrolled": true
   },
   "outputs": [
    {
     "data": {
      "text/plain": [
       "Quarter     object\n",
       "Sales      float64\n",
       "dtype: object"
      ]
     },
     "execution_count": 5,
     "metadata": {},
     "output_type": "execute_result"
    }
   ],
   "source": [
    "coca_cola.dtypes"
   ]
  },
  {
   "cell_type": "code",
   "execution_count": 6,
   "id": "4e96f75d",
   "metadata": {},
   "outputs": [
    {
     "data": {
      "text/html": [
       "<div>\n",
       "<style scoped>\n",
       "    .dataframe tbody tr th:only-of-type {\n",
       "        vertical-align: middle;\n",
       "    }\n",
       "\n",
       "    .dataframe tbody tr th {\n",
       "        vertical-align: top;\n",
       "    }\n",
       "\n",
       "    .dataframe thead th {\n",
       "        text-align: right;\n",
       "    }\n",
       "</style>\n",
       "<table border=\"1\" class=\"dataframe\">\n",
       "  <thead>\n",
       "    <tr style=\"text-align: right;\">\n",
       "      <th></th>\n",
       "      <th>Quarter</th>\n",
       "      <th>Sales</th>\n",
       "    </tr>\n",
       "  </thead>\n",
       "  <tbody>\n",
       "  </tbody>\n",
       "</table>\n",
       "</div>"
      ],
      "text/plain": [
       "Empty DataFrame\n",
       "Columns: [Quarter, Sales]\n",
       "Index: []"
      ]
     },
     "execution_count": 6,
     "metadata": {},
     "output_type": "execute_result"
    }
   ],
   "source": [
    "coca_cola[coca_cola.duplicated()]"
   ]
  },
  {
   "cell_type": "markdown",
   "id": "b251b4ac",
   "metadata": {},
   "source": [
    "### Data Preparation"
   ]
  },
  {
   "cell_type": "code",
   "execution_count": 7,
   "id": "4efe451a",
   "metadata": {
    "scrolled": true
   },
   "outputs": [
    {
     "data": {
      "text/html": [
       "<div>\n",
       "<style scoped>\n",
       "    .dataframe tbody tr th:only-of-type {\n",
       "        vertical-align: middle;\n",
       "    }\n",
       "\n",
       "    .dataframe tbody tr th {\n",
       "        vertical-align: top;\n",
       "    }\n",
       "\n",
       "    .dataframe thead th {\n",
       "        text-align: right;\n",
       "    }\n",
       "</style>\n",
       "<table border=\"1\" class=\"dataframe\">\n",
       "  <thead>\n",
       "    <tr style=\"text-align: right;\">\n",
       "      <th></th>\n",
       "      <th>Quarter</th>\n",
       "      <th>Sales</th>\n",
       "    </tr>\n",
       "  </thead>\n",
       "  <tbody>\n",
       "    <tr>\n",
       "      <th>0</th>\n",
       "      <td>Q1_86</td>\n",
       "      <td>1734.827000</td>\n",
       "    </tr>\n",
       "    <tr>\n",
       "      <th>1</th>\n",
       "      <td>Q2_86</td>\n",
       "      <td>2244.960999</td>\n",
       "    </tr>\n",
       "    <tr>\n",
       "      <th>2</th>\n",
       "      <td>Q3_86</td>\n",
       "      <td>2533.804993</td>\n",
       "    </tr>\n",
       "    <tr>\n",
       "      <th>3</th>\n",
       "      <td>Q4_86</td>\n",
       "      <td>2154.962997</td>\n",
       "    </tr>\n",
       "    <tr>\n",
       "      <th>4</th>\n",
       "      <td>Q1_87</td>\n",
       "      <td>1547.818996</td>\n",
       "    </tr>\n",
       "  </tbody>\n",
       "</table>\n",
       "</div>"
      ],
      "text/plain": [
       "  Quarter        Sales\n",
       "0   Q1_86  1734.827000\n",
       "1   Q2_86  2244.960999\n",
       "2   Q3_86  2533.804993\n",
       "3   Q4_86  2154.962997\n",
       "4   Q1_87  1547.818996"
      ]
     },
     "execution_count": 7,
     "metadata": {},
     "output_type": "execute_result"
    }
   ],
   "source": [
    "coca_cola.head()"
   ]
  },
  {
   "cell_type": "code",
   "execution_count": 8,
   "id": "cf52e66d",
   "metadata": {},
   "outputs": [
    {
     "data": {
      "text/html": [
       "<div>\n",
       "<style scoped>\n",
       "    .dataframe tbody tr th:only-of-type {\n",
       "        vertical-align: middle;\n",
       "    }\n",
       "\n",
       "    .dataframe tbody tr th {\n",
       "        vertical-align: top;\n",
       "    }\n",
       "\n",
       "    .dataframe thead th {\n",
       "        text-align: right;\n",
       "    }\n",
       "</style>\n",
       "<table border=\"1\" class=\"dataframe\">\n",
       "  <thead>\n",
       "    <tr style=\"text-align: right;\">\n",
       "      <th></th>\n",
       "      <th>Quarter</th>\n",
       "      <th>Sales</th>\n",
       "      <th>date</th>\n",
       "    </tr>\n",
       "  </thead>\n",
       "  <tbody>\n",
       "    <tr>\n",
       "      <th>0</th>\n",
       "      <td>Q1_86</td>\n",
       "      <td>1734.827000</td>\n",
       "      <td>1986-01-01</td>\n",
       "    </tr>\n",
       "    <tr>\n",
       "      <th>1</th>\n",
       "      <td>Q2_86</td>\n",
       "      <td>2244.960999</td>\n",
       "      <td>1986-04-01</td>\n",
       "    </tr>\n",
       "    <tr>\n",
       "      <th>2</th>\n",
       "      <td>Q3_86</td>\n",
       "      <td>2533.804993</td>\n",
       "      <td>1986-07-01</td>\n",
       "    </tr>\n",
       "    <tr>\n",
       "      <th>3</th>\n",
       "      <td>Q4_86</td>\n",
       "      <td>2154.962997</td>\n",
       "      <td>1986-10-01</td>\n",
       "    </tr>\n",
       "    <tr>\n",
       "      <th>4</th>\n",
       "      <td>Q1_87</td>\n",
       "      <td>1547.818996</td>\n",
       "      <td>1987-01-01</td>\n",
       "    </tr>\n",
       "  </tbody>\n",
       "</table>\n",
       "</div>"
      ],
      "text/plain": [
       "  Quarter        Sales       date\n",
       "0   Q1_86  1734.827000 1986-01-01\n",
       "1   Q2_86  2244.960999 1986-04-01\n",
       "2   Q3_86  2533.804993 1986-07-01\n",
       "3   Q4_86  2154.962997 1986-10-01\n",
       "4   Q1_87  1547.818996 1987-01-01"
      ]
     },
     "execution_count": 8,
     "metadata": {},
     "output_type": "execute_result"
    }
   ],
   "source": [
    "coca_cola['date']=pd.to_datetime(['19'+x[3:5]+'-'+x[:2] for x in coca_cola['Quarter']])\n",
    "coca_cola.head()"
   ]
  },
  {
   "cell_type": "code",
   "execution_count": 9,
   "id": "f21da219",
   "metadata": {},
   "outputs": [
    {
     "data": {
      "text/html": [
       "<div>\n",
       "<style scoped>\n",
       "    .dataframe tbody tr th:only-of-type {\n",
       "        vertical-align: middle;\n",
       "    }\n",
       "\n",
       "    .dataframe tbody tr th {\n",
       "        vertical-align: top;\n",
       "    }\n",
       "\n",
       "    .dataframe thead th {\n",
       "        text-align: right;\n",
       "    }\n",
       "</style>\n",
       "<table border=\"1\" class=\"dataframe\">\n",
       "  <thead>\n",
       "    <tr style=\"text-align: right;\">\n",
       "      <th></th>\n",
       "      <th>Sales</th>\n",
       "    </tr>\n",
       "    <tr>\n",
       "      <th>date</th>\n",
       "      <th></th>\n",
       "    </tr>\n",
       "  </thead>\n",
       "  <tbody>\n",
       "    <tr>\n",
       "      <th>1986-01-01</th>\n",
       "      <td>1734.827000</td>\n",
       "    </tr>\n",
       "    <tr>\n",
       "      <th>1986-04-01</th>\n",
       "      <td>2244.960999</td>\n",
       "    </tr>\n",
       "    <tr>\n",
       "      <th>1986-07-01</th>\n",
       "      <td>2533.804993</td>\n",
       "    </tr>\n",
       "    <tr>\n",
       "      <th>1986-10-01</th>\n",
       "      <td>2154.962997</td>\n",
       "    </tr>\n",
       "    <tr>\n",
       "      <th>1987-01-01</th>\n",
       "      <td>1547.818996</td>\n",
       "    </tr>\n",
       "  </tbody>\n",
       "</table>\n",
       "</div>"
      ],
      "text/plain": [
       "                  Sales\n",
       "date                   \n",
       "1986-01-01  1734.827000\n",
       "1986-04-01  2244.960999\n",
       "1986-07-01  2533.804993\n",
       "1986-10-01  2154.962997\n",
       "1987-01-01  1547.818996"
      ]
     },
     "execution_count": 9,
     "metadata": {},
     "output_type": "execute_result"
    }
   ],
   "source": [
    "coca_cola_test = coca_cola[['Sales','date']]\n",
    "coca_cola_test=coca_cola_test.set_index('date')\n",
    "coca_cola_test.head()"
   ]
  },
  {
   "cell_type": "code",
   "execution_count": 10,
   "id": "adcfc78b",
   "metadata": {},
   "outputs": [
    {
     "data": {
      "text/html": [
       "<div>\n",
       "<style scoped>\n",
       "    .dataframe tbody tr th:only-of-type {\n",
       "        vertical-align: middle;\n",
       "    }\n",
       "\n",
       "    .dataframe tbody tr th {\n",
       "        vertical-align: top;\n",
       "    }\n",
       "\n",
       "    .dataframe thead th {\n",
       "        text-align: right;\n",
       "    }\n",
       "</style>\n",
       "<table border=\"1\" class=\"dataframe\">\n",
       "  <thead>\n",
       "    <tr style=\"text-align: right;\">\n",
       "      <th></th>\n",
       "      <th>Sales</th>\n",
       "    </tr>\n",
       "    <tr>\n",
       "      <th>date</th>\n",
       "      <th></th>\n",
       "    </tr>\n",
       "  </thead>\n",
       "  <tbody>\n",
       "    <tr>\n",
       "      <th>1986-01-05</th>\n",
       "      <td>1734.827</td>\n",
       "    </tr>\n",
       "    <tr>\n",
       "      <th>1986-01-12</th>\n",
       "      <td>NaN</td>\n",
       "    </tr>\n",
       "    <tr>\n",
       "      <th>1986-01-19</th>\n",
       "      <td>NaN</td>\n",
       "    </tr>\n",
       "    <tr>\n",
       "      <th>1986-01-26</th>\n",
       "      <td>NaN</td>\n",
       "    </tr>\n",
       "    <tr>\n",
       "      <th>1986-02-02</th>\n",
       "      <td>NaN</td>\n",
       "    </tr>\n",
       "  </tbody>\n",
       "</table>\n",
       "</div>"
      ],
      "text/plain": [
       "               Sales\n",
       "date                \n",
       "1986-01-05  1734.827\n",
       "1986-01-12       NaN\n",
       "1986-01-19       NaN\n",
       "1986-01-26       NaN\n",
       "1986-02-02       NaN"
      ]
     },
     "execution_count": 10,
     "metadata": {},
     "output_type": "execute_result"
    }
   ],
   "source": [
    "weekly_sales=coca_cola_test.resample('W').mean()\n",
    "weekly_sales.head()"
   ]
  },
  {
   "cell_type": "code",
   "execution_count": 11,
   "id": "9bc99593",
   "metadata": {},
   "outputs": [
    {
     "data": {
      "text/html": [
       "<div>\n",
       "<style scoped>\n",
       "    .dataframe tbody tr th:only-of-type {\n",
       "        vertical-align: middle;\n",
       "    }\n",
       "\n",
       "    .dataframe tbody tr th {\n",
       "        vertical-align: top;\n",
       "    }\n",
       "\n",
       "    .dataframe thead th {\n",
       "        text-align: right;\n",
       "    }\n",
       "</style>\n",
       "<table border=\"1\" class=\"dataframe\">\n",
       "  <thead>\n",
       "    <tr style=\"text-align: right;\">\n",
       "      <th></th>\n",
       "      <th>Sales</th>\n",
       "    </tr>\n",
       "    <tr>\n",
       "      <th>date</th>\n",
       "      <th></th>\n",
       "    </tr>\n",
       "  </thead>\n",
       "  <tbody>\n",
       "    <tr>\n",
       "      <th>1986-01-05</th>\n",
       "      <td>1735.0</td>\n",
       "    </tr>\n",
       "    <tr>\n",
       "      <th>1986-01-12</th>\n",
       "      <td>1774.0</td>\n",
       "    </tr>\n",
       "    <tr>\n",
       "      <th>1986-01-19</th>\n",
       "      <td>1813.0</td>\n",
       "    </tr>\n",
       "    <tr>\n",
       "      <th>1986-01-26</th>\n",
       "      <td>1853.0</td>\n",
       "    </tr>\n",
       "    <tr>\n",
       "      <th>1986-02-02</th>\n",
       "      <td>1892.0</td>\n",
       "    </tr>\n",
       "  </tbody>\n",
       "</table>\n",
       "</div>"
      ],
      "text/plain": [
       "             Sales\n",
       "date              \n",
       "1986-01-05  1735.0\n",
       "1986-01-12  1774.0\n",
       "1986-01-19  1813.0\n",
       "1986-01-26  1853.0\n",
       "1986-02-02  1892.0"
      ]
     },
     "execution_count": 11,
     "metadata": {},
     "output_type": "execute_result"
    }
   ],
   "source": [
    "sales_interpolate=weekly_sales.interpolate(method='linear').round()\n",
    "sales_interpolate.head()"
   ]
  },
  {
   "cell_type": "code",
   "execution_count": 12,
   "id": "6c0d5b0a",
   "metadata": {},
   "outputs": [
    {
     "data": {
      "text/html": [
       "<div>\n",
       "<style scoped>\n",
       "    .dataframe tbody tr th:only-of-type {\n",
       "        vertical-align: middle;\n",
       "    }\n",
       "\n",
       "    .dataframe tbody tr th {\n",
       "        vertical-align: top;\n",
       "    }\n",
       "\n",
       "    .dataframe thead th {\n",
       "        text-align: right;\n",
       "    }\n",
       "</style>\n",
       "<table border=\"1\" class=\"dataframe\">\n",
       "  <thead>\n",
       "    <tr style=\"text-align: right;\">\n",
       "      <th></th>\n",
       "      <th>Sales</th>\n",
       "    </tr>\n",
       "    <tr>\n",
       "      <th>date</th>\n",
       "      <th></th>\n",
       "    </tr>\n",
       "  </thead>\n",
       "  <tbody>\n",
       "    <tr>\n",
       "      <th>1986-01-31</th>\n",
       "      <td>1793.75</td>\n",
       "    </tr>\n",
       "    <tr>\n",
       "      <th>1986-02-28</th>\n",
       "      <td>1950.75</td>\n",
       "    </tr>\n",
       "    <tr>\n",
       "      <th>1986-03-31</th>\n",
       "      <td>2127.20</td>\n",
       "    </tr>\n",
       "    <tr>\n",
       "      <th>1986-04-30</th>\n",
       "      <td>2278.25</td>\n",
       "    </tr>\n",
       "    <tr>\n",
       "      <th>1986-05-31</th>\n",
       "      <td>2367.00</td>\n",
       "    </tr>\n",
       "  </tbody>\n",
       "</table>\n",
       "</div>"
      ],
      "text/plain": [
       "              Sales\n",
       "date               \n",
       "1986-01-31  1793.75\n",
       "1986-02-28  1950.75\n",
       "1986-03-31  2127.20\n",
       "1986-04-30  2278.25\n",
       "1986-05-31  2367.00"
      ]
     },
     "execution_count": 12,
     "metadata": {},
     "output_type": "execute_result"
    }
   ],
   "source": [
    "monthly_sales=sales_interpolate.resample('M').mean()\n",
    "monthly_sales.head()"
   ]
  },
  {
   "cell_type": "code",
   "execution_count": 13,
   "id": "c2e416ea",
   "metadata": {},
   "outputs": [
    {
     "data": {
      "text/plain": [
       "(124, 1)"
      ]
     },
     "execution_count": 13,
     "metadata": {},
     "output_type": "execute_result"
    }
   ],
   "source": [
    "monthly_sales.shape"
   ]
  },
  {
   "cell_type": "code",
   "execution_count": 14,
   "id": "979c4c0c",
   "metadata": {},
   "outputs": [
    {
     "data": {
      "image/png": "[encoded data removed]",
      "text/plain": [
       "<Figure size 1080x360 with 1 Axes>"
      ]
     },
     "metadata": {
      "needs_background": "light"
     },
     "output_type": "display_data"
    }
   ],
   "source": [
    "monthly_sales.plot(figsize = (15,5))\n",
    "plt.show()"
   ]
  },
  {
   "cell_type": "code",
   "execution_count": 15,
   "id": "cd0d47c2",
   "metadata": {},
   "outputs": [
    {
     "data": {
      "text/html": [
       "<div>\n",
       "<style scoped>\n",
       "    .dataframe tbody tr th:only-of-type {\n",
       "        vertical-align: middle;\n",
       "    }\n",
       "\n",
       "    .dataframe tbody tr th {\n",
       "        vertical-align: top;\n",
       "    }\n",
       "\n",
       "    .dataframe thead th {\n",
       "        text-align: right;\n",
       "    }\n",
       "</style>\n",
       "<table border=\"1\" class=\"dataframe\">\n",
       "  <thead>\n",
       "    <tr style=\"text-align: right;\">\n",
       "      <th></th>\n",
       "      <th>Sales</th>\n",
       "      <th>date</th>\n",
       "    </tr>\n",
       "    <tr>\n",
       "      <th>date</th>\n",
       "      <th></th>\n",
       "      <th></th>\n",
       "    </tr>\n",
       "  </thead>\n",
       "  <tbody>\n",
       "    <tr>\n",
       "      <th>1986-01-31</th>\n",
       "      <td>1793.75</td>\n",
       "      <td>1986-01-31</td>\n",
       "    </tr>\n",
       "    <tr>\n",
       "      <th>1986-02-28</th>\n",
       "      <td>1950.75</td>\n",
       "      <td>1986-02-28</td>\n",
       "    </tr>\n",
       "    <tr>\n",
       "      <th>1986-03-31</th>\n",
       "      <td>2127.20</td>\n",
       "      <td>1986-03-31</td>\n",
       "    </tr>\n",
       "    <tr>\n",
       "      <th>1986-04-30</th>\n",
       "      <td>2278.25</td>\n",
       "      <td>1986-04-30</td>\n",
       "    </tr>\n",
       "    <tr>\n",
       "      <th>1986-05-31</th>\n",
       "      <td>2367.00</td>\n",
       "      <td>1986-05-31</td>\n",
       "    </tr>\n",
       "  </tbody>\n",
       "</table>\n",
       "</div>"
      ],
      "text/plain": [
       "              Sales       date\n",
       "date                          \n",
       "1986-01-31  1793.75 1986-01-31\n",
       "1986-02-28  1950.75 1986-02-28\n",
       "1986-03-31  2127.20 1986-03-31\n",
       "1986-04-30  2278.25 1986-04-30\n",
       "1986-05-31  2367.00 1986-05-31"
      ]
     },
     "execution_count": 15,
     "metadata": {},
     "output_type": "execute_result"
    }
   ],
   "source": [
    "monthly_sales['date']=monthly_sales.index\n",
    "monthly_sales.head()"
   ]
  },
  {
   "cell_type": "code",
   "execution_count": 16,
   "id": "caf2c669",
   "metadata": {},
   "outputs": [
    {
     "data": {
      "text/html": [
       "<div>\n",
       "<style scoped>\n",
       "    .dataframe tbody tr th:only-of-type {\n",
       "        vertical-align: middle;\n",
       "    }\n",
       "\n",
       "    .dataframe tbody tr th {\n",
       "        vertical-align: top;\n",
       "    }\n",
       "\n",
       "    .dataframe thead th {\n",
       "        text-align: right;\n",
       "    }\n",
       "</style>\n",
       "<table border=\"1\" class=\"dataframe\">\n",
       "  <thead>\n",
       "    <tr style=\"text-align: right;\">\n",
       "      <th></th>\n",
       "      <th>Sales</th>\n",
       "      <th>date</th>\n",
       "    </tr>\n",
       "  </thead>\n",
       "  <tbody>\n",
       "    <tr>\n",
       "      <th>0</th>\n",
       "      <td>1793.75</td>\n",
       "      <td>1986-01-31</td>\n",
       "    </tr>\n",
       "    <tr>\n",
       "      <th>1</th>\n",
       "      <td>1950.75</td>\n",
       "      <td>1986-02-28</td>\n",
       "    </tr>\n",
       "    <tr>\n",
       "      <th>2</th>\n",
       "      <td>2127.20</td>\n",
       "      <td>1986-03-31</td>\n",
       "    </tr>\n",
       "    <tr>\n",
       "      <th>3</th>\n",
       "      <td>2278.25</td>\n",
       "      <td>1986-04-30</td>\n",
       "    </tr>\n",
       "    <tr>\n",
       "      <th>4</th>\n",
       "      <td>2367.00</td>\n",
       "      <td>1986-05-31</td>\n",
       "    </tr>\n",
       "  </tbody>\n",
       "</table>\n",
       "</div>"
      ],
      "text/plain": [
       "     Sales       date\n",
       "0  1793.75 1986-01-31\n",
       "1  1950.75 1986-02-28\n",
       "2  2127.20 1986-03-31\n",
       "3  2278.25 1986-04-30\n",
       "4  2367.00 1986-05-31"
      ]
     },
     "execution_count": 16,
     "metadata": {},
     "output_type": "execute_result"
    }
   ],
   "source": [
    "monthly_sales=monthly_sales.reset_index(drop=True)\n",
    "monthly_sales.head()"
   ]
  },
  {
   "cell_type": "code",
   "execution_count": 17,
   "id": "4f4b35e1",
   "metadata": {},
   "outputs": [
    {
     "data": {
      "text/html": [
       "<div>\n",
       "<style scoped>\n",
       "    .dataframe tbody tr th:only-of-type {\n",
       "        vertical-align: middle;\n",
       "    }\n",
       "\n",
       "    .dataframe tbody tr th {\n",
       "        vertical-align: top;\n",
       "    }\n",
       "\n",
       "    .dataframe thead th {\n",
       "        text-align: right;\n",
       "    }\n",
       "</style>\n",
       "<table border=\"1\" class=\"dataframe\">\n",
       "  <thead>\n",
       "    <tr style=\"text-align: right;\">\n",
       "      <th></th>\n",
       "      <th>Sales</th>\n",
       "      <th>date</th>\n",
       "      <th>year</th>\n",
       "      <th>month</th>\n",
       "    </tr>\n",
       "  </thead>\n",
       "  <tbody>\n",
       "    <tr>\n",
       "      <th>0</th>\n",
       "      <td>1793.75</td>\n",
       "      <td>1986-01-31</td>\n",
       "      <td>1986</td>\n",
       "      <td>Jan</td>\n",
       "    </tr>\n",
       "    <tr>\n",
       "      <th>1</th>\n",
       "      <td>1950.75</td>\n",
       "      <td>1986-02-28</td>\n",
       "      <td>1986</td>\n",
       "      <td>Feb</td>\n",
       "    </tr>\n",
       "    <tr>\n",
       "      <th>2</th>\n",
       "      <td>2127.20</td>\n",
       "      <td>1986-03-31</td>\n",
       "      <td>1986</td>\n",
       "      <td>Mar</td>\n",
       "    </tr>\n",
       "    <tr>\n",
       "      <th>3</th>\n",
       "      <td>2278.25</td>\n",
       "      <td>1986-04-30</td>\n",
       "      <td>1986</td>\n",
       "      <td>Apr</td>\n",
       "    </tr>\n",
       "    <tr>\n",
       "      <th>4</th>\n",
       "      <td>2367.00</td>\n",
       "      <td>1986-05-31</td>\n",
       "      <td>1986</td>\n",
       "      <td>May</td>\n",
       "    </tr>\n",
       "  </tbody>\n",
       "</table>\n",
       "</div>"
      ],
      "text/plain": [
       "     Sales       date  year month\n",
       "0  1793.75 1986-01-31  1986   Jan\n",
       "1  1950.75 1986-02-28  1986   Feb\n",
       "2  2127.20 1986-03-31  1986   Mar\n",
       "3  2278.25 1986-04-30  1986   Apr\n",
       "4  2367.00 1986-05-31  1986   May"
      ]
     },
     "execution_count": 17,
     "metadata": {},
     "output_type": "execute_result"
    }
   ],
   "source": [
    "monthly_sales['year']=monthly_sales['date'].dt.strftime('%Y')\n",
    "monthly_sales['month']=monthly_sales['date'].dt.strftime('%b')\n",
    "monthly_sales.head()"
   ]
  },
  {
   "cell_type": "code",
   "execution_count": 18,
   "id": "a0548097",
   "metadata": {},
   "outputs": [
    {
     "data": {
      "text/plain": [
       "Sales           float64\n",
       "date     datetime64[ns]\n",
       "year             object\n",
       "month            object\n",
       "dtype: object"
      ]
     },
     "execution_count": 18,
     "metadata": {},
     "output_type": "execute_result"
    }
   ],
   "source": [
    "monthly_sales.dtypes"
   ]
  },
  {
   "cell_type": "markdown",
   "id": "77ab4262",
   "metadata": {},
   "source": [
    "### Data Visualization"
   ]
  },
  {
   "cell_type": "code",
   "execution_count": 19,
   "id": "ec643953",
   "metadata": {},
   "outputs": [
    {
     "data": {
      "image/png": "[encoded data removed]",
      "text/plain": [
       "<Figure size 1080x432 with 1 Axes>"
      ]
     },
     "metadata": {
      "needs_background": "light"
     },
     "output_type": "display_data"
    }
   ],
   "source": [
    "plt.figure(figsize=(15,6))\n",
    "sns.scatterplot(monthly_sales.date,monthly_sales.Sales)\n",
    "plt.title('Scatter Plot - Date(year) Vs Sales')\n",
    "plt.show()"
   ]
  },
  {
   "cell_type": "code",
   "execution_count": 20,
   "id": "04c321aa",
   "metadata": {},
   "outputs": [
    {
     "data": {
      "image/png": "[encoded data removed]",
      "text/plain": [
       "<Figure size 1080x432 with 1 Axes>"
      ]
     },
     "metadata": {
      "needs_background": "light"
     },
     "output_type": "display_data"
    }
   ],
   "source": [
    "plt.figure(figsize=(15,6))\n",
    "sns.lineplot(monthly_sales.date,monthly_sales.Sales)\n",
    "plt.title('Line Plot - Date(year) Vs Sales')\n",
    "plt.show()"
   ]
  },
  {
   "cell_type": "code",
   "execution_count": 21,
   "id": "97f36301",
   "metadata": {},
   "outputs": [
    {
     "data": {
      "image/png": "[encoded data removed]",
      "text/plain": [
       "<Figure size 720x432 with 1 Axes>"
      ]
     },
     "metadata": {
      "needs_background": "light"
     },
     "output_type": "display_data"
    }
   ],
   "source": [
    "monthly_sales.Sales.plot(figsize=(10,6))\n",
    "plt.title('Line Plot - Sales Distribution')\n",
    "plt.show()"
   ]
  },
  {
   "cell_type": "code",
   "execution_count": 22,
   "id": "97bf09d2",
   "metadata": {},
   "outputs": [
    {
     "data": {
      "image/png": "[encoded data removed]",
      "text/plain": [
       "<Figure size 720x432 with 1 Axes>"
      ]
     },
     "metadata": {
      "needs_background": "light"
     },
     "output_type": "display_data"
    }
   ],
   "source": [
    "plt.figure(figsize=(10,6))\n",
    "sns.lineplot(monthly_sales.year,monthly_sales.Sales)\n",
    "plt.title('Line Plot - year Vs Sales')\n",
    "plt.show()"
   ]
  },
  {
   "cell_type": "code",
   "execution_count": 23,
   "id": "c1c3eb0a",
   "metadata": {},
   "outputs": [
    {
     "data": {
      "image/png": "[encoded data removed]",
      "text/plain": [
       "<Figure size 720x432 with 1 Axes>"
      ]
     },
     "metadata": {
      "needs_background": "light"
     },
     "output_type": "display_data"
    }
   ],
   "source": [
    "plt.figure(figsize=(10,6))\n",
    "sns.lineplot(monthly_sales.month,monthly_sales.Sales)\n",
    "plt.title('Line Plot - Month Vs Sales')\n",
    "plt.show()"
   ]
  },
  {
   "cell_type": "code",
   "execution_count": 24,
   "id": "bcf30ec1",
   "metadata": {},
   "outputs": [
    {
     "data": {
      "image/png": "[encoded data removed]",
      "text/plain": [
       "<Figure size 720x432 with 1 Axes>"
      ]
     },
     "metadata": {
      "needs_background": "light"
     },
     "output_type": "display_data"
    }
   ],
   "source": [
    "plt.figure(figsize=(10,6))\n",
    "sns.boxplot(monthly_sales.year,monthly_sales.Sales)\n",
    "plt.title('Year-wise Sales Distribution')\n",
    "plt.show()"
   ]
  },
  {
   "cell_type": "code",
   "execution_count": 25,
   "id": "6edfe4ac",
   "metadata": {},
   "outputs": [
    {
     "data": {
      "image/png": "[encoded data removed]",
      "text/plain": [
       "<Figure size 720x432 with 1 Axes>"
      ]
     },
     "metadata": {
      "needs_background": "light"
     },
     "output_type": "display_data"
    }
   ],
   "source": [
    "plt.figure(figsize=(10,6))\n",
    "sns.boxplot(monthly_sales.month,monthly_sales.Sales)\n",
    "plt.title('Month-wise Sales Distribution')\n",
    "plt.show()"
   ]
  },
  {
   "cell_type": "code",
   "execution_count": 26,
   "id": "9b0535bf",
   "metadata": {},
   "outputs": [
    {
     "data": {
      "text/html": [
       "<div>\n",
       "<style scoped>\n",
       "    .dataframe tbody tr th:only-of-type {\n",
       "        vertical-align: middle;\n",
       "    }\n",
       "\n",
       "    .dataframe tbody tr th {\n",
       "        vertical-align: top;\n",
       "    }\n",
       "\n",
       "    .dataframe thead th {\n",
       "        text-align: right;\n",
       "    }\n",
       "</style>\n",
       "<table border=\"1\" class=\"dataframe\">\n",
       "  <thead>\n",
       "    <tr style=\"text-align: right;\">\n",
       "      <th>year</th>\n",
       "      <th>1986</th>\n",
       "      <th>1987</th>\n",
       "      <th>1988</th>\n",
       "      <th>1989</th>\n",
       "      <th>1990</th>\n",
       "      <th>1991</th>\n",
       "      <th>1992</th>\n",
       "      <th>1993</th>\n",
       "      <th>1994</th>\n",
       "      <th>1995</th>\n",
       "      <th>1996</th>\n",
       "    </tr>\n",
       "    <tr>\n",
       "      <th>month</th>\n",
       "      <th></th>\n",
       "      <th></th>\n",
       "      <th></th>\n",
       "      <th></th>\n",
       "      <th></th>\n",
       "      <th></th>\n",
       "      <th></th>\n",
       "      <th></th>\n",
       "      <th></th>\n",
       "      <th></th>\n",
       "      <th></th>\n",
       "    </tr>\n",
       "  </thead>\n",
       "  <tbody>\n",
       "    <tr>\n",
       "      <th>Apr</th>\n",
       "      <td>2278.0</td>\n",
       "      <td>2094.0</td>\n",
       "      <td>2292.0</td>\n",
       "      <td>2312.0</td>\n",
       "      <td>2748.0</td>\n",
       "      <td>3055.0</td>\n",
       "      <td>3545.0</td>\n",
       "      <td>3868.0</td>\n",
       "      <td>4356.0</td>\n",
       "      <td>4930.0</td>\n",
       "      <td>5253.0</td>\n",
       "    </tr>\n",
       "    <tr>\n",
       "      <th>Aug</th>\n",
       "      <td>2359.0</td>\n",
       "      <td>2004.0</td>\n",
       "      <td>2078.0</td>\n",
       "      <td>2190.0</td>\n",
       "      <td>2682.0</td>\n",
       "      <td>3048.0</td>\n",
       "      <td>3386.0</td>\n",
       "      <td>3511.0</td>\n",
       "      <td>4239.0</td>\n",
       "      <td>4614.0</td>\n",
       "      <td>NaN</td>\n",
       "    </tr>\n",
       "    <tr>\n",
       "      <th>Dec</th>\n",
       "      <td>1665.0</td>\n",
       "      <td>1892.0</td>\n",
       "      <td>1933.0</td>\n",
       "      <td>2154.0</td>\n",
       "      <td>2498.0</td>\n",
       "      <td>2797.0</td>\n",
       "      <td>3092.0</td>\n",
       "      <td>3356.0</td>\n",
       "      <td>3886.0</td>\n",
       "      <td>4224.0</td>\n",
       "      <td>NaN</td>\n",
       "    </tr>\n",
       "    <tr>\n",
       "      <th>Feb</th>\n",
       "      <td>1951.0</td>\n",
       "      <td>1784.0</td>\n",
       "      <td>2091.0</td>\n",
       "      <td>2121.0</td>\n",
       "      <td>2419.0</td>\n",
       "      <td>2718.0</td>\n",
       "      <td>3101.0</td>\n",
       "      <td>3478.0</td>\n",
       "      <td>3847.0</td>\n",
       "      <td>4395.0</td>\n",
       "      <td>4642.0</td>\n",
       "    </tr>\n",
       "    <tr>\n",
       "      <th>Jan</th>\n",
       "      <td>1794.0</td>\n",
       "      <td>1612.0</td>\n",
       "      <td>1937.0</td>\n",
       "      <td>1975.0</td>\n",
       "      <td>2222.0</td>\n",
       "      <td>2546.0</td>\n",
       "      <td>2862.0</td>\n",
       "      <td>3186.0</td>\n",
       "      <td>3504.0</td>\n",
       "      <td>4020.0</td>\n",
       "      <td>4316.0</td>\n",
       "    </tr>\n",
       "    <tr>\n",
       "      <th>Jul</th>\n",
       "      <td>2490.0</td>\n",
       "      <td>2012.0</td>\n",
       "      <td>2113.0</td>\n",
       "      <td>2202.0</td>\n",
       "      <td>2759.0</td>\n",
       "      <td>3138.0</td>\n",
       "      <td>3478.0</td>\n",
       "      <td>3600.0</td>\n",
       "      <td>4393.0</td>\n",
       "      <td>4809.0</td>\n",
       "      <td>NaN</td>\n",
       "    </tr>\n",
       "    <tr>\n",
       "      <th>Jun</th>\n",
       "      <td>2467.0</td>\n",
       "      <td>2032.0</td>\n",
       "      <td>2164.0</td>\n",
       "      <td>2230.0</td>\n",
       "      <td>2782.0</td>\n",
       "      <td>3142.0</td>\n",
       "      <td>3516.0</td>\n",
       "      <td>3681.0</td>\n",
       "      <td>4438.0</td>\n",
       "      <td>4903.0</td>\n",
       "      <td>NaN</td>\n",
       "    </tr>\n",
       "    <tr>\n",
       "      <th>Mar</th>\n",
       "      <td>2127.0</td>\n",
       "      <td>1976.0</td>\n",
       "      <td>2228.0</td>\n",
       "      <td>2250.0</td>\n",
       "      <td>2616.0</td>\n",
       "      <td>2911.0</td>\n",
       "      <td>3370.0</td>\n",
       "      <td>3737.0</td>\n",
       "      <td>4152.0</td>\n",
       "      <td>4728.0</td>\n",
       "      <td>5009.0</td>\n",
       "    </tr>\n",
       "    <tr>\n",
       "      <th>May</th>\n",
       "      <td>2367.0</td>\n",
       "      <td>2063.0</td>\n",
       "      <td>2228.0</td>\n",
       "      <td>2269.0</td>\n",
       "      <td>2766.0</td>\n",
       "      <td>3096.0</td>\n",
       "      <td>3531.0</td>\n",
       "      <td>3774.0</td>\n",
       "      <td>4397.0</td>\n",
       "      <td>4916.0</td>\n",
       "      <td>NaN</td>\n",
       "    </tr>\n",
       "    <tr>\n",
       "      <th>Nov</th>\n",
       "      <td>1875.0</td>\n",
       "      <td>1935.0</td>\n",
       "      <td>1968.0</td>\n",
       "      <td>2162.0</td>\n",
       "      <td>2524.0</td>\n",
       "      <td>2834.0</td>\n",
       "      <td>3157.0</td>\n",
       "      <td>3362.0</td>\n",
       "      <td>3936.0</td>\n",
       "      <td>4268.0</td>\n",
       "      <td>NaN</td>\n",
       "    </tr>\n",
       "    <tr>\n",
       "      <th>Oct</th>\n",
       "      <td>2085.0</td>\n",
       "      <td>1978.0</td>\n",
       "      <td>2009.0</td>\n",
       "      <td>2170.0</td>\n",
       "      <td>2547.0</td>\n",
       "      <td>2867.0</td>\n",
       "      <td>3222.0</td>\n",
       "      <td>3370.0</td>\n",
       "      <td>3992.0</td>\n",
       "      <td>4313.0</td>\n",
       "      <td>NaN</td>\n",
       "    </tr>\n",
       "    <tr>\n",
       "      <th>Sep</th>\n",
       "      <td>2228.0</td>\n",
       "      <td>1996.0</td>\n",
       "      <td>2046.0</td>\n",
       "      <td>2180.0</td>\n",
       "      <td>2607.0</td>\n",
       "      <td>2947.0</td>\n",
       "      <td>3294.0</td>\n",
       "      <td>3422.0</td>\n",
       "      <td>4102.0</td>\n",
       "      <td>4441.0</td>\n",
       "      <td>NaN</td>\n",
       "    </tr>\n",
       "  </tbody>\n",
       "</table>\n",
       "</div>"
      ],
      "text/plain": [
       "year     1986    1987    1988    1989    1990    1991    1992    1993    1994  \\\n",
       "month                                                                           \n",
       "Apr    2278.0  2094.0  2292.0  2312.0  2748.0  3055.0  3545.0  3868.0  4356.0   \n",
       "Aug    2359.0  2004.0  2078.0  2190.0  2682.0  3048.0  3386.0  3511.0  4239.0   \n",
       "Dec    1665.0  1892.0  1933.0  2154.0  2498.0  2797.0  3092.0  3356.0  3886.0   \n",
       "Feb    1951.0  1784.0  2091.0  2121.0  2419.0  2718.0  3101.0  3478.0  3847.0   \n",
       "Jan    1794.0  1612.0  1937.0  1975.0  2222.0  2546.0  2862.0  3186.0  3504.0   \n",
       "Jul    2490.0  2012.0  2113.0  2202.0  2759.0  3138.0  3478.0  3600.0  4393.0   \n",
       "Jun    2467.0  2032.0  2164.0  2230.0  2782.0  3142.0  3516.0  3681.0  4438.0   \n",
       "Mar    2127.0  1976.0  2228.0  2250.0  2616.0  2911.0  3370.0  3737.0  4152.0   \n",
       "May    2367.0  2063.0  2228.0  2269.0  2766.0  3096.0  3531.0  3774.0  4397.0   \n",
       "Nov    1875.0  1935.0  1968.0  2162.0  2524.0  2834.0  3157.0  3362.0  3936.0   \n",
       "Oct    2085.0  1978.0  2009.0  2170.0  2547.0  2867.0  3222.0  3370.0  3992.0   \n",
       "Sep    2228.0  1996.0  2046.0  2180.0  2607.0  2947.0  3294.0  3422.0  4102.0   \n",
       "\n",
       "year     1995    1996  \n",
       "month                  \n",
       "Apr    4930.0  5253.0  \n",
       "Aug    4614.0     NaN  \n",
       "Dec    4224.0     NaN  \n",
       "Feb    4395.0  4642.0  \n",
       "Jan    4020.0  4316.0  \n",
       "Jul    4809.0     NaN  \n",
       "Jun    4903.0     NaN  \n",
       "Mar    4728.0  5009.0  \n",
       "May    4916.0     NaN  \n",
       "Nov    4268.0     NaN  \n",
       "Oct    4313.0     NaN  \n",
       "Sep    4441.0     NaN  "
      ]
     },
     "execution_count": 26,
     "metadata": {},
     "output_type": "execute_result"
    }
   ],
   "source": [
    "monthwise=pd.pivot_table(data=monthly_sales,values='Sales',index='month',columns='year').round()\n",
    "monthwise"
   ]
  },
  {
   "cell_type": "code",
   "execution_count": 27,
   "id": "c3caa106",
   "metadata": {},
   "outputs": [
    {
     "data": {
      "image/png": "[encoded data removed]",
      "text/plain": [
       "<Figure size 720x432 with 2 Axes>"
      ]
     },
     "metadata": {
      "needs_background": "light"
     },
     "output_type": "display_data"
    }
   ],
   "source": [
    "plt.figure(figsize=(10,6))\n",
    "sns.heatmap(monthwise,annot=True,fmt='g')\n",
    "plt.show()"
   ]
  },
  {
   "cell_type": "markdown",
   "id": "ff57a59e",
   "metadata": {},
   "source": [
    "### Data Preparation - Part 2."
   ]
  },
  {
   "cell_type": "code",
   "execution_count": 28,
   "id": "e488799c",
   "metadata": {},
   "outputs": [],
   "source": [
    "t=np.arange(1,monthly_sales.shape[0]+1)\n",
    "t_square=t*t\n",
    "log_sales=np.log(monthly_sales['Sales'])\n",
    "dummies=pd.get_dummies(monthly_sales['month'])"
   ]
  },
  {
   "cell_type": "code",
   "execution_count": 29,
   "id": "e0216250",
   "metadata": {},
   "outputs": [],
   "source": [
    "monthly_sales['t']=pd.Series(t)\n",
    "monthly_sales['t_square']=pd.Series(t_square)\n",
    "monthly_sales['log_sales']=pd.Series(log_sales)\n",
    "monthly_sales=monthly_sales.join(dummies)"
   ]
  },
  {
   "cell_type": "code",
   "execution_count": 30,
   "id": "eb70ce15",
   "metadata": {},
   "outputs": [
    {
     "data": {
      "text/html": [
       "<div>\n",
       "<style scoped>\n",
       "    .dataframe tbody tr th:only-of-type {\n",
       "        vertical-align: middle;\n",
       "    }\n",
       "\n",
       "    .dataframe tbody tr th {\n",
       "        vertical-align: top;\n",
       "    }\n",
       "\n",
       "    .dataframe thead th {\n",
       "        text-align: right;\n",
       "    }\n",
       "</style>\n",
       "<table border=\"1\" class=\"dataframe\">\n",
       "  <thead>\n",
       "    <tr style=\"text-align: right;\">\n",
       "      <th></th>\n",
       "      <th>Sales</th>\n",
       "      <th>date</th>\n",
       "      <th>year</th>\n",
       "      <th>month</th>\n",
       "      <th>t</th>\n",
       "      <th>t_square</th>\n",
       "      <th>log_sales</th>\n",
       "      <th>Apr</th>\n",
       "      <th>Aug</th>\n",
       "      <th>Dec</th>\n",
       "      <th>Feb</th>\n",
       "      <th>Jan</th>\n",
       "      <th>Jul</th>\n",
       "      <th>Jun</th>\n",
       "      <th>Mar</th>\n",
       "      <th>May</th>\n",
       "      <th>Nov</th>\n",
       "      <th>Oct</th>\n",
       "      <th>Sep</th>\n",
       "    </tr>\n",
       "  </thead>\n",
       "  <tbody>\n",
       "    <tr>\n",
       "      <th>0</th>\n",
       "      <td>1793.75</td>\n",
       "      <td>1986-01-31</td>\n",
       "      <td>1986</td>\n",
       "      <td>Jan</td>\n",
       "      <td>1</td>\n",
       "      <td>1</td>\n",
       "      <td>7.492064</td>\n",
       "      <td>0</td>\n",
       "      <td>0</td>\n",
       "      <td>0</td>\n",
       "      <td>0</td>\n",
       "      <td>1</td>\n",
       "      <td>0</td>\n",
       "      <td>0</td>\n",
       "      <td>0</td>\n",
       "      <td>0</td>\n",
       "      <td>0</td>\n",
       "      <td>0</td>\n",
       "      <td>0</td>\n",
       "    </tr>\n",
       "    <tr>\n",
       "      <th>1</th>\n",
       "      <td>1950.75</td>\n",
       "      <td>1986-02-28</td>\n",
       "      <td>1986</td>\n",
       "      <td>Feb</td>\n",
       "      <td>2</td>\n",
       "      <td>4</td>\n",
       "      <td>7.575969</td>\n",
       "      <td>0</td>\n",
       "      <td>0</td>\n",
       "      <td>0</td>\n",
       "      <td>1</td>\n",
       "      <td>0</td>\n",
       "      <td>0</td>\n",
       "      <td>0</td>\n",
       "      <td>0</td>\n",
       "      <td>0</td>\n",
       "      <td>0</td>\n",
       "      <td>0</td>\n",
       "      <td>0</td>\n",
       "    </tr>\n",
       "    <tr>\n",
       "      <th>2</th>\n",
       "      <td>2127.20</td>\n",
       "      <td>1986-03-31</td>\n",
       "      <td>1986</td>\n",
       "      <td>Mar</td>\n",
       "      <td>3</td>\n",
       "      <td>9</td>\n",
       "      <td>7.662562</td>\n",
       "      <td>0</td>\n",
       "      <td>0</td>\n",
       "      <td>0</td>\n",
       "      <td>0</td>\n",
       "      <td>0</td>\n",
       "      <td>0</td>\n",
       "      <td>0</td>\n",
       "      <td>1</td>\n",
       "      <td>0</td>\n",
       "      <td>0</td>\n",
       "      <td>0</td>\n",
       "      <td>0</td>\n",
       "    </tr>\n",
       "    <tr>\n",
       "      <th>3</th>\n",
       "      <td>2278.25</td>\n",
       "      <td>1986-04-30</td>\n",
       "      <td>1986</td>\n",
       "      <td>Apr</td>\n",
       "      <td>4</td>\n",
       "      <td>16</td>\n",
       "      <td>7.731163</td>\n",
       "      <td>1</td>\n",
       "      <td>0</td>\n",
       "      <td>0</td>\n",
       "      <td>0</td>\n",
       "      <td>0</td>\n",
       "      <td>0</td>\n",
       "      <td>0</td>\n",
       "      <td>0</td>\n",
       "      <td>0</td>\n",
       "      <td>0</td>\n",
       "      <td>0</td>\n",
       "      <td>0</td>\n",
       "    </tr>\n",
       "    <tr>\n",
       "      <th>4</th>\n",
       "      <td>2367.00</td>\n",
       "      <td>1986-05-31</td>\n",
       "      <td>1986</td>\n",
       "      <td>May</td>\n",
       "      <td>5</td>\n",
       "      <td>25</td>\n",
       "      <td>7.769379</td>\n",
       "      <td>0</td>\n",
       "      <td>0</td>\n",
       "      <td>0</td>\n",
       "      <td>0</td>\n",
       "      <td>0</td>\n",
       "      <td>0</td>\n",
       "      <td>0</td>\n",
       "      <td>0</td>\n",
       "      <td>1</td>\n",
       "      <td>0</td>\n",
       "      <td>0</td>\n",
       "      <td>0</td>\n",
       "    </tr>\n",
       "  </tbody>\n",
       "</table>\n",
       "</div>"
      ],
      "text/plain": [
       "     Sales       date  year month  t  t_square  log_sales  Apr  Aug  Dec  Feb  \\\n",
       "0  1793.75 1986-01-31  1986   Jan  1         1   7.492064    0    0    0    0   \n",
       "1  1950.75 1986-02-28  1986   Feb  2         4   7.575969    0    0    0    1   \n",
       "2  2127.20 1986-03-31  1986   Mar  3         9   7.662562    0    0    0    0   \n",
       "3  2278.25 1986-04-30  1986   Apr  4        16   7.731163    1    0    0    0   \n",
       "4  2367.00 1986-05-31  1986   May  5        25   7.769379    0    0    0    0   \n",
       "\n",
       "   Jan  Jul  Jun  Mar  May  Nov  Oct  Sep  \n",
       "0    1    0    0    0    0    0    0    0  \n",
       "1    0    0    0    0    0    0    0    0  \n",
       "2    0    0    0    1    0    0    0    0  \n",
       "3    0    0    0    0    0    0    0    0  \n",
       "4    0    0    0    0    1    0    0    0  "
      ]
     },
     "execution_count": 30,
     "metadata": {},
     "output_type": "execute_result"
    }
   ],
   "source": [
    "monthly_sales.head()"
   ]
  },
  {
   "cell_type": "markdown",
   "id": "e683986a",
   "metadata": {},
   "source": [
    "## 1. Model Driven Forecasting Technique"
   ]
  },
  {
   "cell_type": "markdown",
   "id": "2f9a6d39",
   "metadata": {},
   "source": [
    "### Model Building"
   ]
  },
  {
   "cell_type": "code",
   "execution_count": 31,
   "id": "1dc97825",
   "metadata": {},
   "outputs": [
    {
     "data": {
      "text/plain": [
       "((112, 19), (12, 19))"
      ]
     },
     "execution_count": 31,
     "metadata": {},
     "output_type": "execute_result"
    }
   ],
   "source": [
    "training_data=monthly_sales.head(monthly_sales.shape[0]-12)\n",
    "testing_data=monthly_sales.tail(12)\n",
    "training_data.shape,testing_data.shape"
   ]
  },
  {
   "cell_type": "markdown",
   "id": "767d7413",
   "metadata": {},
   "source": [
    "### Model Training || Model Prediction || Model Evaluation"
   ]
  },
  {
   "cell_type": "markdown",
   "id": "ca3927d0",
   "metadata": {},
   "source": [
    "#### Linear Model"
   ]
  },
  {
   "cell_type": "code",
   "execution_count": 32,
   "id": "8f53352b",
   "metadata": {},
   "outputs": [
    {
     "data": {
      "text/plain": [
       "532.233"
      ]
     },
     "execution_count": 32,
     "metadata": {},
     "output_type": "execute_result"
    }
   ],
   "source": [
    "linear_model = smf.ols(formula='Sales~t',data=training_data).fit()\n",
    "\n",
    "pred_linear=linear_model.predict(testing_data)\n",
    "\n",
    "linear_rmse=np.round(mean_squared_error(testing_data['Sales'],pred_linear,squared=False),3)\n",
    "linear_rmse"
   ]
  },
  {
   "cell_type": "markdown",
   "id": "d23b7e74",
   "metadata": {},
   "source": [
    "#### Exponential Model"
   ]
  },
  {
   "cell_type": "code",
   "execution_count": 33,
   "id": "d4fd19a0",
   "metadata": {},
   "outputs": [
    {
     "data": {
      "text/plain": [
       "401.303"
      ]
     },
     "execution_count": 33,
     "metadata": {},
     "output_type": "execute_result"
    }
   ],
   "source": [
    "exponential_model = smf.ols(formula='log_sales~t',data=training_data).fit()\n",
    "\n",
    "pred_exponential=exponential_model.predict(testing_data)\n",
    "\n",
    "exponential_rmse=np.round(mean_squared_error(testing_data['Sales'],np.exp(pred_exponential),squared=False),3)\n",
    "exponential_rmse"
   ]
  },
  {
   "cell_type": "markdown",
   "id": "15b5bff6",
   "metadata": {},
   "source": [
    "#### Quadratic Model"
   ]
  },
  {
   "cell_type": "code",
   "execution_count": 34,
   "id": "0214dc7d",
   "metadata": {},
   "outputs": [
    {
     "data": {
      "text/plain": [
       "418.355"
      ]
     },
     "execution_count": 34,
     "metadata": {},
     "output_type": "execute_result"
    }
   ],
   "source": [
    "quadratic_model = smf.ols(formula='Sales~t+t_square',data=training_data).fit()\n",
    "\n",
    "pred_quadratic=quadratic_model.predict(testing_data)\n",
    "\n",
    "quadratic_rmse=np.round(mean_squared_error(testing_data['Sales'],pred_quadratic,squared=False),3)\n",
    "quadratic_rmse"
   ]
  },
  {
   "cell_type": "markdown",
   "id": "7920d30f",
   "metadata": {},
   "source": [
    "#### Additive Seasonality Model"
   ]
  },
  {
   "cell_type": "code",
   "execution_count": 35,
   "id": "9cdf9840",
   "metadata": {},
   "outputs": [
    {
     "data": {
      "text/plain": [
       "1831.177"
      ]
     },
     "execution_count": 35,
     "metadata": {},
     "output_type": "execute_result"
    }
   ],
   "source": [
    "additive_model = smf.ols(formula='Sales~Jan+Feb+Mar+Apr+May+Jun+Jul+Aug+Sep+Oct+Nov+Dec',data=training_data).fit()\n",
    "\n",
    "pred_additive=additive_model.predict(testing_data)\n",
    "\n",
    "additive_rmse=np.round(mean_squared_error(testing_data['Sales'],pred_additive,squared=False),3)\n",
    "additive_rmse"
   ]
  },
  {
   "cell_type": "markdown",
   "id": "b83e60f2",
   "metadata": {},
   "source": [
    "#### Additive Seasonality with Quadratic Trend Model"
   ]
  },
  {
   "cell_type": "code",
   "execution_count": 36,
   "id": "2c2a034f",
   "metadata": {},
   "outputs": [
    {
     "data": {
      "text/plain": [
       "286.272"
      ]
     },
     "execution_count": 36,
     "metadata": {},
     "output_type": "execute_result"
    }
   ],
   "source": [
    "additive_quad_model = smf.ols(formula='Sales~t+t_square+Jan+Feb+Mar+Apr+May+Jun+Jul+Aug+Sep+Oct+Nov+Dec',data=training_data).fit()\n",
    "\n",
    "pred_additive_quad=additive_quad_model.predict(testing_data)\n",
    "\n",
    "additive_quad_rmse=np.round(mean_squared_error(testing_data['Sales'],pred_additive_quad,squared=False),3)\n",
    "additive_quad_rmse"
   ]
  },
  {
   "cell_type": "markdown",
   "id": "4b8c95c5",
   "metadata": {},
   "source": [
    "#### Multiplicative Model"
   ]
  },
  {
   "cell_type": "code",
   "execution_count": 37,
   "id": "c0572e7a",
   "metadata": {},
   "outputs": [
    {
     "data": {
      "text/plain": [
       "1931.699"
      ]
     },
     "execution_count": 37,
     "metadata": {},
     "output_type": "execute_result"
    }
   ],
   "source": [
    "multiplicative_model = smf.ols(formula='log_sales~Jan+Feb+Mar+Apr+May+Jun+Jul+Aug+Sep+Oct+Nov+Dec',data=training_data).fit()\n",
    "\n",
    "pred_multiplicative=multiplicative_model.predict(testing_data)\n",
    "\n",
    "multiplicative_rmse=np.round(mean_squared_error(testing_data['Sales'],np.exp(pred_multiplicative),squared=False),3)\n",
    "multiplicative_rmse"
   ]
  },
  {
   "cell_type": "markdown",
   "id": "18ab1977",
   "metadata": {},
   "source": [
    "### Compare the Results"
   ]
  },
  {
   "cell_type": "code",
   "execution_count": 38,
   "id": "ff2bf87d",
   "metadata": {},
   "outputs": [
    {
     "data": {
      "text/html": [
       "<div>\n",
       "<style scoped>\n",
       "    .dataframe tbody tr th:only-of-type {\n",
       "        vertical-align: middle;\n",
       "    }\n",
       "\n",
       "    .dataframe tbody tr th {\n",
       "        vertical-align: top;\n",
       "    }\n",
       "\n",
       "    .dataframe thead th {\n",
       "        text-align: right;\n",
       "    }\n",
       "</style>\n",
       "<table border=\"1\" class=\"dataframe\">\n",
       "  <thead>\n",
       "    <tr style=\"text-align: right;\">\n",
       "      <th></th>\n",
       "      <th>MODEL</th>\n",
       "      <th>RMSE</th>\n",
       "    </tr>\n",
       "  </thead>\n",
       "  <tbody>\n",
       "    <tr>\n",
       "      <th>4</th>\n",
       "      <td>Additive with Quadrative</td>\n",
       "      <td>286.272</td>\n",
       "    </tr>\n",
       "    <tr>\n",
       "      <th>1</th>\n",
       "      <td>Exponential</td>\n",
       "      <td>401.303</td>\n",
       "    </tr>\n",
       "    <tr>\n",
       "      <th>2</th>\n",
       "      <td>Quadrative</td>\n",
       "      <td>418.355</td>\n",
       "    </tr>\n",
       "    <tr>\n",
       "      <th>0</th>\n",
       "      <td>Linear</td>\n",
       "      <td>532.233</td>\n",
       "    </tr>\n",
       "    <tr>\n",
       "      <th>3</th>\n",
       "      <td>Additive</td>\n",
       "      <td>1831.177</td>\n",
       "    </tr>\n",
       "    <tr>\n",
       "      <th>5</th>\n",
       "      <td>Multiplicative</td>\n",
       "      <td>1931.699</td>\n",
       "    </tr>\n",
       "  </tbody>\n",
       "</table>\n",
       "</div>"
      ],
      "text/plain": [
       "                      MODEL      RMSE\n",
       "4  Additive with Quadrative   286.272\n",
       "1               Exponential   401.303\n",
       "2                Quadrative   418.355\n",
       "0                    Linear   532.233\n",
       "3                  Additive  1831.177\n",
       "5            Multiplicative  1931.699"
      ]
     },
     "execution_count": 38,
     "metadata": {},
     "output_type": "execute_result"
    }
   ],
   "source": [
    "Model_Driven_Results = pd.DataFrame(\n",
    "    data={\"MODEL\":pd.Series(['Linear','Exponential','Quadrative','Additive','Additive with Quadrative','Multiplicative']),\n",
    "          \"RMSE\":pd.Series([linear_rmse,exponential_rmse,quadratic_rmse,additive_rmse,additive_quad_rmse,multiplicative_rmse])})\n",
    "Model_Driven_Results.sort_values('RMSE')"
   ]
  },
  {
   "cell_type": "markdown",
   "id": "05301c0d",
   "metadata": {},
   "source": [
    "#### From Model Driven Techniques, We can see that Additive with Quadrative Model gives least Root Mean Squared Error"
   ]
  },
  {
   "cell_type": "markdown",
   "id": "65f1fe77",
   "metadata": {},
   "source": [
    "### Build model for Complete Dataset"
   ]
  },
  {
   "cell_type": "code",
   "execution_count": 39,
   "id": "5e062023",
   "metadata": {},
   "outputs": [],
   "source": [
    "final_model=smf.ols('Sales~t+t_square+Jan+Feb+Mar+Apr+May+Jun+Jul+Aug+Sep+Oct+Nov+Dec',data=monthly_sales).fit()"
   ]
  },
  {
   "cell_type": "code",
   "execution_count": 40,
   "id": "c0bf6b2b",
   "metadata": {},
   "outputs": [
    {
     "data": {
      "text/html": [
       "<div>\n",
       "<style scoped>\n",
       "    .dataframe tbody tr th:only-of-type {\n",
       "        vertical-align: middle;\n",
       "    }\n",
       "\n",
       "    .dataframe tbody tr th {\n",
       "        vertical-align: top;\n",
       "    }\n",
       "\n",
       "    .dataframe thead th {\n",
       "        text-align: right;\n",
       "    }\n",
       "</style>\n",
       "<table border=\"1\" class=\"dataframe\">\n",
       "  <thead>\n",
       "    <tr style=\"text-align: right;\">\n",
       "      <th></th>\n",
       "      <th>date</th>\n",
       "      <th>t</th>\n",
       "      <th>t_square</th>\n",
       "      <th>Apr</th>\n",
       "      <th>Aug</th>\n",
       "      <th>Dec</th>\n",
       "      <th>Feb</th>\n",
       "      <th>Jan</th>\n",
       "      <th>Jul</th>\n",
       "      <th>Jun</th>\n",
       "      <th>Mar</th>\n",
       "      <th>May</th>\n",
       "      <th>Nov</th>\n",
       "      <th>Oct</th>\n",
       "      <th>Sep</th>\n",
       "    </tr>\n",
       "  </thead>\n",
       "  <tbody>\n",
       "    <tr>\n",
       "      <th>0</th>\n",
       "      <td>1996-05-31</td>\n",
       "      <td>125</td>\n",
       "      <td>15625</td>\n",
       "      <td>0</td>\n",
       "      <td>0</td>\n",
       "      <td>0</td>\n",
       "      <td>0</td>\n",
       "      <td>0</td>\n",
       "      <td>0</td>\n",
       "      <td>0</td>\n",
       "      <td>0</td>\n",
       "      <td>1</td>\n",
       "      <td>0</td>\n",
       "      <td>0</td>\n",
       "      <td>0</td>\n",
       "    </tr>\n",
       "    <tr>\n",
       "      <th>1</th>\n",
       "      <td>1996-06-30</td>\n",
       "      <td>126</td>\n",
       "      <td>15876</td>\n",
       "      <td>0</td>\n",
       "      <td>0</td>\n",
       "      <td>0</td>\n",
       "      <td>0</td>\n",
       "      <td>0</td>\n",
       "      <td>0</td>\n",
       "      <td>1</td>\n",
       "      <td>0</td>\n",
       "      <td>0</td>\n",
       "      <td>0</td>\n",
       "      <td>0</td>\n",
       "      <td>0</td>\n",
       "    </tr>\n",
       "    <tr>\n",
       "      <th>2</th>\n",
       "      <td>1996-07-31</td>\n",
       "      <td>127</td>\n",
       "      <td>16129</td>\n",
       "      <td>0</td>\n",
       "      <td>0</td>\n",
       "      <td>0</td>\n",
       "      <td>0</td>\n",
       "      <td>0</td>\n",
       "      <td>1</td>\n",
       "      <td>0</td>\n",
       "      <td>0</td>\n",
       "      <td>0</td>\n",
       "      <td>0</td>\n",
       "      <td>0</td>\n",
       "      <td>0</td>\n",
       "    </tr>\n",
       "    <tr>\n",
       "      <th>3</th>\n",
       "      <td>1996-08-31</td>\n",
       "      <td>128</td>\n",
       "      <td>16384</td>\n",
       "      <td>0</td>\n",
       "      <td>1</td>\n",
       "      <td>0</td>\n",
       "      <td>0</td>\n",
       "      <td>0</td>\n",
       "      <td>0</td>\n",
       "      <td>0</td>\n",
       "      <td>0</td>\n",
       "      <td>0</td>\n",
       "      <td>0</td>\n",
       "      <td>0</td>\n",
       "      <td>0</td>\n",
       "    </tr>\n",
       "    <tr>\n",
       "      <th>4</th>\n",
       "      <td>1996-09-30</td>\n",
       "      <td>129</td>\n",
       "      <td>16641</td>\n",
       "      <td>0</td>\n",
       "      <td>0</td>\n",
       "      <td>0</td>\n",
       "      <td>0</td>\n",
       "      <td>0</td>\n",
       "      <td>0</td>\n",
       "      <td>0</td>\n",
       "      <td>0</td>\n",
       "      <td>0</td>\n",
       "      <td>0</td>\n",
       "      <td>0</td>\n",
       "      <td>1</td>\n",
       "    </tr>\n",
       "  </tbody>\n",
       "</table>\n",
       "</div>"
      ],
      "text/plain": [
       "        date    t  t_square  Apr  Aug  Dec  Feb  Jan  Jul  Jun  Mar  May  Nov  \\\n",
       "0 1996-05-31  125     15625    0    0    0    0    0    0    0    0    1    0   \n",
       "1 1996-06-30  126     15876    0    0    0    0    0    0    1    0    0    0   \n",
       "2 1996-07-31  127     16129    0    0    0    0    0    1    0    0    0    0   \n",
       "3 1996-08-31  128     16384    0    1    0    0    0    0    0    0    0    0   \n",
       "4 1996-09-30  129     16641    0    0    0    0    0    0    0    0    0    0   \n",
       "\n",
       "   Oct  Sep  \n",
       "0    0    0  \n",
       "1    0    0  \n",
       "2    0    0  \n",
       "3    0    0  \n",
       "4    0    1  "
      ]
     },
     "execution_count": 40,
     "metadata": {},
     "output_type": "execute_result"
    }
   ],
   "source": [
    "final_test_data=pd.read_excel('cocacola_test.xlsx')\n",
    "final_test_data.head()"
   ]
  },
  {
   "cell_type": "code",
   "execution_count": 41,
   "id": "c1b604d6",
   "metadata": {},
   "outputs": [
    {
     "data": {
      "text/html": [
       "<div>\n",
       "<style scoped>\n",
       "    .dataframe tbody tr th:only-of-type {\n",
       "        vertical-align: middle;\n",
       "    }\n",
       "\n",
       "    .dataframe tbody tr th {\n",
       "        vertical-align: top;\n",
       "    }\n",
       "\n",
       "    .dataframe thead th {\n",
       "        text-align: right;\n",
       "    }\n",
       "</style>\n",
       "<table border=\"1\" class=\"dataframe\">\n",
       "  <thead>\n",
       "    <tr style=\"text-align: right;\">\n",
       "      <th></th>\n",
       "      <th>date</th>\n",
       "      <th>t</th>\n",
       "      <th>t_square</th>\n",
       "      <th>Apr</th>\n",
       "      <th>Aug</th>\n",
       "      <th>Dec</th>\n",
       "      <th>Feb</th>\n",
       "      <th>Jan</th>\n",
       "      <th>Jul</th>\n",
       "      <th>Jun</th>\n",
       "      <th>Mar</th>\n",
       "      <th>May</th>\n",
       "      <th>Nov</th>\n",
       "      <th>Oct</th>\n",
       "      <th>Sep</th>\n",
       "      <th>Predicted</th>\n",
       "    </tr>\n",
       "  </thead>\n",
       "  <tbody>\n",
       "    <tr>\n",
       "      <th>0</th>\n",
       "      <td>1996-05-31</td>\n",
       "      <td>125</td>\n",
       "      <td>15625</td>\n",
       "      <td>0</td>\n",
       "      <td>0</td>\n",
       "      <td>0</td>\n",
       "      <td>0</td>\n",
       "      <td>0</td>\n",
       "      <td>0</td>\n",
       "      <td>0</td>\n",
       "      <td>0</td>\n",
       "      <td>1</td>\n",
       "      <td>0</td>\n",
       "      <td>0</td>\n",
       "      <td>0</td>\n",
       "      <td>5276.643121</td>\n",
       "    </tr>\n",
       "    <tr>\n",
       "      <th>1</th>\n",
       "      <td>1996-06-30</td>\n",
       "      <td>126</td>\n",
       "      <td>15876</td>\n",
       "      <td>0</td>\n",
       "      <td>0</td>\n",
       "      <td>0</td>\n",
       "      <td>0</td>\n",
       "      <td>0</td>\n",
       "      <td>0</td>\n",
       "      <td>1</td>\n",
       "      <td>0</td>\n",
       "      <td>0</td>\n",
       "      <td>0</td>\n",
       "      <td>0</td>\n",
       "      <td>0</td>\n",
       "      <td>5296.699755</td>\n",
       "    </tr>\n",
       "    <tr>\n",
       "      <th>2</th>\n",
       "      <td>1996-07-31</td>\n",
       "      <td>127</td>\n",
       "      <td>16129</td>\n",
       "      <td>0</td>\n",
       "      <td>0</td>\n",
       "      <td>0</td>\n",
       "      <td>0</td>\n",
       "      <td>0</td>\n",
       "      <td>1</td>\n",
       "      <td>0</td>\n",
       "      <td>0</td>\n",
       "      <td>0</td>\n",
       "      <td>0</td>\n",
       "      <td>0</td>\n",
       "      <td>0</td>\n",
       "      <td>5285.541389</td>\n",
       "    </tr>\n",
       "    <tr>\n",
       "      <th>3</th>\n",
       "      <td>1996-08-31</td>\n",
       "      <td>128</td>\n",
       "      <td>16384</td>\n",
       "      <td>0</td>\n",
       "      <td>1</td>\n",
       "      <td>0</td>\n",
       "      <td>0</td>\n",
       "      <td>0</td>\n",
       "      <td>0</td>\n",
       "      <td>0</td>\n",
       "      <td>0</td>\n",
       "      <td>0</td>\n",
       "      <td>0</td>\n",
       "      <td>0</td>\n",
       "      <td>0</td>\n",
       "      <td>5222.548022</td>\n",
       "    </tr>\n",
       "    <tr>\n",
       "      <th>4</th>\n",
       "      <td>1996-09-30</td>\n",
       "      <td>129</td>\n",
       "      <td>16641</td>\n",
       "      <td>0</td>\n",
       "      <td>0</td>\n",
       "      <td>0</td>\n",
       "      <td>0</td>\n",
       "      <td>0</td>\n",
       "      <td>0</td>\n",
       "      <td>0</td>\n",
       "      <td>0</td>\n",
       "      <td>0</td>\n",
       "      <td>0</td>\n",
       "      <td>0</td>\n",
       "      <td>1</td>\n",
       "      <td>5162.989656</td>\n",
       "    </tr>\n",
       "  </tbody>\n",
       "</table>\n",
       "</div>"
      ],
      "text/plain": [
       "        date    t  t_square  Apr  Aug  Dec  Feb  Jan  Jul  Jun  Mar  May  Nov  \\\n",
       "0 1996-05-31  125     15625    0    0    0    0    0    0    0    0    1    0   \n",
       "1 1996-06-30  126     15876    0    0    0    0    0    0    1    0    0    0   \n",
       "2 1996-07-31  127     16129    0    0    0    0    0    1    0    0    0    0   \n",
       "3 1996-08-31  128     16384    0    1    0    0    0    0    0    0    0    0   \n",
       "4 1996-09-30  129     16641    0    0    0    0    0    0    0    0    0    0   \n",
       "\n",
       "   Oct  Sep    Predicted  \n",
       "0    0    0  5276.643121  \n",
       "1    0    0  5296.699755  \n",
       "2    0    0  5285.541389  \n",
       "3    0    0  5222.548022  \n",
       "4    0    1  5162.989656  "
      ]
     },
     "execution_count": 41,
     "metadata": {},
     "output_type": "execute_result"
    }
   ],
   "source": [
    "pred_final = final_model.predict(final_test_data)\n",
    "final_test_data['Predicted']=pred_final\n",
    "final_test_data.head()"
   ]
  },
  {
   "cell_type": "code",
   "execution_count": 42,
   "id": "22be7c65",
   "metadata": {},
   "outputs": [
    {
     "data": {
      "text/html": [
       "<div>\n",
       "<style scoped>\n",
       "    .dataframe tbody tr th:only-of-type {\n",
       "        vertical-align: middle;\n",
       "    }\n",
       "\n",
       "    .dataframe tbody tr th {\n",
       "        vertical-align: top;\n",
       "    }\n",
       "\n",
       "    .dataframe thead th {\n",
       "        text-align: right;\n",
       "    }\n",
       "</style>\n",
       "<table border=\"1\" class=\"dataframe\">\n",
       "  <thead>\n",
       "    <tr style=\"text-align: right;\">\n",
       "      <th></th>\n",
       "      <th>Sales</th>\n",
       "      <th>date</th>\n",
       "      <th>year</th>\n",
       "      <th>month</th>\n",
       "      <th>t</th>\n",
       "      <th>t_square</th>\n",
       "      <th>log_sales</th>\n",
       "      <th>Apr</th>\n",
       "      <th>Aug</th>\n",
       "      <th>Dec</th>\n",
       "      <th>Feb</th>\n",
       "      <th>Jan</th>\n",
       "      <th>Jul</th>\n",
       "      <th>Jun</th>\n",
       "      <th>Mar</th>\n",
       "      <th>May</th>\n",
       "      <th>Nov</th>\n",
       "      <th>Oct</th>\n",
       "      <th>Sep</th>\n",
       "      <th>Predicted</th>\n",
       "    </tr>\n",
       "  </thead>\n",
       "  <tbody>\n",
       "    <tr>\n",
       "      <th>0</th>\n",
       "      <td>1793.75</td>\n",
       "      <td>1986-01-31</td>\n",
       "      <td>1986</td>\n",
       "      <td>Jan</td>\n",
       "      <td>1</td>\n",
       "      <td>1</td>\n",
       "      <td>7.492064</td>\n",
       "      <td>0</td>\n",
       "      <td>0</td>\n",
       "      <td>0</td>\n",
       "      <td>0</td>\n",
       "      <td>1</td>\n",
       "      <td>0</td>\n",
       "      <td>0</td>\n",
       "      <td>0</td>\n",
       "      <td>0</td>\n",
       "      <td>0</td>\n",
       "      <td>0</td>\n",
       "      <td>0</td>\n",
       "      <td>NaN</td>\n",
       "    </tr>\n",
       "    <tr>\n",
       "      <th>1</th>\n",
       "      <td>1950.75</td>\n",
       "      <td>1986-02-28</td>\n",
       "      <td>1986</td>\n",
       "      <td>Feb</td>\n",
       "      <td>2</td>\n",
       "      <td>4</td>\n",
       "      <td>7.575969</td>\n",
       "      <td>0</td>\n",
       "      <td>0</td>\n",
       "      <td>0</td>\n",
       "      <td>1</td>\n",
       "      <td>0</td>\n",
       "      <td>0</td>\n",
       "      <td>0</td>\n",
       "      <td>0</td>\n",
       "      <td>0</td>\n",
       "      <td>0</td>\n",
       "      <td>0</td>\n",
       "      <td>0</td>\n",
       "      <td>NaN</td>\n",
       "    </tr>\n",
       "    <tr>\n",
       "      <th>2</th>\n",
       "      <td>2127.20</td>\n",
       "      <td>1986-03-31</td>\n",
       "      <td>1986</td>\n",
       "      <td>Mar</td>\n",
       "      <td>3</td>\n",
       "      <td>9</td>\n",
       "      <td>7.662562</td>\n",
       "      <td>0</td>\n",
       "      <td>0</td>\n",
       "      <td>0</td>\n",
       "      <td>0</td>\n",
       "      <td>0</td>\n",
       "      <td>0</td>\n",
       "      <td>0</td>\n",
       "      <td>1</td>\n",
       "      <td>0</td>\n",
       "      <td>0</td>\n",
       "      <td>0</td>\n",
       "      <td>0</td>\n",
       "      <td>NaN</td>\n",
       "    </tr>\n",
       "    <tr>\n",
       "      <th>3</th>\n",
       "      <td>2278.25</td>\n",
       "      <td>1986-04-30</td>\n",
       "      <td>1986</td>\n",
       "      <td>Apr</td>\n",
       "      <td>4</td>\n",
       "      <td>16</td>\n",
       "      <td>7.731163</td>\n",
       "      <td>1</td>\n",
       "      <td>0</td>\n",
       "      <td>0</td>\n",
       "      <td>0</td>\n",
       "      <td>0</td>\n",
       "      <td>0</td>\n",
       "      <td>0</td>\n",
       "      <td>0</td>\n",
       "      <td>0</td>\n",
       "      <td>0</td>\n",
       "      <td>0</td>\n",
       "      <td>0</td>\n",
       "      <td>NaN</td>\n",
       "    </tr>\n",
       "    <tr>\n",
       "      <th>4</th>\n",
       "      <td>2367.00</td>\n",
       "      <td>1986-05-31</td>\n",
       "      <td>1986</td>\n",
       "      <td>May</td>\n",
       "      <td>5</td>\n",
       "      <td>25</td>\n",
       "      <td>7.769379</td>\n",
       "      <td>0</td>\n",
       "      <td>0</td>\n",
       "      <td>0</td>\n",
       "      <td>0</td>\n",
       "      <td>0</td>\n",
       "      <td>0</td>\n",
       "      <td>0</td>\n",
       "      <td>0</td>\n",
       "      <td>1</td>\n",
       "      <td>0</td>\n",
       "      <td>0</td>\n",
       "      <td>0</td>\n",
       "      <td>NaN</td>\n",
       "    </tr>\n",
       "    <tr>\n",
       "      <th>...</th>\n",
       "      <td>...</td>\n",
       "      <td>...</td>\n",
       "      <td>...</td>\n",
       "      <td>...</td>\n",
       "      <td>...</td>\n",
       "      <td>...</td>\n",
       "      <td>...</td>\n",
       "      <td>...</td>\n",
       "      <td>...</td>\n",
       "      <td>...</td>\n",
       "      <td>...</td>\n",
       "      <td>...</td>\n",
       "      <td>...</td>\n",
       "      <td>...</td>\n",
       "      <td>...</td>\n",
       "      <td>...</td>\n",
       "      <td>...</td>\n",
       "      <td>...</td>\n",
       "      <td>...</td>\n",
       "      <td>...</td>\n",
       "    </tr>\n",
       "    <tr>\n",
       "      <th>7</th>\n",
       "      <td>NaN</td>\n",
       "      <td>1996-12-31</td>\n",
       "      <td>NaN</td>\n",
       "      <td>NaN</td>\n",
       "      <td>132</td>\n",
       "      <td>17424</td>\n",
       "      <td>NaN</td>\n",
       "      <td>0</td>\n",
       "      <td>0</td>\n",
       "      <td>1</td>\n",
       "      <td>0</td>\n",
       "      <td>0</td>\n",
       "      <td>0</td>\n",
       "      <td>0</td>\n",
       "      <td>0</td>\n",
       "      <td>0</td>\n",
       "      <td>0</td>\n",
       "      <td>0</td>\n",
       "      <td>0</td>\n",
       "      <td>5061.679558</td>\n",
       "    </tr>\n",
       "    <tr>\n",
       "      <th>8</th>\n",
       "      <td>NaN</td>\n",
       "      <td>1997-01-31</td>\n",
       "      <td>NaN</td>\n",
       "      <td>NaN</td>\n",
       "      <td>133</td>\n",
       "      <td>17689</td>\n",
       "      <td>NaN</td>\n",
       "      <td>0</td>\n",
       "      <td>0</td>\n",
       "      <td>0</td>\n",
       "      <td>0</td>\n",
       "      <td>1</td>\n",
       "      <td>0</td>\n",
       "      <td>0</td>\n",
       "      <td>0</td>\n",
       "      <td>0</td>\n",
       "      <td>0</td>\n",
       "      <td>0</td>\n",
       "      <td>0</td>\n",
       "      <td>5164.910534</td>\n",
       "    </tr>\n",
       "    <tr>\n",
       "      <th>9</th>\n",
       "      <td>NaN</td>\n",
       "      <td>1997-02-28</td>\n",
       "      <td>NaN</td>\n",
       "      <td>NaN</td>\n",
       "      <td>134</td>\n",
       "      <td>17956</td>\n",
       "      <td>NaN</td>\n",
       "      <td>0</td>\n",
       "      <td>0</td>\n",
       "      <td>0</td>\n",
       "      <td>1</td>\n",
       "      <td>0</td>\n",
       "      <td>0</td>\n",
       "      <td>0</td>\n",
       "      <td>0</td>\n",
       "      <td>0</td>\n",
       "      <td>0</td>\n",
       "      <td>0</td>\n",
       "      <td>0</td>\n",
       "      <td>5426.052317</td>\n",
       "    </tr>\n",
       "    <tr>\n",
       "      <th>10</th>\n",
       "      <td>NaN</td>\n",
       "      <td>1997-03-31</td>\n",
       "      <td>NaN</td>\n",
       "      <td>NaN</td>\n",
       "      <td>135</td>\n",
       "      <td>18225</td>\n",
       "      <td>NaN</td>\n",
       "      <td>0</td>\n",
       "      <td>0</td>\n",
       "      <td>0</td>\n",
       "      <td>0</td>\n",
       "      <td>0</td>\n",
       "      <td>0</td>\n",
       "      <td>0</td>\n",
       "      <td>1</td>\n",
       "      <td>0</td>\n",
       "      <td>0</td>\n",
       "      <td>0</td>\n",
       "      <td>0</td>\n",
       "      <td>5686.112281</td>\n",
       "    </tr>\n",
       "    <tr>\n",
       "      <th>11</th>\n",
       "      <td>NaN</td>\n",
       "      <td>1997-04-30</td>\n",
       "      <td>NaN</td>\n",
       "      <td>NaN</td>\n",
       "      <td>136</td>\n",
       "      <td>18496</td>\n",
       "      <td>NaN</td>\n",
       "      <td>1</td>\n",
       "      <td>0</td>\n",
       "      <td>0</td>\n",
       "      <td>0</td>\n",
       "      <td>0</td>\n",
       "      <td>0</td>\n",
       "      <td>0</td>\n",
       "      <td>0</td>\n",
       "      <td>0</td>\n",
       "      <td>0</td>\n",
       "      <td>0</td>\n",
       "      <td>0</td>\n",
       "      <td>5861.363154</td>\n",
       "    </tr>\n",
       "  </tbody>\n",
       "</table>\n",
       "<p>136 rows × 20 columns</p>\n",
       "</div>"
      ],
      "text/plain": [
       "      Sales       date  year month    t  t_square  log_sales  Apr  Aug  Dec  \\\n",
       "0   1793.75 1986-01-31  1986   Jan    1         1   7.492064    0    0    0   \n",
       "1   1950.75 1986-02-28  1986   Feb    2         4   7.575969    0    0    0   \n",
       "2   2127.20 1986-03-31  1986   Mar    3         9   7.662562    0    0    0   \n",
       "3   2278.25 1986-04-30  1986   Apr    4        16   7.731163    1    0    0   \n",
       "4   2367.00 1986-05-31  1986   May    5        25   7.769379    0    0    0   \n",
       "..      ...        ...   ...   ...  ...       ...        ...  ...  ...  ...   \n",
       "7       NaN 1996-12-31   NaN   NaN  132     17424        NaN    0    0    1   \n",
       "8       NaN 1997-01-31   NaN   NaN  133     17689        NaN    0    0    0   \n",
       "9       NaN 1997-02-28   NaN   NaN  134     17956        NaN    0    0    0   \n",
       "10      NaN 1997-03-31   NaN   NaN  135     18225        NaN    0    0    0   \n",
       "11      NaN 1997-04-30   NaN   NaN  136     18496        NaN    1    0    0   \n",
       "\n",
       "    Feb  Jan  Jul  Jun  Mar  May  Nov  Oct  Sep    Predicted  \n",
       "0     0    1    0    0    0    0    0    0    0          NaN  \n",
       "1     1    0    0    0    0    0    0    0    0          NaN  \n",
       "2     0    0    0    0    1    0    0    0    0          NaN  \n",
       "3     0    0    0    0    0    0    0    0    0          NaN  \n",
       "4     0    0    0    0    0    1    0    0    0          NaN  \n",
       "..  ...  ...  ...  ...  ...  ...  ...  ...  ...          ...  \n",
       "7     0    0    0    0    0    0    0    0    0  5061.679558  \n",
       "8     0    1    0    0    0    0    0    0    0  5164.910534  \n",
       "9     1    0    0    0    0    0    0    0    0  5426.052317  \n",
       "10    0    0    0    0    1    0    0    0    0  5686.112281  \n",
       "11    0    0    0    0    0    0    0    0    0  5861.363154  \n",
       "\n",
       "[136 rows x 20 columns]"
      ]
     },
     "execution_count": 42,
     "metadata": {},
     "output_type": "execute_result"
    }
   ],
   "source": [
    "full_data=pd.concat([monthly_sales,final_test_data])\n",
    "full_data"
   ]
  },
  {
   "cell_type": "code",
   "execution_count": 43,
   "id": "b4dffd10",
   "metadata": {},
   "outputs": [
    {
     "data": {
      "image/png": "[encoded data removed]",
      "text/plain": [
       "<Figure size 432x288 with 1 Axes>"
      ]
     },
     "metadata": {
      "needs_background": "light"
     },
     "output_type": "display_data"
    }
   ],
   "source": [
    "full_data['Sales'].plot()\n",
    "plt.show()"
   ]
  },
  {
   "cell_type": "code",
   "execution_count": 44,
   "id": "9bd0c940",
   "metadata": {},
   "outputs": [
    {
     "data": {
      "image/png": "[encoded data removed]",
      "text/plain": [
       "<Figure size 432x288 with 1 Axes>"
      ]
     },
     "metadata": {
      "needs_background": "light"
     },
     "output_type": "display_data"
    }
   ],
   "source": [
    "full_data['Predicted'].plot()\n",
    "plt.show()"
   ]
  },
  {
   "cell_type": "code",
   "execution_count": 45,
   "id": "3959e959",
   "metadata": {},
   "outputs": [
    {
     "data": {
      "text/plain": [
       "<AxesSubplot:>"
      ]
     },
     "execution_count": 45,
     "metadata": {},
     "output_type": "execute_result"
    },
    {
     "data": {
      "image/png": "[encoded data removed]",
      "text/plain": [
       "<Figure size 432x288 with 1 Axes>"
      ]
     },
     "metadata": {
      "needs_background": "light"
     },
     "output_type": "display_data"
    }
   ],
   "source": [
    "full_data[['Sales','Predicted']].reset_index(drop=True).plot()"
   ]
  },
  {
   "cell_type": "markdown",
   "id": "477fe5ae",
   "metadata": {},
   "source": [
    "## 2. Data Driven Forecasting Techniques"
   ]
  },
  {
   "cell_type": "code",
   "execution_count": 46,
   "id": "bed662e2",
   "metadata": {},
   "outputs": [
    {
     "data": {
      "image/png": "[encoded data removed]",
      "text/plain": [
       "<Figure size 720x432 with 4 Axes>"
      ]
     },
     "metadata": {
      "needs_background": "light"
     },
     "output_type": "display_data"
    }
   ],
   "source": [
    "seasonal_de_compose=seasonal_decompose(monthly_sales['Sales'],period=4)\n",
    "fig=seasonal_de_compose.plot()\n",
    "fig.set_size_inches(10,6)\n",
    "plt.show()"
   ]
  },
  {
   "cell_type": "markdown",
   "id": "0db1c6ea",
   "metadata": {},
   "source": [
    "### Set 1 :"
   ]
  },
  {
   "cell_type": "markdown",
   "id": "3422a539",
   "metadata": {},
   "source": [
    "### Simple Average Model"
   ]
  },
  {
   "cell_type": "code",
   "execution_count": 47,
   "id": "ffb9392f",
   "metadata": {},
   "outputs": [
    {
     "data": {
      "text/html": [
       "<div>\n",
       "<style scoped>\n",
       "    .dataframe tbody tr th:only-of-type {\n",
       "        vertical-align: middle;\n",
       "    }\n",
       "\n",
       "    .dataframe tbody tr th {\n",
       "        vertical-align: top;\n",
       "    }\n",
       "\n",
       "    .dataframe thead th {\n",
       "        text-align: right;\n",
       "    }\n",
       "</style>\n",
       "<table border=\"1\" class=\"dataframe\">\n",
       "  <thead>\n",
       "    <tr style=\"text-align: right;\">\n",
       "      <th></th>\n",
       "      <th>Sales</th>\n",
       "      <th>date</th>\n",
       "      <th>year</th>\n",
       "      <th>month</th>\n",
       "      <th>t</th>\n",
       "      <th>t_square</th>\n",
       "      <th>log_sales</th>\n",
       "      <th>Apr</th>\n",
       "      <th>Aug</th>\n",
       "      <th>Dec</th>\n",
       "      <th>Feb</th>\n",
       "      <th>Jan</th>\n",
       "      <th>Jul</th>\n",
       "      <th>Jun</th>\n",
       "      <th>Mar</th>\n",
       "      <th>May</th>\n",
       "      <th>Nov</th>\n",
       "      <th>Oct</th>\n",
       "      <th>Sep</th>\n",
       "      <th>Simple_Average</th>\n",
       "    </tr>\n",
       "  </thead>\n",
       "  <tbody>\n",
       "    <tr>\n",
       "      <th>0</th>\n",
       "      <td>1793.75</td>\n",
       "      <td>1986-01-31</td>\n",
       "      <td>1986</td>\n",
       "      <td>Jan</td>\n",
       "      <td>1</td>\n",
       "      <td>1</td>\n",
       "      <td>7.492064</td>\n",
       "      <td>0</td>\n",
       "      <td>0</td>\n",
       "      <td>0</td>\n",
       "      <td>0</td>\n",
       "      <td>1</td>\n",
       "      <td>0</td>\n",
       "      <td>0</td>\n",
       "      <td>0</td>\n",
       "      <td>0</td>\n",
       "      <td>0</td>\n",
       "      <td>0</td>\n",
       "      <td>0</td>\n",
       "      <td>NaN</td>\n",
       "    </tr>\n",
       "    <tr>\n",
       "      <th>1</th>\n",
       "      <td>1950.75</td>\n",
       "      <td>1986-02-28</td>\n",
       "      <td>1986</td>\n",
       "      <td>Feb</td>\n",
       "      <td>2</td>\n",
       "      <td>4</td>\n",
       "      <td>7.575969</td>\n",
       "      <td>0</td>\n",
       "      <td>0</td>\n",
       "      <td>0</td>\n",
       "      <td>1</td>\n",
       "      <td>0</td>\n",
       "      <td>0</td>\n",
       "      <td>0</td>\n",
       "      <td>0</td>\n",
       "      <td>0</td>\n",
       "      <td>0</td>\n",
       "      <td>0</td>\n",
       "      <td>0</td>\n",
       "      <td>1794.0</td>\n",
       "    </tr>\n",
       "    <tr>\n",
       "      <th>2</th>\n",
       "      <td>2127.20</td>\n",
       "      <td>1986-03-31</td>\n",
       "      <td>1986</td>\n",
       "      <td>Mar</td>\n",
       "      <td>3</td>\n",
       "      <td>9</td>\n",
       "      <td>7.662562</td>\n",
       "      <td>0</td>\n",
       "      <td>0</td>\n",
       "      <td>0</td>\n",
       "      <td>0</td>\n",
       "      <td>0</td>\n",
       "      <td>0</td>\n",
       "      <td>0</td>\n",
       "      <td>1</td>\n",
       "      <td>0</td>\n",
       "      <td>0</td>\n",
       "      <td>0</td>\n",
       "      <td>0</td>\n",
       "      <td>1872.0</td>\n",
       "    </tr>\n",
       "    <tr>\n",
       "      <th>3</th>\n",
       "      <td>2278.25</td>\n",
       "      <td>1986-04-30</td>\n",
       "      <td>1986</td>\n",
       "      <td>Apr</td>\n",
       "      <td>4</td>\n",
       "      <td>16</td>\n",
       "      <td>7.731163</td>\n",
       "      <td>1</td>\n",
       "      <td>0</td>\n",
       "      <td>0</td>\n",
       "      <td>0</td>\n",
       "      <td>0</td>\n",
       "      <td>0</td>\n",
       "      <td>0</td>\n",
       "      <td>0</td>\n",
       "      <td>0</td>\n",
       "      <td>0</td>\n",
       "      <td>0</td>\n",
       "      <td>0</td>\n",
       "      <td>1957.0</td>\n",
       "    </tr>\n",
       "    <tr>\n",
       "      <th>4</th>\n",
       "      <td>2367.00</td>\n",
       "      <td>1986-05-31</td>\n",
       "      <td>1986</td>\n",
       "      <td>May</td>\n",
       "      <td>5</td>\n",
       "      <td>25</td>\n",
       "      <td>7.769379</td>\n",
       "      <td>0</td>\n",
       "      <td>0</td>\n",
       "      <td>0</td>\n",
       "      <td>0</td>\n",
       "      <td>0</td>\n",
       "      <td>0</td>\n",
       "      <td>0</td>\n",
       "      <td>0</td>\n",
       "      <td>1</td>\n",
       "      <td>0</td>\n",
       "      <td>0</td>\n",
       "      <td>0</td>\n",
       "      <td>2037.0</td>\n",
       "    </tr>\n",
       "  </tbody>\n",
       "</table>\n",
       "</div>"
      ],
      "text/plain": [
       "     Sales       date  year month  t  t_square  log_sales  Apr  Aug  Dec  Feb  \\\n",
       "0  1793.75 1986-01-31  1986   Jan  1         1   7.492064    0    0    0    0   \n",
       "1  1950.75 1986-02-28  1986   Feb  2         4   7.575969    0    0    0    1   \n",
       "2  2127.20 1986-03-31  1986   Mar  3         9   7.662562    0    0    0    0   \n",
       "3  2278.25 1986-04-30  1986   Apr  4        16   7.731163    1    0    0    0   \n",
       "4  2367.00 1986-05-31  1986   May  5        25   7.769379    0    0    0    0   \n",
       "\n",
       "   Jan  Jul  Jun  Mar  May  Nov  Oct  Sep  Simple_Average  \n",
       "0    1    0    0    0    0    0    0    0             NaN  \n",
       "1    0    0    0    0    0    0    0    0          1794.0  \n",
       "2    0    0    0    1    0    0    0    0          1872.0  \n",
       "3    0    0    0    0    0    0    0    0          1957.0  \n",
       "4    0    0    0    0    1    0    0    0          2037.0  "
      ]
     },
     "execution_count": 47,
     "metadata": {},
     "output_type": "execute_result"
    }
   ],
   "source": [
    "monthly_sales['Simple_Average']=pd.Series()\n",
    "for i in range (0,monthly_sales.shape[0]):\n",
    "    avg=np.round(np.mean(monthly_sales['Sales'][:i]))\n",
    "    monthly_sales['Simple_Average'].at[i]=avg\n",
    "monthly_sales.head()"
   ]
  },
  {
   "cell_type": "code",
   "execution_count": 48,
   "id": "094418a4",
   "metadata": {},
   "outputs": [
    {
     "data": {
      "text/html": [
       "<div>\n",
       "<style scoped>\n",
       "    .dataframe tbody tr th:only-of-type {\n",
       "        vertical-align: middle;\n",
       "    }\n",
       "\n",
       "    .dataframe tbody tr th {\n",
       "        vertical-align: top;\n",
       "    }\n",
       "\n",
       "    .dataframe thead th {\n",
       "        text-align: right;\n",
       "    }\n",
       "</style>\n",
       "<table border=\"1\" class=\"dataframe\">\n",
       "  <thead>\n",
       "    <tr style=\"text-align: right;\">\n",
       "      <th></th>\n",
       "      <th>Sales</th>\n",
       "      <th>date</th>\n",
       "      <th>year</th>\n",
       "      <th>month</th>\n",
       "      <th>t</th>\n",
       "      <th>t_square</th>\n",
       "      <th>log_sales</th>\n",
       "      <th>Apr</th>\n",
       "      <th>Aug</th>\n",
       "      <th>Dec</th>\n",
       "      <th>Feb</th>\n",
       "      <th>Jan</th>\n",
       "      <th>Jul</th>\n",
       "      <th>Jun</th>\n",
       "      <th>Mar</th>\n",
       "      <th>May</th>\n",
       "      <th>Nov</th>\n",
       "      <th>Oct</th>\n",
       "      <th>Sep</th>\n",
       "      <th>Simple_Average</th>\n",
       "    </tr>\n",
       "  </thead>\n",
       "  <tbody>\n",
       "    <tr>\n",
       "      <th>0</th>\n",
       "      <td>1793.75</td>\n",
       "      <td>1986-01-31</td>\n",
       "      <td>1986</td>\n",
       "      <td>Jan</td>\n",
       "      <td>1</td>\n",
       "      <td>1</td>\n",
       "      <td>7.492064</td>\n",
       "      <td>0</td>\n",
       "      <td>0</td>\n",
       "      <td>0</td>\n",
       "      <td>0</td>\n",
       "      <td>1</td>\n",
       "      <td>0</td>\n",
       "      <td>0</td>\n",
       "      <td>0</td>\n",
       "      <td>0</td>\n",
       "      <td>0</td>\n",
       "      <td>0</td>\n",
       "      <td>0</td>\n",
       "      <td>0.0</td>\n",
       "    </tr>\n",
       "    <tr>\n",
       "      <th>1</th>\n",
       "      <td>1950.75</td>\n",
       "      <td>1986-02-28</td>\n",
       "      <td>1986</td>\n",
       "      <td>Feb</td>\n",
       "      <td>2</td>\n",
       "      <td>4</td>\n",
       "      <td>7.575969</td>\n",
       "      <td>0</td>\n",
       "      <td>0</td>\n",
       "      <td>0</td>\n",
       "      <td>1</td>\n",
       "      <td>0</td>\n",
       "      <td>0</td>\n",
       "      <td>0</td>\n",
       "      <td>0</td>\n",
       "      <td>0</td>\n",
       "      <td>0</td>\n",
       "      <td>0</td>\n",
       "      <td>0</td>\n",
       "      <td>1794.0</td>\n",
       "    </tr>\n",
       "    <tr>\n",
       "      <th>2</th>\n",
       "      <td>2127.20</td>\n",
       "      <td>1986-03-31</td>\n",
       "      <td>1986</td>\n",
       "      <td>Mar</td>\n",
       "      <td>3</td>\n",
       "      <td>9</td>\n",
       "      <td>7.662562</td>\n",
       "      <td>0</td>\n",
       "      <td>0</td>\n",
       "      <td>0</td>\n",
       "      <td>0</td>\n",
       "      <td>0</td>\n",
       "      <td>0</td>\n",
       "      <td>0</td>\n",
       "      <td>1</td>\n",
       "      <td>0</td>\n",
       "      <td>0</td>\n",
       "      <td>0</td>\n",
       "      <td>0</td>\n",
       "      <td>1872.0</td>\n",
       "    </tr>\n",
       "    <tr>\n",
       "      <th>3</th>\n",
       "      <td>2278.25</td>\n",
       "      <td>1986-04-30</td>\n",
       "      <td>1986</td>\n",
       "      <td>Apr</td>\n",
       "      <td>4</td>\n",
       "      <td>16</td>\n",
       "      <td>7.731163</td>\n",
       "      <td>1</td>\n",
       "      <td>0</td>\n",
       "      <td>0</td>\n",
       "      <td>0</td>\n",
       "      <td>0</td>\n",
       "      <td>0</td>\n",
       "      <td>0</td>\n",
       "      <td>0</td>\n",
       "      <td>0</td>\n",
       "      <td>0</td>\n",
       "      <td>0</td>\n",
       "      <td>0</td>\n",
       "      <td>1957.0</td>\n",
       "    </tr>\n",
       "    <tr>\n",
       "      <th>4</th>\n",
       "      <td>2367.00</td>\n",
       "      <td>1986-05-31</td>\n",
       "      <td>1986</td>\n",
       "      <td>May</td>\n",
       "      <td>5</td>\n",
       "      <td>25</td>\n",
       "      <td>7.769379</td>\n",
       "      <td>0</td>\n",
       "      <td>0</td>\n",
       "      <td>0</td>\n",
       "      <td>0</td>\n",
       "      <td>0</td>\n",
       "      <td>0</td>\n",
       "      <td>0</td>\n",
       "      <td>0</td>\n",
       "      <td>1</td>\n",
       "      <td>0</td>\n",
       "      <td>0</td>\n",
       "      <td>0</td>\n",
       "      <td>2037.0</td>\n",
       "    </tr>\n",
       "  </tbody>\n",
       "</table>\n",
       "</div>"
      ],
      "text/plain": [
       "     Sales       date  year month  t  t_square  log_sales  Apr  Aug  Dec  Feb  \\\n",
       "0  1793.75 1986-01-31  1986   Jan  1         1   7.492064    0    0    0    0   \n",
       "1  1950.75 1986-02-28  1986   Feb  2         4   7.575969    0    0    0    1   \n",
       "2  2127.20 1986-03-31  1986   Mar  3         9   7.662562    0    0    0    0   \n",
       "3  2278.25 1986-04-30  1986   Apr  4        16   7.731163    1    0    0    0   \n",
       "4  2367.00 1986-05-31  1986   May  5        25   7.769379    0    0    0    0   \n",
       "\n",
       "   Jan  Jul  Jun  Mar  May  Nov  Oct  Sep  Simple_Average  \n",
       "0    1    0    0    0    0    0    0    0             0.0  \n",
       "1    0    0    0    0    0    0    0    0          1794.0  \n",
       "2    0    0    0    1    0    0    0    0          1872.0  \n",
       "3    0    0    0    0    0    0    0    0          1957.0  \n",
       "4    0    0    0    0    1    0    0    0          2037.0  "
      ]
     },
     "execution_count": 48,
     "metadata": {},
     "output_type": "execute_result"
    }
   ],
   "source": [
    "monthly_sales=monthly_sales.fillna(0)\n",
    "monthly_sales.head()"
   ]
  },
  {
   "cell_type": "code",
   "execution_count": 49,
   "id": "684393a8",
   "metadata": {},
   "outputs": [
    {
     "data": {
      "text/plain": [
       "953.175"
      ]
     },
     "execution_count": 49,
     "metadata": {},
     "output_type": "execute_result"
    }
   ],
   "source": [
    "rmse_avg=np.round(mean_squared_error(monthly_sales.Sales,monthly_sales.Simple_Average,squared=False),3)\n",
    "rmse_avg"
   ]
  },
  {
   "cell_type": "markdown",
   "id": "334f2226",
   "metadata": {},
   "source": [
    "### Moving Average Model"
   ]
  },
  {
   "cell_type": "code",
   "execution_count": 50,
   "id": "1ff4d6d0",
   "metadata": {},
   "outputs": [
    {
     "data": {
      "image/png": "[encoded data removed]",
      "text/plain": [
       "<Figure size 1008x432 with 1 Axes>"
      ]
     },
     "metadata": {
      "needs_background": "light"
     },
     "output_type": "display_data"
    }
   ],
   "source": [
    "#Plotting Moving average model\n",
    "\n",
    "plt.figure(figsize=(14,6))\n",
    "monthly_sales['Sales'].plot(label='org')\n",
    "for i in range(2,19,4):\n",
    "    monthly_sales['Sales'].rolling(i).mean().plot(label=str(i))\n",
    "plt.legend(loc='lower right',fontsize =15)\n",
    "plt.xticks(np.arange(0,50,10))\n",
    "plt.show()"
   ]
  },
  {
   "cell_type": "code",
   "execution_count": 51,
   "id": "c6170c20",
   "metadata": {},
   "outputs": [],
   "source": [
    "monthly_sales['Moving_Average']=monthly_sales['Sales'].rolling(3).mean().round()"
   ]
  },
  {
   "cell_type": "code",
   "execution_count": 52,
   "id": "9dbee6df",
   "metadata": {},
   "outputs": [
    {
     "data": {
      "text/html": [
       "<div>\n",
       "<style scoped>\n",
       "    .dataframe tbody tr th:only-of-type {\n",
       "        vertical-align: middle;\n",
       "    }\n",
       "\n",
       "    .dataframe tbody tr th {\n",
       "        vertical-align: top;\n",
       "    }\n",
       "\n",
       "    .dataframe thead th {\n",
       "        text-align: right;\n",
       "    }\n",
       "</style>\n",
       "<table border=\"1\" class=\"dataframe\">\n",
       "  <thead>\n",
       "    <tr style=\"text-align: right;\">\n",
       "      <th></th>\n",
       "      <th>Sales</th>\n",
       "      <th>date</th>\n",
       "      <th>year</th>\n",
       "      <th>month</th>\n",
       "      <th>t</th>\n",
       "      <th>t_square</th>\n",
       "      <th>log_sales</th>\n",
       "      <th>Apr</th>\n",
       "      <th>Aug</th>\n",
       "      <th>Dec</th>\n",
       "      <th>...</th>\n",
       "      <th>Jan</th>\n",
       "      <th>Jul</th>\n",
       "      <th>Jun</th>\n",
       "      <th>Mar</th>\n",
       "      <th>May</th>\n",
       "      <th>Nov</th>\n",
       "      <th>Oct</th>\n",
       "      <th>Sep</th>\n",
       "      <th>Simple_Average</th>\n",
       "      <th>Moving_Average</th>\n",
       "    </tr>\n",
       "  </thead>\n",
       "  <tbody>\n",
       "    <tr>\n",
       "      <th>0</th>\n",
       "      <td>1793.75</td>\n",
       "      <td>1986-01-31</td>\n",
       "      <td>1986</td>\n",
       "      <td>Jan</td>\n",
       "      <td>1</td>\n",
       "      <td>1</td>\n",
       "      <td>7.492064</td>\n",
       "      <td>0</td>\n",
       "      <td>0</td>\n",
       "      <td>0</td>\n",
       "      <td>...</td>\n",
       "      <td>1</td>\n",
       "      <td>0</td>\n",
       "      <td>0</td>\n",
       "      <td>0</td>\n",
       "      <td>0</td>\n",
       "      <td>0</td>\n",
       "      <td>0</td>\n",
       "      <td>0</td>\n",
       "      <td>0.0</td>\n",
       "      <td>0.0</td>\n",
       "    </tr>\n",
       "    <tr>\n",
       "      <th>1</th>\n",
       "      <td>1950.75</td>\n",
       "      <td>1986-02-28</td>\n",
       "      <td>1986</td>\n",
       "      <td>Feb</td>\n",
       "      <td>2</td>\n",
       "      <td>4</td>\n",
       "      <td>7.575969</td>\n",
       "      <td>0</td>\n",
       "      <td>0</td>\n",
       "      <td>0</td>\n",
       "      <td>...</td>\n",
       "      <td>0</td>\n",
       "      <td>0</td>\n",
       "      <td>0</td>\n",
       "      <td>0</td>\n",
       "      <td>0</td>\n",
       "      <td>0</td>\n",
       "      <td>0</td>\n",
       "      <td>0</td>\n",
       "      <td>1794.0</td>\n",
       "      <td>0.0</td>\n",
       "    </tr>\n",
       "    <tr>\n",
       "      <th>2</th>\n",
       "      <td>2127.20</td>\n",
       "      <td>1986-03-31</td>\n",
       "      <td>1986</td>\n",
       "      <td>Mar</td>\n",
       "      <td>3</td>\n",
       "      <td>9</td>\n",
       "      <td>7.662562</td>\n",
       "      <td>0</td>\n",
       "      <td>0</td>\n",
       "      <td>0</td>\n",
       "      <td>...</td>\n",
       "      <td>0</td>\n",
       "      <td>0</td>\n",
       "      <td>0</td>\n",
       "      <td>1</td>\n",
       "      <td>0</td>\n",
       "      <td>0</td>\n",
       "      <td>0</td>\n",
       "      <td>0</td>\n",
       "      <td>1872.0</td>\n",
       "      <td>1957.0</td>\n",
       "    </tr>\n",
       "    <tr>\n",
       "      <th>3</th>\n",
       "      <td>2278.25</td>\n",
       "      <td>1986-04-30</td>\n",
       "      <td>1986</td>\n",
       "      <td>Apr</td>\n",
       "      <td>4</td>\n",
       "      <td>16</td>\n",
       "      <td>7.731163</td>\n",
       "      <td>1</td>\n",
       "      <td>0</td>\n",
       "      <td>0</td>\n",
       "      <td>...</td>\n",
       "      <td>0</td>\n",
       "      <td>0</td>\n",
       "      <td>0</td>\n",
       "      <td>0</td>\n",
       "      <td>0</td>\n",
       "      <td>0</td>\n",
       "      <td>0</td>\n",
       "      <td>0</td>\n",
       "      <td>1957.0</td>\n",
       "      <td>2119.0</td>\n",
       "    </tr>\n",
       "    <tr>\n",
       "      <th>4</th>\n",
       "      <td>2367.00</td>\n",
       "      <td>1986-05-31</td>\n",
       "      <td>1986</td>\n",
       "      <td>May</td>\n",
       "      <td>5</td>\n",
       "      <td>25</td>\n",
       "      <td>7.769379</td>\n",
       "      <td>0</td>\n",
       "      <td>0</td>\n",
       "      <td>0</td>\n",
       "      <td>...</td>\n",
       "      <td>0</td>\n",
       "      <td>0</td>\n",
       "      <td>0</td>\n",
       "      <td>0</td>\n",
       "      <td>1</td>\n",
       "      <td>0</td>\n",
       "      <td>0</td>\n",
       "      <td>0</td>\n",
       "      <td>2037.0</td>\n",
       "      <td>2257.0</td>\n",
       "    </tr>\n",
       "  </tbody>\n",
       "</table>\n",
       "<p>5 rows × 21 columns</p>\n",
       "</div>"
      ],
      "text/plain": [
       "     Sales       date  year month  t  t_square  log_sales  Apr  Aug  Dec  ...  \\\n",
       "0  1793.75 1986-01-31  1986   Jan  1         1   7.492064    0    0    0  ...   \n",
       "1  1950.75 1986-02-28  1986   Feb  2         4   7.575969    0    0    0  ...   \n",
       "2  2127.20 1986-03-31  1986   Mar  3         9   7.662562    0    0    0  ...   \n",
       "3  2278.25 1986-04-30  1986   Apr  4        16   7.731163    1    0    0  ...   \n",
       "4  2367.00 1986-05-31  1986   May  5        25   7.769379    0    0    0  ...   \n",
       "\n",
       "   Jan  Jul  Jun  Mar  May  Nov  Oct  Sep  Simple_Average  Moving_Average  \n",
       "0    1    0    0    0    0    0    0    0             0.0             0.0  \n",
       "1    0    0    0    0    0    0    0    0          1794.0             0.0  \n",
       "2    0    0    0    1    0    0    0    0          1872.0          1957.0  \n",
       "3    0    0    0    0    0    0    0    0          1957.0          2119.0  \n",
       "4    0    0    0    0    1    0    0    0          2037.0          2257.0  \n",
       "\n",
       "[5 rows x 21 columns]"
      ]
     },
     "execution_count": 52,
     "metadata": {},
     "output_type": "execute_result"
    }
   ],
   "source": [
    "monthly_sales=monthly_sales.fillna(0)\n",
    "monthly_sales.head()"
   ]
  },
  {
   "cell_type": "code",
   "execution_count": 53,
   "id": "46b1921e",
   "metadata": {},
   "outputs": [
    {
     "data": {
      "text/plain": [
       "268.433"
      ]
     },
     "execution_count": 53,
     "metadata": {},
     "output_type": "execute_result"
    }
   ],
   "source": [
    "rmse_moving_avg=np.round(mean_squared_error(monthly_sales.Sales,monthly_sales.Moving_Average,squared=False),3)\n",
    "rmse_moving_avg"
   ]
  },
  {
   "cell_type": "markdown",
   "id": "1416b044",
   "metadata": {},
   "source": [
    "### Weighted Moving Average Model"
   ]
  },
  {
   "cell_type": "code",
   "execution_count": 54,
   "id": "4b7688c5",
   "metadata": {},
   "outputs": [],
   "source": [
    "weights=[0.2,0.3,0.5]\n",
    "sum_weights=np.sum(weights)"
   ]
  },
  {
   "cell_type": "code",
   "execution_count": 55,
   "id": "4fbeebad",
   "metadata": {},
   "outputs": [],
   "source": [
    "monthly_sales['Weighted_Moving_Average']=monthly_sales['Sales'].rolling(3).apply(lambda x : np.sum(x*weights)/sum_weights,).round()"
   ]
  },
  {
   "cell_type": "code",
   "execution_count": 56,
   "id": "4c01452e",
   "metadata": {},
   "outputs": [
    {
     "data": {
      "text/html": [
       "<div>\n",
       "<style scoped>\n",
       "    .dataframe tbody tr th:only-of-type {\n",
       "        vertical-align: middle;\n",
       "    }\n",
       "\n",
       "    .dataframe tbody tr th {\n",
       "        vertical-align: top;\n",
       "    }\n",
       "\n",
       "    .dataframe thead th {\n",
       "        text-align: right;\n",
       "    }\n",
       "</style>\n",
       "<table border=\"1\" class=\"dataframe\">\n",
       "  <thead>\n",
       "    <tr style=\"text-align: right;\">\n",
       "      <th></th>\n",
       "      <th>Sales</th>\n",
       "      <th>date</th>\n",
       "      <th>year</th>\n",
       "      <th>month</th>\n",
       "      <th>t</th>\n",
       "      <th>t_square</th>\n",
       "      <th>log_sales</th>\n",
       "      <th>Apr</th>\n",
       "      <th>Aug</th>\n",
       "      <th>Dec</th>\n",
       "      <th>...</th>\n",
       "      <th>Jul</th>\n",
       "      <th>Jun</th>\n",
       "      <th>Mar</th>\n",
       "      <th>May</th>\n",
       "      <th>Nov</th>\n",
       "      <th>Oct</th>\n",
       "      <th>Sep</th>\n",
       "      <th>Simple_Average</th>\n",
       "      <th>Moving_Average</th>\n",
       "      <th>Weighted_Moving_Average</th>\n",
       "    </tr>\n",
       "  </thead>\n",
       "  <tbody>\n",
       "    <tr>\n",
       "      <th>0</th>\n",
       "      <td>1793.75</td>\n",
       "      <td>1986-01-31</td>\n",
       "      <td>1986</td>\n",
       "      <td>Jan</td>\n",
       "      <td>1</td>\n",
       "      <td>1</td>\n",
       "      <td>7.492064</td>\n",
       "      <td>0</td>\n",
       "      <td>0</td>\n",
       "      <td>0</td>\n",
       "      <td>...</td>\n",
       "      <td>0</td>\n",
       "      <td>0</td>\n",
       "      <td>0</td>\n",
       "      <td>0</td>\n",
       "      <td>0</td>\n",
       "      <td>0</td>\n",
       "      <td>0</td>\n",
       "      <td>0.0</td>\n",
       "      <td>0.0</td>\n",
       "      <td>0.0</td>\n",
       "    </tr>\n",
       "    <tr>\n",
       "      <th>1</th>\n",
       "      <td>1950.75</td>\n",
       "      <td>1986-02-28</td>\n",
       "      <td>1986</td>\n",
       "      <td>Feb</td>\n",
       "      <td>2</td>\n",
       "      <td>4</td>\n",
       "      <td>7.575969</td>\n",
       "      <td>0</td>\n",
       "      <td>0</td>\n",
       "      <td>0</td>\n",
       "      <td>...</td>\n",
       "      <td>0</td>\n",
       "      <td>0</td>\n",
       "      <td>0</td>\n",
       "      <td>0</td>\n",
       "      <td>0</td>\n",
       "      <td>0</td>\n",
       "      <td>0</td>\n",
       "      <td>1794.0</td>\n",
       "      <td>0.0</td>\n",
       "      <td>0.0</td>\n",
       "    </tr>\n",
       "    <tr>\n",
       "      <th>2</th>\n",
       "      <td>2127.20</td>\n",
       "      <td>1986-03-31</td>\n",
       "      <td>1986</td>\n",
       "      <td>Mar</td>\n",
       "      <td>3</td>\n",
       "      <td>9</td>\n",
       "      <td>7.662562</td>\n",
       "      <td>0</td>\n",
       "      <td>0</td>\n",
       "      <td>0</td>\n",
       "      <td>...</td>\n",
       "      <td>0</td>\n",
       "      <td>0</td>\n",
       "      <td>1</td>\n",
       "      <td>0</td>\n",
       "      <td>0</td>\n",
       "      <td>0</td>\n",
       "      <td>0</td>\n",
       "      <td>1872.0</td>\n",
       "      <td>1957.0</td>\n",
       "      <td>2008.0</td>\n",
       "    </tr>\n",
       "    <tr>\n",
       "      <th>3</th>\n",
       "      <td>2278.25</td>\n",
       "      <td>1986-04-30</td>\n",
       "      <td>1986</td>\n",
       "      <td>Apr</td>\n",
       "      <td>4</td>\n",
       "      <td>16</td>\n",
       "      <td>7.731163</td>\n",
       "      <td>1</td>\n",
       "      <td>0</td>\n",
       "      <td>0</td>\n",
       "      <td>...</td>\n",
       "      <td>0</td>\n",
       "      <td>0</td>\n",
       "      <td>0</td>\n",
       "      <td>0</td>\n",
       "      <td>0</td>\n",
       "      <td>0</td>\n",
       "      <td>0</td>\n",
       "      <td>1957.0</td>\n",
       "      <td>2119.0</td>\n",
       "      <td>2167.0</td>\n",
       "    </tr>\n",
       "    <tr>\n",
       "      <th>4</th>\n",
       "      <td>2367.00</td>\n",
       "      <td>1986-05-31</td>\n",
       "      <td>1986</td>\n",
       "      <td>May</td>\n",
       "      <td>5</td>\n",
       "      <td>25</td>\n",
       "      <td>7.769379</td>\n",
       "      <td>0</td>\n",
       "      <td>0</td>\n",
       "      <td>0</td>\n",
       "      <td>...</td>\n",
       "      <td>0</td>\n",
       "      <td>0</td>\n",
       "      <td>0</td>\n",
       "      <td>1</td>\n",
       "      <td>0</td>\n",
       "      <td>0</td>\n",
       "      <td>0</td>\n",
       "      <td>2037.0</td>\n",
       "      <td>2257.0</td>\n",
       "      <td>2292.0</td>\n",
       "    </tr>\n",
       "  </tbody>\n",
       "</table>\n",
       "<p>5 rows × 22 columns</p>\n",
       "</div>"
      ],
      "text/plain": [
       "     Sales       date  year month  t  t_square  log_sales  Apr  Aug  Dec  ...  \\\n",
       "0  1793.75 1986-01-31  1986   Jan  1         1   7.492064    0    0    0  ...   \n",
       "1  1950.75 1986-02-28  1986   Feb  2         4   7.575969    0    0    0  ...   \n",
       "2  2127.20 1986-03-31  1986   Mar  3         9   7.662562    0    0    0  ...   \n",
       "3  2278.25 1986-04-30  1986   Apr  4        16   7.731163    1    0    0  ...   \n",
       "4  2367.00 1986-05-31  1986   May  5        25   7.769379    0    0    0  ...   \n",
       "\n",
       "   Jul  Jun  Mar  May  Nov  Oct  Sep  Simple_Average  Moving_Average  \\\n",
       "0    0    0    0    0    0    0    0             0.0             0.0   \n",
       "1    0    0    0    0    0    0    0          1794.0             0.0   \n",
       "2    0    0    1    0    0    0    0          1872.0          1957.0   \n",
       "3    0    0    0    0    0    0    0          1957.0          2119.0   \n",
       "4    0    0    0    1    0    0    0          2037.0          2257.0   \n",
       "\n",
       "   Weighted_Moving_Average  \n",
       "0                      0.0  \n",
       "1                      0.0  \n",
       "2                   2008.0  \n",
       "3                   2167.0  \n",
       "4                   2292.0  \n",
       "\n",
       "[5 rows x 22 columns]"
      ]
     },
     "execution_count": 56,
     "metadata": {},
     "output_type": "execute_result"
    }
   ],
   "source": [
    "monthly_sales=monthly_sales.fillna(0)\n",
    "monthly_sales.head()"
   ]
  },
  {
   "cell_type": "code",
   "execution_count": 57,
   "id": "e89c967c",
   "metadata": {},
   "outputs": [
    {
     "data": {
      "text/plain": [
       "253.495"
      ]
     },
     "execution_count": 57,
     "metadata": {},
     "output_type": "execute_result"
    }
   ],
   "source": [
    "rmse_weighted_moving_avg=np.round(mean_squared_error(monthly_sales.Sales,monthly_sales.Weighted_Moving_Average,squared=False),3)\n",
    "rmse_weighted_moving_avg"
   ]
  },
  {
   "cell_type": "markdown",
   "id": "37b241ec",
   "metadata": {},
   "source": [
    "#### Simple Average, Moving average, Weighted Moving average calculation done for finding least RMSE, which is Weighted Moving Average amonth these three."
   ]
  },
  {
   "cell_type": "markdown",
   "id": "dc3d1ba6",
   "metadata": {},
   "source": [
    "### Set - 2"
   ]
  },
  {
   "cell_type": "markdown",
   "id": "d0e06582",
   "metadata": {},
   "source": [
    "### Simple Exponential Smoothing Technique"
   ]
  },
  {
   "cell_type": "code",
   "execution_count": 58,
   "id": "b13a99f9",
   "metadata": {},
   "outputs": [
    {
     "data": {
      "text/plain": [
       "424.476"
      ]
     },
     "execution_count": 58,
     "metadata": {},
     "output_type": "execute_result"
    }
   ],
   "source": [
    "ses=SimpleExpSmoothing(endog=training_data['Sales']).fit(smoothing_level=0.2)\n",
    "\n",
    "pred_ses = ses.predict(start =testing_data.index[0],end=testing_data.index[-1])\n",
    "\n",
    "rmse_ses=np.round(mean_squared_error(testing_data['Sales'],pred_ses,squared=False),3)\n",
    "rmse_ses"
   ]
  },
  {
   "cell_type": "markdown",
   "id": "39ca6f4e",
   "metadata": {},
   "source": [
    "### Holts Technique"
   ]
  },
  {
   "cell_type": "code",
   "execution_count": 59,
   "id": "3fa14321",
   "metadata": {},
   "outputs": [
    {
     "data": {
      "text/plain": [
       "1291.005"
      ]
     },
     "execution_count": 59,
     "metadata": {},
     "output_type": "execute_result"
    }
   ],
   "source": [
    "holt=Holt(endog=training_data['Sales']).fit(smoothing_level=0.8,smoothing_slope=0.2)\n",
    "\n",
    "pred_holt = holt.predict(start =testing_data.index[0],end=testing_data.index[-1])\n",
    "\n",
    "rmse_holt=np.round(mean_squared_error(testing_data['Sales'],pred_holt,squared=False),3)\n",
    "rmse_holt"
   ]
  },
  {
   "cell_type": "markdown",
   "id": "75380582",
   "metadata": {},
   "source": [
    "### Winter's Exponential Technique - Additive Seasonality and Additive Trend"
   ]
  },
  {
   "cell_type": "code",
   "execution_count": 60,
   "id": "644f46da",
   "metadata": {},
   "outputs": [
    {
     "data": {
      "text/plain": [
       "534.226"
      ]
     },
     "execution_count": 60,
     "metadata": {},
     "output_type": "execute_result"
    }
   ],
   "source": [
    "winter_add_add=ExponentialSmoothing(endog=training_data['Sales'],seasonal='add',trend='add',seasonal_periods=12).fit()\n",
    "\n",
    "pred_winter_add_add = winter_add_add.predict(start =testing_data.index[0],end=testing_data.index[-1])\n",
    "\n",
    "rmse_winter_add_add=np.round(mean_squared_error(testing_data['Sales'],pred_winter_add_add,squared=False),3)\n",
    "rmse_winter_add_add"
   ]
  },
  {
   "cell_type": "markdown",
   "id": "c287c5d4",
   "metadata": {},
   "source": [
    "### Winter's Exponential Technique - Multiplicative Seasonality and Additive Trend"
   ]
  },
  {
   "cell_type": "code",
   "execution_count": 61,
   "id": "3fefb3a0",
   "metadata": {},
   "outputs": [
    {
     "data": {
      "text/plain": [
       "92.79"
      ]
     },
     "execution_count": 61,
     "metadata": {},
     "output_type": "execute_result"
    }
   ],
   "source": [
    "winter_mul_add=ExponentialSmoothing(endog=training_data['Sales'],seasonal='mul',trend='add',seasonal_periods=12).fit()\n",
    "\n",
    "pred_winter_mul_add = winter_mul_add.predict(start =testing_data.index[0],end=testing_data.index[-1])\n",
    "\n",
    "rmse_winter_mul_add=np.round(mean_squared_error(testing_data['Sales'],pred_winter_mul_add,squared=False),3)\n",
    "rmse_winter_mul_add"
   ]
  },
  {
   "cell_type": "markdown",
   "id": "3a388087",
   "metadata": {},
   "source": [
    "### Compare the Results"
   ]
  },
  {
   "cell_type": "code",
   "execution_count": 62,
   "id": "e048c9c6",
   "metadata": {},
   "outputs": [
    {
     "data": {
      "text/html": [
       "<div>\n",
       "<style scoped>\n",
       "    .dataframe tbody tr th:only-of-type {\n",
       "        vertical-align: middle;\n",
       "    }\n",
       "\n",
       "    .dataframe tbody tr th {\n",
       "        vertical-align: top;\n",
       "    }\n",
       "\n",
       "    .dataframe thead th {\n",
       "        text-align: right;\n",
       "    }\n",
       "</style>\n",
       "<table border=\"1\" class=\"dataframe\">\n",
       "  <thead>\n",
       "    <tr style=\"text-align: right;\">\n",
       "      <th></th>\n",
       "      <th>MODEL</th>\n",
       "      <th>RMSE</th>\n",
       "    </tr>\n",
       "  </thead>\n",
       "  <tbody>\n",
       "    <tr>\n",
       "      <th>3</th>\n",
       "      <td>Winters Exponential Technique - Multiplicative Seasonality and Additive Trend</td>\n",
       "      <td>92.790</td>\n",
       "    </tr>\n",
       "    <tr>\n",
       "      <th>0</th>\n",
       "      <td>Simple Exponential Smoothing</td>\n",
       "      <td>424.476</td>\n",
       "    </tr>\n",
       "    <tr>\n",
       "      <th>2</th>\n",
       "      <td>Winters Exponential Technique - Additive Seasonality and Additive Trend</td>\n",
       "      <td>534.226</td>\n",
       "    </tr>\n",
       "    <tr>\n",
       "      <th>1</th>\n",
       "      <td>Holts</td>\n",
       "      <td>1291.005</td>\n",
       "    </tr>\n",
       "  </tbody>\n",
       "</table>\n",
       "</div>"
      ],
      "text/plain": [
       "                                                                           MODEL  \\\n",
       "3  Winters Exponential Technique - Multiplicative Seasonality and Additive Trend   \n",
       "0                                                   Simple Exponential Smoothing   \n",
       "2        Winters Exponential Technique - Additive Seasonality and Additive Trend   \n",
       "1                                                                          Holts   \n",
       "\n",
       "       RMSE  \n",
       "3    92.790  \n",
       "0   424.476  \n",
       "2   534.226  \n",
       "1  1291.005  "
      ]
     },
     "execution_count": 62,
     "metadata": {},
     "output_type": "execute_result"
    }
   ],
   "source": [
    "pd.set_option('display.max_colwidth',None)\n",
    "Data_Driven_Results = pd.DataFrame(\n",
    "    data={\"MODEL\":pd.Series(['Simple Exponential Smoothing','Holts','Winters Exponential Technique - Additive Seasonality and Additive Trend','Winters Exponential Technique - Multiplicative Seasonality and Additive Trend']),\n",
    "          \"RMSE\":pd.Series([rmse_ses,rmse_holt,rmse_winter_add_add,rmse_winter_mul_add])})\n",
    "Data_Driven_Results.sort_values('RMSE')"
   ]
  },
  {
   "cell_type": "markdown",
   "id": "a020038b",
   "metadata": {},
   "source": [
    "#### From above table, we consider that Winters Exponential Technique - Multiplicative Seasonality and Additive Trend Model gives Less RMSE Value"
   ]
  },
  {
   "cell_type": "markdown",
   "id": "565ef713",
   "metadata": {},
   "source": [
    "### Build model for Complete Dataset"
   ]
  },
  {
   "cell_type": "code",
   "execution_count": 63,
   "id": "a205d394",
   "metadata": {},
   "outputs": [
    {
     "data": {
      "text/plain": [
       "124    5231.499542\n",
       "125    5193.459792\n",
       "126    5075.518225\n",
       "127    4866.356749\n",
       "128    4688.438131\n",
       "129    4561.598267\n",
       "130    4514.391711\n",
       "131    4468.241970\n",
       "132    4595.030616\n",
       "133    4986.976996\n",
       "134    5388.391149\n",
       "135    5648.814808\n",
       "dtype: float64"
      ]
     },
     "execution_count": 63,
     "metadata": {},
     "output_type": "execute_result"
    }
   ],
   "source": [
    "winter_mul_add_final=ExponentialSmoothing(endog=monthly_sales['Sales'],seasonal='mul',trend='add',seasonal_periods=12).fit()\n",
    "winter_mul_add_final.forecast(12)"
   ]
  },
  {
   "cell_type": "markdown",
   "id": "732052f3",
   "metadata": {},
   "source": [
    "## 3. ARIMA"
   ]
  },
  {
   "cell_type": "markdown",
   "id": "6e7aa3ee",
   "metadata": {},
   "source": [
    "### Evaluate Arima Model"
   ]
  },
  {
   "cell_type": "code",
   "execution_count": 64,
   "id": "73e4ef25",
   "metadata": {},
   "outputs": [],
   "source": [
    "def evaluate_arima_model(X,arima_order):\n",
    "    train_size=int(len(X)*0.5)\n",
    "    train,test = X[0:train_size],X[train_size:]\n",
    "    history = [i for i in train]\n",
    "    predictions = list()\n",
    "    for t in range(0,len(test)):\n",
    "        model = ARIMA(endog =history,order = arima_order).fit(disp=0)\n",
    "        yhat  = model.forecast()[0]\n",
    "        predictions.append(yhat)\n",
    "        history.append(test[t])\n",
    "    RMSE = mean_squared_error(test, predictions,squared=False)\n",
    "    return RMSE"
   ]
  },
  {
   "cell_type": "markdown",
   "id": "41201803",
   "metadata": {},
   "source": [
    "### Grid Search for ARIMA Order"
   ]
  },
  {
   "cell_type": "code",
   "execution_count": 65,
   "id": "cec17572",
   "metadata": {},
   "outputs": [],
   "source": [
    "def evaluate_order(dataset, p_values, q_values, d_values):\n",
    "    dataset = dataset.astype('float32')\n",
    "    best_score,best_order = float('inf'),None\n",
    "    for p in p_values:\n",
    "        for q in q_values:\n",
    "            for d in d_values:\n",
    "                try:\n",
    "                    order = (p,q,d)\n",
    "                    rmse = evaluate_arima_model(dataset,order)\n",
    "                    print(f\"RMSE is {rmse} and Order is {order}\")\n",
    "                    if rmse < best_score:\n",
    "                        best_score,best_order = rmse,order\n",
    "                except:\n",
    "                    continue\n",
    "    print(f\"Best Score is {best_score} and Best Order is {best_order}\")         "
   ]
  },
  {
   "cell_type": "code",
   "execution_count": 66,
   "id": "e60911a5",
   "metadata": {},
   "outputs": [
    {
     "data": {
      "text/plain": [
       "((112,), (12,))"
      ]
     },
     "execution_count": 66,
     "metadata": {},
     "output_type": "execute_result"
    }
   ],
   "source": [
    "data = monthly_sales.iloc[:,0]\n",
    "data = data.values\n",
    "train_size=int(len(data)-12)\n",
    "train_data,test_data = data[0:train_size],data[train_size:]\n",
    "train_data.shape,test_data.shape"
   ]
  },
  {
   "cell_type": "code",
   "execution_count": 67,
   "id": "883e912a",
   "metadata": {},
   "outputs": [
    {
     "name": "stdout",
     "output_type": "stream",
     "text": [
      "RMSE is 1100.2271975468661 and Order is (0, 0, 0)\n",
      "RMSE is 579.3980358423278 and Order is (0, 0, 1)\n",
      "RMSE is 142.53257537127035 and Order is (0, 1, 0)\n",
      "RMSE is 89.95716116119266 and Order is (0, 1, 1)\n",
      "RMSE is 95.94314208871043 and Order is (0, 2, 0)\n",
      "RMSE is 82.33593195449872 and Order is (0, 2, 1)\n",
      "RMSE is 86.18850136701367 and Order is (0, 2, 2)\n",
      "RMSE is 65.7222670238618 and Order is (0, 2, 3)\n",
      "RMSE is 149.9667104163374 and Order is (1, 0, 0)\n",
      "RMSE is 91.09302392442262 and Order is (1, 1, 0)\n",
      "RMSE is 74.82517097674523 and Order is (1, 1, 1)\n",
      "RMSE is 64.31390947666218 and Order is (1, 1, 2)\n",
      "RMSE is 66.67704084428989 and Order is (1, 1, 3)\n",
      "RMSE is 88.01604573315147 and Order is (1, 2, 0)\n",
      "RMSE is 83.35198356349812 and Order is (1, 2, 1)\n",
      "RMSE is 99.31089010175411 and Order is (2, 0, 0)\n",
      "RMSE is 80.71405200282132 and Order is (2, 0, 1)\n",
      "RMSE is 68.18036526487593 and Order is (2, 0, 2)\n",
      "RMSE is 69.9933549247185 and Order is (2, 0, 3)\n",
      "RMSE is 71.04366403348547 and Order is (2, 1, 0)\n",
      "RMSE is 71.81153162321384 and Order is (2, 1, 1)\n",
      "RMSE is 66.33624347624439 and Order is (2, 1, 2)\n",
      "RMSE is 64.54957956740701 and Order is (2, 1, 3)\n",
      "RMSE is 81.65004118254417 and Order is (2, 2, 0)\n",
      "RMSE is 74.49162735267889 and Order is (2, 2, 1)\n",
      "RMSE is 72.58460141046251 and Order is (2, 2, 2)\n",
      "RMSE is 74.5927806752188 and Order is (3, 0, 0)\n",
      "RMSE is 71.91821697681125 and Order is (3, 1, 0)\n",
      "RMSE is 73.89275274270662 and Order is (3, 1, 1)\n",
      "RMSE is 67.1076824451046 and Order is (3, 1, 2)\n",
      "RMSE is 61.524212247172464 and Order is (3, 1, 3)\n",
      "RMSE is 82.56868306325683 and Order is (3, 2, 0)\n",
      "RMSE is 80.46673182738296 and Order is (3, 2, 1)\n",
      "Best Score is 61.524212247172464 and Best Order is (3, 1, 3)\n"
     ]
    }
   ],
   "source": [
    "p_values = range(0,4)\n",
    "q_values = range(0,4)\n",
    "d_values = range(0,4)\n",
    "warnings.filterwarnings('ignore')\n",
    "evaluate_order(train_data,p_values, q_values, d_values)"
   ]
  },
  {
   "cell_type": "markdown",
   "id": "5adfa3b5",
   "metadata": {},
   "source": [
    "### Build Model based on Optimum Arima Order"
   ]
  },
  {
   "cell_type": "code",
   "execution_count": 68,
   "id": "43fcd824",
   "metadata": {},
   "outputs": [],
   "source": [
    "model_final = ARIMA(train_data,(3, 1, 3)).fit()"
   ]
  },
  {
   "cell_type": "code",
   "execution_count": 69,
   "id": "5df6bb5a",
   "metadata": {},
   "outputs": [
    {
     "data": {
      "text/plain": [
       "array([4891., 4795., 4644., 4526., 4459., 4451., 4487., 4548., 4614.,\n",
       "       4670., 4713., 4741.])"
      ]
     },
     "execution_count": 69,
     "metadata": {},
     "output_type": "execute_result"
    }
   ],
   "source": [
    "forecast=model_final.forecast(12)[0].round()\n",
    "forecast"
   ]
  },
  {
   "cell_type": "code",
   "execution_count": 70,
   "id": "55f48fda",
   "metadata": {},
   "outputs": [
    {
     "data": {
      "text/plain": [
       "array([4915.5 , 4902.75, 4808.6 , 4614.  , 4441.  , 4313.  , 4268.5 ,\n",
       "       4224.  , 4316.  , 4642.  , 5008.8 , 5253.  ])"
      ]
     },
     "execution_count": 70,
     "metadata": {},
     "output_type": "execute_result"
    }
   ],
   "source": [
    "test_data"
   ]
  },
  {
   "cell_type": "code",
   "execution_count": 71,
   "id": "01b33ab1",
   "metadata": {},
   "outputs": [
    {
     "data": {
      "image/png": "[encoded data removed]",
      "text/plain": [
       "<Figure size 720x432 with 1 Axes>"
      ]
     },
     "metadata": {
      "needs_background": "light"
     },
     "output_type": "display_data"
    }
   ],
   "source": [
    "fig=model_final.plot_predict()\n",
    "fig.set_size_inches(10,6)\n",
    "plt.show()"
   ]
  },
  {
   "cell_type": "code",
   "execution_count": 72,
   "id": "2d171de3",
   "metadata": {},
   "outputs": [
    {
     "data": {
      "text/plain": [
       "234.0"
      ]
     },
     "execution_count": 72,
     "metadata": {},
     "output_type": "execute_result"
    }
   ],
   "source": [
    "RMSE_Optimum = np.round(mean_squared_error(test_data,forecast,squared=False))\n",
    "RMSE_Optimum"
   ]
  },
  {
   "cell_type": "markdown",
   "id": "aa571b8c",
   "metadata": {},
   "source": [
    "#### RMSE by ARIMA Model is 234"
   ]
  },
  {
   "cell_type": "markdown",
   "id": "f4899fe6",
   "metadata": {},
   "source": [
    "### Evaluate for complete dataset"
   ]
  },
  {
   "cell_type": "code",
   "execution_count": 73,
   "id": "0eb73d7f",
   "metadata": {},
   "outputs": [],
   "source": [
    "model_final_full_dataset = ARIMA(data,(3, 2, 0)).fit()"
   ]
  },
  {
   "cell_type": "code",
   "execution_count": 74,
   "id": "6a8248f8",
   "metadata": {},
   "outputs": [
    {
     "data": {
      "text/plain": [
       "array([5399., 5530., 5692., 5883., 6081., 6272., 6455., 6636., 6820.,\n",
       "       7005., 7192., 7380.])"
      ]
     },
     "execution_count": 74,
     "metadata": {},
     "output_type": "execute_result"
    }
   ],
   "source": [
    "forecast=model_final_full_dataset.forecast(12)[0].round()\n",
    "forecast"
   ]
  },
  {
   "cell_type": "code",
   "execution_count": 75,
   "id": "60744dcd",
   "metadata": {},
   "outputs": [
    {
     "data": {
      "image/png": "[encoded data removed]",
      "text/plain": [
       "<Figure size 720x432 with 1 Axes>"
      ]
     },
     "metadata": {
      "needs_background": "light"
     },
     "output_type": "display_data"
    }
   ],
   "source": [
    "fig=model_final_full_dataset.plot_predict(2,136)\n",
    "fig.set_size_inches(10,6)\n",
    "plt.show()"
   ]
  },
  {
   "cell_type": "markdown",
   "id": "ed0deeb5",
   "metadata": {},
   "source": [
    "### End !!!"
   ]
  }
 ],
 "metadata": {
  "kernelspec": {
   "display_name": "Python 3 (ipykernel)",
   "language": "python",
   "name": "python3"
  },
  "language_info": {
   "codemirror_mode": {
    "name": "ipython",
    "version": 3
   },
   "file_extension": ".py",
   "mimetype": "text/x-python",
   "name": "python",
   "nbconvert_exporter": "python",
   "pygments_lexer": "ipython3",
   "version": "3.9.7"
  }
 },
 "nbformat": 4,
 "nbformat_minor": 5
}
