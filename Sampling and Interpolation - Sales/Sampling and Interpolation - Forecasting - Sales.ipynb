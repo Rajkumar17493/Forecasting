{
 "cells": [
  {
   "cell_type": "markdown",
   "id": "ed831c6a",
   "metadata": {},
   "source": [
    "### Import Libraries"
   ]
  },
  {
   "cell_type": "code",
   "execution_count": 1,
   "id": "6098601f",
   "metadata": {},
   "outputs": [],
   "source": [
    "import pandas as pd\n",
    "from matplotlib import pyplot as plt"
   ]
  },
  {
   "cell_type": "markdown",
   "id": "fc9e8b9c",
   "metadata": {},
   "source": [
    "### Import Data"
   ]
  },
  {
   "cell_type": "code",
   "execution_count": 2,
   "id": "fead7347",
   "metadata": {},
   "outputs": [
    {
     "data": {
      "text/html": [
       "<div>\n",
       "<style scoped>\n",
       "    .dataframe tbody tr th:only-of-type {\n",
       "        vertical-align: middle;\n",
       "    }\n",
       "\n",
       "    .dataframe tbody tr th {\n",
       "        vertical-align: top;\n",
       "    }\n",
       "\n",
       "    .dataframe thead th {\n",
       "        text-align: right;\n",
       "    }\n",
       "</style>\n",
       "<table border=\"1\" class=\"dataframe\">\n",
       "  <thead>\n",
       "    <tr style=\"text-align: right;\">\n",
       "      <th></th>\n",
       "      <th>Sales</th>\n",
       "    </tr>\n",
       "    <tr>\n",
       "      <th>Month</th>\n",
       "      <th></th>\n",
       "    </tr>\n",
       "  </thead>\n",
       "  <tbody>\n",
       "    <tr>\n",
       "      <th>1990-01-01</th>\n",
       "      <td>266.0</td>\n",
       "    </tr>\n",
       "    <tr>\n",
       "      <th>1990-02-01</th>\n",
       "      <td>145.9</td>\n",
       "    </tr>\n",
       "    <tr>\n",
       "      <th>1990-03-01</th>\n",
       "      <td>183.1</td>\n",
       "    </tr>\n",
       "    <tr>\n",
       "      <th>1990-04-01</th>\n",
       "      <td>119.3</td>\n",
       "    </tr>\n",
       "    <tr>\n",
       "      <th>1990-05-01</th>\n",
       "      <td>180.3</td>\n",
       "    </tr>\n",
       "    <tr>\n",
       "      <th>1990-06-01</th>\n",
       "      <td>168.5</td>\n",
       "    </tr>\n",
       "    <tr>\n",
       "      <th>1990-07-01</th>\n",
       "      <td>231.8</td>\n",
       "    </tr>\n",
       "    <tr>\n",
       "      <th>1990-08-01</th>\n",
       "      <td>224.5</td>\n",
       "    </tr>\n",
       "    <tr>\n",
       "      <th>1990-09-01</th>\n",
       "      <td>192.8</td>\n",
       "    </tr>\n",
       "    <tr>\n",
       "      <th>1990-10-01</th>\n",
       "      <td>122.9</td>\n",
       "    </tr>\n",
       "    <tr>\n",
       "      <th>1990-11-01</th>\n",
       "      <td>336.5</td>\n",
       "    </tr>\n",
       "    <tr>\n",
       "      <th>1990-12-01</th>\n",
       "      <td>185.9</td>\n",
       "    </tr>\n",
       "    <tr>\n",
       "      <th>1991-01-01</th>\n",
       "      <td>194.3</td>\n",
       "    </tr>\n",
       "    <tr>\n",
       "      <th>1991-02-01</th>\n",
       "      <td>149.5</td>\n",
       "    </tr>\n",
       "    <tr>\n",
       "      <th>1991-03-01</th>\n",
       "      <td>210.1</td>\n",
       "    </tr>\n",
       "    <tr>\n",
       "      <th>1991-04-01</th>\n",
       "      <td>273.3</td>\n",
       "    </tr>\n",
       "    <tr>\n",
       "      <th>1991-05-01</th>\n",
       "      <td>191.4</td>\n",
       "    </tr>\n",
       "    <tr>\n",
       "      <th>1991-06-01</th>\n",
       "      <td>287.0</td>\n",
       "    </tr>\n",
       "    <tr>\n",
       "      <th>1991-07-01</th>\n",
       "      <td>226.0</td>\n",
       "    </tr>\n",
       "    <tr>\n",
       "      <th>1991-08-01</th>\n",
       "      <td>303.6</td>\n",
       "    </tr>\n",
       "    <tr>\n",
       "      <th>1991-09-01</th>\n",
       "      <td>289.9</td>\n",
       "    </tr>\n",
       "    <tr>\n",
       "      <th>1991-10-01</th>\n",
       "      <td>421.6</td>\n",
       "    </tr>\n",
       "    <tr>\n",
       "      <th>1991-11-01</th>\n",
       "      <td>264.5</td>\n",
       "    </tr>\n",
       "    <tr>\n",
       "      <th>1991-12-01</th>\n",
       "      <td>342.3</td>\n",
       "    </tr>\n",
       "    <tr>\n",
       "      <th>1992-01-01</th>\n",
       "      <td>339.7</td>\n",
       "    </tr>\n",
       "    <tr>\n",
       "      <th>1992-02-01</th>\n",
       "      <td>440.4</td>\n",
       "    </tr>\n",
       "    <tr>\n",
       "      <th>1992-03-01</th>\n",
       "      <td>315.9</td>\n",
       "    </tr>\n",
       "    <tr>\n",
       "      <th>1992-04-01</th>\n",
       "      <td>439.3</td>\n",
       "    </tr>\n",
       "    <tr>\n",
       "      <th>1992-05-01</th>\n",
       "      <td>401.3</td>\n",
       "    </tr>\n",
       "    <tr>\n",
       "      <th>1992-06-01</th>\n",
       "      <td>437.4</td>\n",
       "    </tr>\n",
       "    <tr>\n",
       "      <th>1992-07-01</th>\n",
       "      <td>575.5</td>\n",
       "    </tr>\n",
       "    <tr>\n",
       "      <th>1992-08-01</th>\n",
       "      <td>407.6</td>\n",
       "    </tr>\n",
       "    <tr>\n",
       "      <th>1992-09-01</th>\n",
       "      <td>682.0</td>\n",
       "    </tr>\n",
       "    <tr>\n",
       "      <th>1992-10-01</th>\n",
       "      <td>475.3</td>\n",
       "    </tr>\n",
       "    <tr>\n",
       "      <th>1992-11-01</th>\n",
       "      <td>581.3</td>\n",
       "    </tr>\n",
       "    <tr>\n",
       "      <th>1992-12-01</th>\n",
       "      <td>646.9</td>\n",
       "    </tr>\n",
       "  </tbody>\n",
       "</table>\n",
       "</div>"
      ],
      "text/plain": [
       "            Sales\n",
       "Month            \n",
       "1990-01-01  266.0\n",
       "1990-02-01  145.9\n",
       "1990-03-01  183.1\n",
       "1990-04-01  119.3\n",
       "1990-05-01  180.3\n",
       "1990-06-01  168.5\n",
       "1990-07-01  231.8\n",
       "1990-08-01  224.5\n",
       "1990-09-01  192.8\n",
       "1990-10-01  122.9\n",
       "1990-11-01  336.5\n",
       "1990-12-01  185.9\n",
       "1991-01-01  194.3\n",
       "1991-02-01  149.5\n",
       "1991-03-01  210.1\n",
       "1991-04-01  273.3\n",
       "1991-05-01  191.4\n",
       "1991-06-01  287.0\n",
       "1991-07-01  226.0\n",
       "1991-08-01  303.6\n",
       "1991-09-01  289.9\n",
       "1991-10-01  421.6\n",
       "1991-11-01  264.5\n",
       "1991-12-01  342.3\n",
       "1992-01-01  339.7\n",
       "1992-02-01  440.4\n",
       "1992-03-01  315.9\n",
       "1992-04-01  439.3\n",
       "1992-05-01  401.3\n",
       "1992-06-01  437.4\n",
       "1992-07-01  575.5\n",
       "1992-08-01  407.6\n",
       "1992-09-01  682.0\n",
       "1992-10-01  475.3\n",
       "1992-11-01  581.3\n",
       "1992-12-01  646.9"
      ]
     },
     "execution_count": 2,
     "metadata": {},
     "output_type": "execute_result"
    }
   ],
   "source": [
    "sales=pd.read_csv('sales.csv',index_col=0,parse_dates=True)\n",
    "sales"
   ]
  },
  {
   "cell_type": "markdown",
   "id": "f918b631",
   "metadata": {},
   "source": [
    "### Data Understanding"
   ]
  },
  {
   "cell_type": "code",
   "execution_count": 3,
   "id": "7320c7b3",
   "metadata": {},
   "outputs": [
    {
     "data": {
      "text/plain": [
       "(36, 1)"
      ]
     },
     "execution_count": 3,
     "metadata": {},
     "output_type": "execute_result"
    }
   ],
   "source": [
    "sales.shape"
   ]
  },
  {
   "cell_type": "code",
   "execution_count": 4,
   "id": "518a1ecf",
   "metadata": {},
   "outputs": [
    {
     "data": {
      "text/plain": [
       "Sales    0\n",
       "dtype: int64"
      ]
     },
     "execution_count": 4,
     "metadata": {},
     "output_type": "execute_result"
    }
   ],
   "source": [
    "sales.isna().sum()"
   ]
  },
  {
   "cell_type": "code",
   "execution_count": 5,
   "id": "37fdff97",
   "metadata": {},
   "outputs": [
    {
     "data": {
      "text/plain": [
       "Sales    float64\n",
       "dtype: object"
      ]
     },
     "execution_count": 5,
     "metadata": {},
     "output_type": "execute_result"
    }
   ],
   "source": [
    "sales.dtypes"
   ]
  },
  {
   "cell_type": "markdown",
   "id": "3c98a54f",
   "metadata": {},
   "source": [
    "### Data Preprocessing"
   ]
  },
  {
   "cell_type": "markdown",
   "id": "34ddfced",
   "metadata": {},
   "source": [
    "### Up Sampling"
   ]
  },
  {
   "cell_type": "code",
   "execution_count": 6,
   "id": "5fa0b6f0",
   "metadata": {},
   "outputs": [
    {
     "data": {
      "text/html": [
       "<div>\n",
       "<style scoped>\n",
       "    .dataframe tbody tr th:only-of-type {\n",
       "        vertical-align: middle;\n",
       "    }\n",
       "\n",
       "    .dataframe tbody tr th {\n",
       "        vertical-align: top;\n",
       "    }\n",
       "\n",
       "    .dataframe thead th {\n",
       "        text-align: right;\n",
       "    }\n",
       "</style>\n",
       "<table border=\"1\" class=\"dataframe\">\n",
       "  <thead>\n",
       "    <tr style=\"text-align: right;\">\n",
       "      <th></th>\n",
       "      <th>Sales</th>\n",
       "    </tr>\n",
       "    <tr>\n",
       "      <th>Month</th>\n",
       "      <th></th>\n",
       "    </tr>\n",
       "  </thead>\n",
       "  <tbody>\n",
       "    <tr>\n",
       "      <th>1990-01-01</th>\n",
       "      <td>266.0</td>\n",
       "    </tr>\n",
       "    <tr>\n",
       "      <th>1990-01-02</th>\n",
       "      <td>NaN</td>\n",
       "    </tr>\n",
       "    <tr>\n",
       "      <th>1990-01-03</th>\n",
       "      <td>NaN</td>\n",
       "    </tr>\n",
       "    <tr>\n",
       "      <th>1990-01-04</th>\n",
       "      <td>NaN</td>\n",
       "    </tr>\n",
       "    <tr>\n",
       "      <th>1990-01-05</th>\n",
       "      <td>NaN</td>\n",
       "    </tr>\n",
       "    <tr>\n",
       "      <th>...</th>\n",
       "      <td>...</td>\n",
       "    </tr>\n",
       "    <tr>\n",
       "      <th>1992-11-27</th>\n",
       "      <td>NaN</td>\n",
       "    </tr>\n",
       "    <tr>\n",
       "      <th>1992-11-28</th>\n",
       "      <td>NaN</td>\n",
       "    </tr>\n",
       "    <tr>\n",
       "      <th>1992-11-29</th>\n",
       "      <td>NaN</td>\n",
       "    </tr>\n",
       "    <tr>\n",
       "      <th>1992-11-30</th>\n",
       "      <td>NaN</td>\n",
       "    </tr>\n",
       "    <tr>\n",
       "      <th>1992-12-01</th>\n",
       "      <td>646.9</td>\n",
       "    </tr>\n",
       "  </tbody>\n",
       "</table>\n",
       "<p>1066 rows × 1 columns</p>\n",
       "</div>"
      ],
      "text/plain": [
       "            Sales\n",
       "Month            \n",
       "1990-01-01  266.0\n",
       "1990-01-02    NaN\n",
       "1990-01-03    NaN\n",
       "1990-01-04    NaN\n",
       "1990-01-05    NaN\n",
       "...           ...\n",
       "1992-11-27    NaN\n",
       "1992-11-28    NaN\n",
       "1992-11-29    NaN\n",
       "1992-11-30    NaN\n",
       "1992-12-01  646.9\n",
       "\n",
       "[1066 rows x 1 columns]"
      ]
     },
     "execution_count": 6,
     "metadata": {},
     "output_type": "execute_result"
    }
   ],
   "source": [
    "sales_day=sales.resample('D').mean()\n",
    "sales_day"
   ]
  },
  {
   "cell_type": "code",
   "execution_count": 7,
   "id": "296aeeeb",
   "metadata": {},
   "outputs": [
    {
     "data": {
      "text/html": [
       "<div>\n",
       "<style scoped>\n",
       "    .dataframe tbody tr th:only-of-type {\n",
       "        vertical-align: middle;\n",
       "    }\n",
       "\n",
       "    .dataframe tbody tr th {\n",
       "        vertical-align: top;\n",
       "    }\n",
       "\n",
       "    .dataframe thead th {\n",
       "        text-align: right;\n",
       "    }\n",
       "</style>\n",
       "<table border=\"1\" class=\"dataframe\">\n",
       "  <thead>\n",
       "    <tr style=\"text-align: right;\">\n",
       "      <th></th>\n",
       "      <th>Sales</th>\n",
       "    </tr>\n",
       "    <tr>\n",
       "      <th>Month</th>\n",
       "      <th></th>\n",
       "    </tr>\n",
       "  </thead>\n",
       "  <tbody>\n",
       "    <tr>\n",
       "      <th>1990-01-01</th>\n",
       "      <td>266.0</td>\n",
       "    </tr>\n",
       "    <tr>\n",
       "      <th>1990-01-02</th>\n",
       "      <td>262.0</td>\n",
       "    </tr>\n",
       "    <tr>\n",
       "      <th>1990-01-03</th>\n",
       "      <td>258.0</td>\n",
       "    </tr>\n",
       "    <tr>\n",
       "      <th>1990-01-04</th>\n",
       "      <td>254.0</td>\n",
       "    </tr>\n",
       "    <tr>\n",
       "      <th>1990-01-05</th>\n",
       "      <td>251.0</td>\n",
       "    </tr>\n",
       "    <tr>\n",
       "      <th>...</th>\n",
       "      <td>...</td>\n",
       "    </tr>\n",
       "    <tr>\n",
       "      <th>1992-11-27</th>\n",
       "      <td>638.0</td>\n",
       "    </tr>\n",
       "    <tr>\n",
       "      <th>1992-11-28</th>\n",
       "      <td>640.0</td>\n",
       "    </tr>\n",
       "    <tr>\n",
       "      <th>1992-11-29</th>\n",
       "      <td>643.0</td>\n",
       "    </tr>\n",
       "    <tr>\n",
       "      <th>1992-11-30</th>\n",
       "      <td>645.0</td>\n",
       "    </tr>\n",
       "    <tr>\n",
       "      <th>1992-12-01</th>\n",
       "      <td>647.0</td>\n",
       "    </tr>\n",
       "  </tbody>\n",
       "</table>\n",
       "<p>1066 rows × 1 columns</p>\n",
       "</div>"
      ],
      "text/plain": [
       "            Sales\n",
       "Month            \n",
       "1990-01-01  266.0\n",
       "1990-01-02  262.0\n",
       "1990-01-03  258.0\n",
       "1990-01-04  254.0\n",
       "1990-01-05  251.0\n",
       "...           ...\n",
       "1992-11-27  638.0\n",
       "1992-11-28  640.0\n",
       "1992-11-29  643.0\n",
       "1992-11-30  645.0\n",
       "1992-12-01  647.0\n",
       "\n",
       "[1066 rows x 1 columns]"
      ]
     },
     "execution_count": 7,
     "metadata": {},
     "output_type": "execute_result"
    }
   ],
   "source": [
    "sales_week=sales_day.interpolate(method='linear').round()\n",
    "sales_week"
   ]
  },
  {
   "cell_type": "markdown",
   "id": "4528e12d",
   "metadata": {},
   "source": [
    "### Down sampling"
   ]
  },
  {
   "cell_type": "code",
   "execution_count": 8,
   "id": "08b090e8",
   "metadata": {},
   "outputs": [
    {
     "data": {
      "text/html": [
       "<div>\n",
       "<style scoped>\n",
       "    .dataframe tbody tr th:only-of-type {\n",
       "        vertical-align: middle;\n",
       "    }\n",
       "\n",
       "    .dataframe tbody tr th {\n",
       "        vertical-align: top;\n",
       "    }\n",
       "\n",
       "    .dataframe thead th {\n",
       "        text-align: right;\n",
       "    }\n",
       "</style>\n",
       "<table border=\"1\" class=\"dataframe\">\n",
       "  <thead>\n",
       "    <tr style=\"text-align: right;\">\n",
       "      <th></th>\n",
       "      <th>Sales</th>\n",
       "    </tr>\n",
       "    <tr>\n",
       "      <th>Month</th>\n",
       "      <th></th>\n",
       "    </tr>\n",
       "  </thead>\n",
       "  <tbody>\n",
       "    <tr>\n",
       "      <th>1990-01-07</th>\n",
       "      <td>254.428571</td>\n",
       "    </tr>\n",
       "    <tr>\n",
       "      <th>1990-01-14</th>\n",
       "      <td>227.285714</td>\n",
       "    </tr>\n",
       "    <tr>\n",
       "      <th>1990-01-21</th>\n",
       "      <td>200.142857</td>\n",
       "    </tr>\n",
       "    <tr>\n",
       "      <th>1990-01-28</th>\n",
       "      <td>173.000000</td>\n",
       "    </tr>\n",
       "    <tr>\n",
       "      <th>1990-02-04</th>\n",
       "      <td>150.571429</td>\n",
       "    </tr>\n",
       "    <tr>\n",
       "      <th>...</th>\n",
       "      <td>...</td>\n",
       "    </tr>\n",
       "    <tr>\n",
       "      <th>1992-11-08</th>\n",
       "      <td>590.000000</td>\n",
       "    </tr>\n",
       "    <tr>\n",
       "      <th>1992-11-15</th>\n",
       "      <td>605.428571</td>\n",
       "    </tr>\n",
       "    <tr>\n",
       "      <th>1992-11-22</th>\n",
       "      <td>620.571429</td>\n",
       "    </tr>\n",
       "    <tr>\n",
       "      <th>1992-11-29</th>\n",
       "      <td>636.000000</td>\n",
       "    </tr>\n",
       "    <tr>\n",
       "      <th>1992-12-06</th>\n",
       "      <td>646.000000</td>\n",
       "    </tr>\n",
       "  </tbody>\n",
       "</table>\n",
       "<p>153 rows × 1 columns</p>\n",
       "</div>"
      ],
      "text/plain": [
       "                 Sales\n",
       "Month                 \n",
       "1990-01-07  254.428571\n",
       "1990-01-14  227.285714\n",
       "1990-01-21  200.142857\n",
       "1990-01-28  173.000000\n",
       "1990-02-04  150.571429\n",
       "...                ...\n",
       "1992-11-08  590.000000\n",
       "1992-11-15  605.428571\n",
       "1992-11-22  620.571429\n",
       "1992-11-29  636.000000\n",
       "1992-12-06  646.000000\n",
       "\n",
       "[153 rows x 1 columns]"
      ]
     },
     "execution_count": 8,
     "metadata": {},
     "output_type": "execute_result"
    }
   ],
   "source": [
    "weekly_sales=sales_week.resample('W').mean()\n",
    "weekly_sales"
   ]
  },
  {
   "cell_type": "markdown",
   "id": "191e846c",
   "metadata": {},
   "source": [
    "### Interpolation"
   ]
  },
  {
   "cell_type": "code",
   "execution_count": 9,
   "id": "c1e4afdd",
   "metadata": {},
   "outputs": [
    {
     "data": {
      "image/png": "[encoded data removed]",
      "text/plain": [
       "<Figure size 720x360 with 1 Axes>"
      ]
     },
     "metadata": {
      "needs_background": "light"
     },
     "output_type": "display_data"
    }
   ],
   "source": [
    "weekly_sales.plot(figsize = (10,5))\n",
    "plt.show()"
   ]
  },
  {
   "cell_type": "markdown",
   "id": "d3626f9f",
   "metadata": {},
   "source": [
    "### End !!!"
   ]
  }
 ],
 "metadata": {
  "kernelspec": {
   "display_name": "Python 3 (ipykernel)",
   "language": "python",
   "name": "python3"
  },
  "language_info": {
   "codemirror_mode": {
    "name": "ipython",
    "version": 3
   },
   "file_extension": ".py",
   "mimetype": "text/x-python",
   "name": "python",
   "nbconvert_exporter": "python",
   "pygments_lexer": "ipython3",
   "version": "3.9.7"
  }
 },
 "nbformat": 4,
 "nbformat_minor": 5
}
